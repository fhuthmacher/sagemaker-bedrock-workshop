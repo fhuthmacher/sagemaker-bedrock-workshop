{
 "cells": [
  {
   "cell_type": "markdown",
   "metadata": {},
   "source": [
    "## Bedrock model integration with Langchain Agents \n",
    "### Financial stock analyser example \n",
    "\n",
    "**Reference**: https://medium.com/@pranav.kushare2001/an-ai-based-stock-analyzer-using-llm-and-langchain-7f8a62cbcaaa\n",
    "\n",
    "**Note:** The code in the notebook is based on the medium post, the link for which is provided as reference above. \n",
    "\n",
    "Certain applications demand an adaptable sequence of calls to language models and various utilities depending on user input. The Agent interface enables such flexibility for these applications. An agent has availability to a range of resources and selects which ones to utilize based on the user input. Agents are capable of using multiple tools and utilizing the output of one tool as the input for the next.  \n",
    "\n",
    "There are two primary categories of agents:\n",
    "\n",
    "- Action agents: At each interval, determine the subsequent action utilizing the outputs of all previous actions. \n",
    "- Plan-and-execute agents: Determine the complete order of actions initially, then implement them all without updating the plan.\n",
    "\n",
    "In this notebook, we will demonstrate the use `Zero-shot ReAct` agent based on [`ReAct`](https://arxiv.org/pdf/2205.00445.pdf) framework to select the appropriate tool based exclusively on the tool's description. It requires you provide the description of each tool. "
   ]
  },
  {
   "cell_type": "markdown",
   "metadata": {},
   "source": [
    "## Architecture\n",
    "![overview](./images/agents.jpg)"
   ]
  },
  {
   "cell_type": "markdown",
   "metadata": {},
   "source": [
    "## Setup\n",
    "\n",
    "⚠️ ⚠️ ⚠️ Before running this notebook, ensure you've run the [Bedrock boto3 setup notebook](../00_Intro/bedrock_boto3_setup.ipynb#Prerequisites) notebook. ⚠️ ⚠️ ⚠️\n"
   ]
  },
  {
   "cell_type": "code",
   "execution_count": 127,
   "metadata": {
    "tags": []
   },
   "outputs": [
    {
     "name": "stdout",
     "output_type": "stream",
     "text": [
      "\u001b[31mERROR: pip's dependency resolver does not currently take into account all the packages that are installed. This behaviour is the source of the following dependency conflicts.\n",
      "daal4py 2021.6.0 requires daal==2021.4.0, which is not installed.\n",
      "spyder 5.3.3 requires pyqt5<5.16, which is not installed.\n",
      "spyder 5.3.3 requires pyqtwebengine<5.16, which is not installed.\n",
      "apache-beam 2.52.0 requires numpy<1.25.0,>=1.14.3, but you have numpy 1.26.2 which is incompatible.\n",
      "botocore 1.33.3 requires urllib3<2.1,>=1.25.4; python_version >= \"3.10\", but you have urllib3 2.1.0 which is incompatible.\n",
      "distributed 2022.7.0 requires tornado<6.2,>=6.0.3, but you have tornado 6.3.3 which is incompatible.\n",
      "fastapi 0.96.0 requires pydantic!=1.7,!=1.7.1,!=1.7.2,!=1.7.3,!=1.8,!=1.8.1,<2.0.0,>=1.6.2, but you have pydantic 2.5.2 which is incompatible.\n",
      "hdijupyterutils 0.21.0 requires pandas<2.0.0,>=0.17.1, but you have pandas 2.1.3 which is incompatible.\n",
      "jupyterlab 3.4.4 requires jupyter-server~=1.16, but you have jupyter-server 2.7.3 which is incompatible.\n",
      "jupyterlab-server 2.10.3 requires jupyter-server~=1.4, but you have jupyter-server 2.7.3 which is incompatible.\n",
      "llama-index 0.9.3.post1 requires dataclasses-json<0.6.0,>=0.5.7, but you have dataclasses-json 0.6.3 which is incompatible.\n",
      "llama-index 0.9.3.post1 requires nest-asyncio<2.0.0,>=1.5.8, but you have nest-asyncio 1.5.6 which is incompatible.\n",
      "llama-index 0.9.3.post1 requires urllib3<2, but you have urllib3 2.1.0 which is incompatible.\n",
      "nemoguardrails 0.5.0 requires aiohttp==3.8.5, but you have aiohttp 3.9.1 which is incompatible.\n",
      "nemoguardrails 0.5.0 requires langchain==0.0.251, but you have langchain 0.0.343 which is incompatible.\n",
      "nemoguardrails 0.5.0 requires pydantic~=1.10.6, but you have pydantic 2.5.2 which is incompatible.\n",
      "nemoguardrails 0.5.0 requires typing-extensions==4.5.0, but you have typing-extensions 4.8.0 which is incompatible.\n",
      "numba 0.55.1 requires numpy<1.22,>=1.18, but you have numpy 1.26.2 which is incompatible.\n",
      "panel 0.13.1 requires bokeh<2.5.0,>=2.4.0, but you have bokeh 3.3.0 which is incompatible.\n",
      "sagemaker-datawrangler 0.4.3 requires sagemaker-data-insights==0.4.0, but you have sagemaker-data-insights 0.3.3 which is incompatible.\n",
      "sparkmagic 0.20.4 requires nest-asyncio==1.5.5, but you have nest-asyncio 1.5.6 which is incompatible.\n",
      "spyder 5.3.3 requires ipython<8.0.0,>=7.31.1, but you have ipython 8.16.1 which is incompatible.\n",
      "spyder 5.3.3 requires pylint<3.0,>=2.5.0, but you have pylint 3.0.1 which is incompatible.\n",
      "spyder-kernels 2.3.3 requires ipython<8,>=7.31.1; python_version >= \"3\", but you have ipython 8.16.1 which is incompatible.\u001b[0m\u001b[31m\n",
      "\u001b[0m\u001b[33mWARNING: Running pip as the 'root' user can result in broken permissions and conflicting behaviour with the system package manager. It is recommended to use a virtual environment instead: https://pip.pypa.io/warnings/venv\u001b[0m\u001b[33m\n",
      "\u001b[0m\n",
      "\u001b[1m[\u001b[0m\u001b[34;49mnotice\u001b[0m\u001b[1;39;49m]\u001b[0m\u001b[39;49m A new release of pip is available: \u001b[0m\u001b[31;49m23.2.1\u001b[0m\u001b[39;49m -> \u001b[0m\u001b[32;49m23.3.1\u001b[0m\n",
      "\u001b[1m[\u001b[0m\u001b[34;49mnotice\u001b[0m\u001b[1;39;49m]\u001b[0m\u001b[39;49m To update, run: \u001b[0m\u001b[32;49mpip install --upgrade pip\u001b[0m\n",
      "Note: you may need to restart the kernel to use updated packages.\n"
     ]
    }
   ],
   "source": [
    "%pip install --quiet --force-reinstall \\\n",
    "    langchain"
   ]
  },
  {
   "cell_type": "code",
   "execution_count": 128,
   "metadata": {},
   "outputs": [
    {
     "name": "stdout",
     "output_type": "stream",
     "text": [
      "Create new client\n",
      "  Using region: us-east-1\n",
      "boto3 Bedrock client successfully created!\n",
      "bedrock-runtime(https://bedrock-runtime.us-east-1.amazonaws.com)\n"
     ]
    }
   ],
   "source": [
    "import json\n",
    "import os\n",
    "import sys\n",
    "import boto3\n",
    "\n",
    "module_path = \"..\"\n",
    "sys.path.append(os.path.abspath(module_path))\n",
    "from utils import bedrock, print_ww\n",
    "\n",
    "\n",
    "# ---- ⚠️ Un-comment and edit the below lines as needed for your AWS setup ⚠️ ----\n",
    "\n",
    "# os.environ[\"AWS_DEFAULT_REGION\"] = \"<REGION_NAME>\"  # E.g. \"us-east-1\"\n",
    "# os.environ[\"AWS_PROFILE\"] = \"<YOUR_PROFILE>\"\n",
    "# os.environ[\"BEDROCK_ASSUME_ROLE\"] = \"<YOUR_ROLE_ARN>\"  # E.g. \"arn:aws:...\"\n",
    "\n",
    "\n",
    "boto3_bedrock = bedrock.get_bedrock_client(\n",
    "    assumed_role=os.environ.get(\"BEDROCK_ASSUME_ROLE\", None),\n",
    "    region=os.environ.get(\"AWS_DEFAULT_REGION\", None),\n",
    ")"
   ]
  },
  {
   "cell_type": "code",
   "execution_count": 173,
   "metadata": {},
   "outputs": [],
   "source": [
    "from langchain.llms.bedrock import Bedrock\n",
    "from typing import Optional, List, Any\n",
    "from langchain.callbacks.manager import CallbackManagerForLLMRun\n",
    "\n",
    "class BedrockModelWrapper(Bedrock):\n",
    "    def _call(\n",
    "        self,\n",
    "        prompt: str,\n",
    "        stop: Optional[List[str]] = None,\n",
    "        run_manager: Optional[CallbackManagerForLLMRun] = None,\n",
    "        **kwargs: Any,\n",
    "    ) -> str:\n",
    "        prompt =  prompt #\"\\n\\nHuman: \" + prompt + \"\\n\\nAssistant:\"   ## Satisfy Bedrock-Claude prompt requirements\n",
    "        return super()._call(prompt, stop, run_manager, **kwargs)"
   ]
  },
  {
   "cell_type": "code",
   "execution_count": 148,
   "metadata": {},
   "outputs": [],
   "source": [
    "\n",
    "model_parameter = {\"temperature\": 0.0, \"top_p\": .5, \"max_tokens_to_sample\": 2000}\n",
    "llm = BedrockModelWrapper(model_id=\"anthropic.claude-v2\", client=boto3_bedrock, model_kwargs=model_parameter, verbose=True)\n",
    "\n"
   ]
  },
  {
   "cell_type": "markdown",
   "metadata": {},
   "source": [
    "## Part 1 - Prepare dataset in SQLite Database"
   ]
  },
  {
   "cell_type": "code",
   "execution_count": 142,
   "metadata": {},
   "outputs": [],
   "source": [
    "## database\n",
    "stock_ticker_data=[ \n",
    "    {\n",
    "        \"symbol\" : \"PRAA\",\n",
    "        \"name\" : \"PRA Group, Inc.\",\n",
    "        \"currency\" : \"USD\",\n",
    "        \"stockExchange\" : \"NasdaqGS\",\n",
    "        \"exchangeShortName\" : \"NASDAQ\"\n",
    "    }, \n",
    "    {\n",
    "        \"symbol\" : \"AMZN\",\n",
    "        \"name\" : \"Amazon.com, Inc.\",\n",
    "        \"currency\" : \"USD\",\n",
    "        \"stockExchange\" : \"NasdaqGS\",\n",
    "        \"exchangeShortName\" : \"NASDAQ\"\n",
    "    }, \n",
    "    {\n",
    "        \"symbol\" : \"TSLA\",\n",
    "        \"name\" : \"Tesla Inc.\",\n",
    "        \"currency\" : \"USD\",\n",
    "        \"stockExchange\" : \"NasdaqGS\",\n",
    "        \"exchangeShortName\" : \"NASDAQ\"\n",
    "    }, \n",
    "    {\n",
    "        \"symbol\" : \"PAAS\",\n",
    "        \"name\" : \"Pan American Silver Corp.\",\n",
    "        \"currency\" : \"USD\",\n",
    "        \"stockExchange\" : \"NasdaqGS\",\n",
    "        \"exchangeShortName\" : \"NASDAQ\"\n",
    "    }, \n",
    "    {\n",
    "        \"symbol\" : \"PAAC\",\n",
    "        \"name\" : \"Proficient Alpha Acquisition Corp.\",\n",
    "        \"currency\" : \"USD\",\n",
    "        \"stockExchange\" : \"NasdaqCM\",\n",
    "        \"exchangeShortName\" : \"NASDAQ\"\n",
    "    }, \n",
    "    {\n",
    "        \"symbol\" : \"RYAAY\",\n",
    "        \"name\" : \"Ryanair Holdings plc\",\n",
    "        \"currency\" : \"USD\",\n",
    "        \"stockExchange\" : \"NasdaqGS\",\n",
    "        \"exchangeShortName\" : \"NASDAQ\"\n",
    "    }, \n",
    "    {\n",
    "        \"symbol\" : \"MPAA\",\n",
    "        \"name\" : \"Motorcar Parts of America, Inc.\",\n",
    "        \"currency\" : \"USD\",\n",
    "        \"stockExchange\" : \"NasdaqGS\",\n",
    "        \"exchangeShortName\" : \"NASDAQ\"\n",
    "    }, \n",
    "    {\n",
    "        \"symbol\" : \"STAA\",\n",
    "        \"name\" : \"STAAR Surgical Company\",\n",
    "        \"currency\" : \"USD\",\n",
    "        \"stockExchange\" : \"NasdaqGM\",\n",
    "        \"exchangeShortName\" : \"NASDAQ\"\n",
    "    }, \n",
    "    {\n",
    "        \"symbol\" : \"RBCAA\",\n",
    "        \"name\" : \"Republic Bancorp, Inc.\",\n",
    "        \"currency\" : \"USD\",\n",
    "        \"stockExchange\" : \"NasdaqGS\",\n",
    "        \"exchangeShortName\" : \"NASDAQ\"\n",
    "    }, \n",
    "    {\n",
    "        \"symbol\" : \"AABA\",\n",
    "        \"name\" : \"Altaba Inc.\",\n",
    "        \"currency\" : \"USD\",\n",
    "        \"stockExchange\" : \"NasdaqGS\",\n",
    "        \"exchangeShortName\" : \"NASDAQ\"    \n",
    "    }, \n",
    "    {\n",
    "        \"symbol\" : \"AAXJ\",\n",
    "        \"name\" : \"iShares MSCI All Country Asia ex Japan ETF\",\n",
    "        \"currency\" : \"USD\",\n",
    "        \"stockExchange\" : \"NasdaqGM\",\n",
    "        \"exchangeShortName\" : \"NASDAQ\"\n",
    "    }, \n",
    "    {\n",
    "        \"symbol\" : \"ZNWAA\",\n",
    "        \"name\" : \"Zion Oil & Gas, Inc.\",\n",
    "        \"currency\" : \"USD\",\n",
    "        \"stockExchange\" : \"NasdaqGM\",\n",
    "        \"exchangeShortName\" : \"NASDAQ\"\n",
    "    }\n",
    "]"
   ]
  },
  {
   "cell_type": "code",
   "execution_count": 106,
   "metadata": {},
   "outputs": [],
   "source": [
    "import sqlite3\n",
    "def create_connection(db_file):\n",
    "    \"\"\" create a database connection to the SQLite database\n",
    "        specified by db_file\n",
    "    :param db_file: database file\n",
    "    :return: Connection object or None\n",
    "    \"\"\"\n",
    "    conn = None\n",
    "    try:\n",
    "        conn = sqlite3.connect(db_file)\n",
    "        return conn\n",
    "    except FileExistsError as e:\n",
    "        print(e)\n",
    "\n",
    "    return conn"
   ]
  },
  {
   "cell_type": "code",
   "execution_count": 107,
   "metadata": {},
   "outputs": [],
   "source": [
    "def create_table(conn, create_table_sql):\n",
    "    \"\"\" create a table from the create_table_sql statement\n",
    "    :param conn: Connection object\n",
    "    :param create_table_sql: a CREATE TABLE statement\n",
    "    :return:\n",
    "    \"\"\"\n",
    "    try:\n",
    "        c = conn.cursor()\n",
    "        c.execute(create_table_sql)\n",
    "    except RuntimeError as e:\n",
    "        print(e)"
   ]
  },
  {
   "cell_type": "code",
   "execution_count": 108,
   "metadata": {},
   "outputs": [],
   "source": [
    "db_name = \"stock_ticker_database.db\"\n",
    "conn = create_connection(db_name)"
   ]
  },
  {
   "cell_type": "code",
   "execution_count": 109,
   "metadata": {},
   "outputs": [],
   "source": [
    "create_table_sql = \"\"\"CREATE TABLE IF NOT EXISTS stock_ticker (\n",
    "\tsymbol text PRIMARY KEY,\n",
    "\tname text NOT NULL,\n",
    "\tcurrency text,\n",
    "\tstockExchange text, \n",
    "    exchangeShortName text\n",
    ");\"\"\"\n"
   ]
  },
  {
   "cell_type": "code",
   "execution_count": 110,
   "metadata": {},
   "outputs": [],
   "source": [
    "# create tables\n",
    "if conn is not None:\n",
    "    # create projects table\n",
    "    create_table(conn, create_table_sql)\n",
    "else:\n",
    "    print(\"Error! cannot create the database connection.\")\n"
   ]
  },
  {
   "cell_type": "code",
   "execution_count": 132,
   "metadata": {},
   "outputs": [],
   "source": [
    "def insert_data(data):\n",
    "    for item in data:\n",
    "        conn.execute(\"INSERT INTO stock_ticker (symbol, name, currency,stockExchange, exchangeShortName ) VALUES (?, ?, ?, ?,?)\", \n",
    "                    (item[\"symbol\"], item[\"name\"], item[\"currency\"], item[\"stockExchange\"],item[\"exchangeShortName\"]))\n",
    "    conn.commit()\n",
    "    conn.close()"
   ]
  },
  {
   "cell_type": "code",
   "execution_count": 113,
   "metadata": {},
   "outputs": [],
   "source": [
    "\n",
    "# uncomment to insert data if the data doesn't exist in the table.\n",
    "#insert_data(stock_ticker_data)"
   ]
  },
  {
   "cell_type": "markdown",
   "metadata": {},
   "source": [
    "## Part 2 - Database Tools\n",
    "A common use of an agent is to look up a record in a database. It would not be practical to include the full database in the context, so you can provide tools that perform actions against the datebase that eliminates hallucinations while maintining the conversational interactions.\n",
    "\n",
    "### SQL Database Agent\n",
    "Langchain has a SQL Database agent for demonstrating how to ask questions of a DB to get answers. For details, read this document: https://python.langchain.com/docs/integrations/toolkits/sql_database\n",
    "\n",
    "The agent will load the schema of the DB into context and generate SQL statements based on natural language questions. The SQL statement is then executed against the database and the results returned.\n",
    "\n",
    "### Data Agents\n",
    "While the SQL Database agent is useful for data exploration and generating queries, there are also cases where you want to \n",
    "For specific entities, a tool can be created to pull data from the database to provide context next steps in the prompt.\n",
    "\n",
    "The following example will simulate a DB query for a customer in the customer table. Replace this code with a lookup ib DynamoDB or a relation database."
   ]
  },
  {
   "cell_type": "code",
   "execution_count": 149,
   "metadata": {},
   "outputs": [],
   "source": [
    "from langchain.utilities import SQLDatabase\n",
    "from langchain_experimental.sql import SQLDatabaseChain"
   ]
  },
  {
   "cell_type": "code",
   "execution_count": 150,
   "metadata": {},
   "outputs": [],
   "source": [
    "db = SQLDatabase.from_uri(\"sqlite:///stock_ticker_database.db\")\n"
   ]
  },
  {
   "cell_type": "code",
   "execution_count": 154,
   "metadata": {},
   "outputs": [],
   "source": [
    "from langchain.prompts.prompt import PromptTemplate\n",
    "\n",
    "_DEFAULT_TEMPLATE = \"\"\"Human: Given an input question, first create a syntactically correct {dialect} query to run, then look at the results of the query and return the answer.\n",
    "<format>\n",
    "Question: \"Question here\"\n",
    "SQLQuery: \"SQL Query to run\"\n",
    "SQLResult: \"Result of the SQLQuery\"\n",
    "Answer: \"Result of SQLResult only\"\n",
    "</format>\n",
    "\n",
    "\n",
    "Assistant: Understood, I will use the above format and only provide the answer.\n",
    "\n",
    "Human: Only use the following tables:\n",
    "<tables>\n",
    "CREATE TABLE stock_ticker (\n",
    "\tsymbol text PRIMARY KEY,\n",
    "\tname text NOT NULL,\n",
    "\tcurrency text,\n",
    "\tstockExchange text, \n",
    "    exchangeShortName text\n",
    ")\n",
    "</tables>\n",
    "\n",
    "Assistant: Understood, I will only use the above tables.\n",
    "\n",
    "Human: If someone asks for the table stock ticker table, they really mean the stock_ticker table.\n",
    "<examples>\n",
    "Question: \n",
    "        What is the ticker symbol for Amazon in stock ticker table?\n",
    "        Params: \n",
    "        Company name (name): Amazon\n",
    "        \n",
    "SQLQuery:SELECT symbol FROM stock_ticker WHERE name LIKE '%Amazon%'\n",
    "\n",
    "</examples>\n",
    "\n",
    "Question: {input}\n",
    "\n",
    "\"\"\"\n",
    "\n",
    "PROMPT = PromptTemplate(\n",
    "    input_variables=[\"input\", \"dialect\"], template=_DEFAULT_TEMPLATE\n",
    ")"
   ]
  },
  {
   "cell_type": "code",
   "execution_count": 155,
   "metadata": {},
   "outputs": [],
   "source": [
    "db_chain = SQLDatabaseChain.from_llm(\n",
    "    llm, \n",
    "    db, \n",
    "    verbose=True, \n",
    "    return_intermediate_steps=True, \n",
    "    prompt=PROMPT, \n",
    "    )\n"
   ]
  },
  {
   "cell_type": "code",
   "execution_count": 174,
   "metadata": {},
   "outputs": [
    {
     "name": "stdout",
     "output_type": "stream",
     "text": [
      "\n",
      "\n",
      "\u001b[1m> Entering new SQLDatabaseChain chain...\u001b[0m\n",
      "What is the ticker symbol for Tesla in stock ticker table? \n",
      "\n",
      "Assistant:\n",
      "SQLQuery:\u001b[32;1m\u001b[1;3mSELECT symbol FROM stock_ticker WHERE name LIKE '%Tesla%'\u001b[0m\n",
      "SQLResult: \u001b[33;1m\u001b[1;3m[('TSLA',)]\u001b[0m\n",
      "Answer:\u001b[32;1m\u001b[1;3mTSLA\u001b[0m\n",
      "\u001b[1m> Finished chain.\u001b[0m\n"
     ]
    }
   ],
   "source": [
    "response = db_chain(\"What is the ticker symbol for Tesla in stock ticker table? \\n\\nAssistant:\")\n"
   ]
  },
  {
   "cell_type": "code",
   "execution_count": 157,
   "metadata": {},
   "outputs": [
    {
     "data": {
      "text/plain": [
       "'TSLA'"
      ]
     },
     "execution_count": 157,
     "metadata": {},
     "output_type": "execute_result"
    }
   ],
   "source": [
    "response['result']"
   ]
  },
  {
   "cell_type": "code",
   "execution_count": 158,
   "metadata": {},
   "outputs": [
    {
     "name": "stdout",
     "output_type": "stream",
     "text": [
      "[{'input': 'What is the ticker symbol for Tesla in stock ticker table? \\n\\nAssistant:\\nSQLQuery:', 'top_k': '5', 'dialect': 'sqlite', 'table_info': '\\nCREATE TABLE stock_ticker (\\n\\tsymbol TEXT, \\n\\tname TEXT NOT NULL, \\n\\tcurrency TEXT, \\n\\t\"stockExchange\" TEXT, \\n\\t\"exchangeShortName\" TEXT, \\n\\tPRIMARY KEY (symbol)\\n)\\n\\n/*\\n3 rows from stock_ticker table:\\nsymbol\\tname\\tcurrency\\tstockExchange\\texchangeShortName\\nPRAA\\tPRA Group, Inc.\\tUSD\\tNasdaqGS\\tNASDAQ\\nAMZN\\tAmazon.com, Inc.\\tUSD\\tNasdaqGS\\tNASDAQ\\nTSLA\\tTesla Inc.\\tUSD\\tNasdaqGS\\tNASDAQ\\n*/', 'stop': ['\\nSQLResult:']}, \"SELECT symbol FROM stock_ticker WHERE name LIKE '%Tesla%'\", {'sql_cmd': \"SELECT symbol FROM stock_ticker WHERE name LIKE '%Tesla%'\"}, \"[('TSLA',)]\", {'input': \"What is the ticker symbol for Tesla in stock ticker table? \\n\\nAssistant:\\nSQLQuery:SELECT symbol FROM stock_ticker WHERE name LIKE '%Tesla%'\\nSQLResult: [('TSLA',)]\\nAnswer:\", 'top_k': '5', 'dialect': 'sqlite', 'table_info': '\\nCREATE TABLE stock_ticker (\\n\\tsymbol TEXT, \\n\\tname TEXT NOT NULL, \\n\\tcurrency TEXT, \\n\\t\"stockExchange\" TEXT, \\n\\t\"exchangeShortName\" TEXT, \\n\\tPRIMARY KEY (symbol)\\n)\\n\\n/*\\n3 rows from stock_ticker table:\\nsymbol\\tname\\tcurrency\\tstockExchange\\texchangeShortName\\nPRAA\\tPRA Group, Inc.\\tUSD\\tNasdaqGS\\tNASDAQ\\nAMZN\\tAmazon.com, Inc.\\tUSD\\tNasdaqGS\\tNASDAQ\\nTSLA\\tTesla Inc.\\tUSD\\tNasdaqGS\\tNASDAQ\\n*/', 'stop': ['\\nSQLResult:']}, 'TSLA']\n"
     ]
    }
   ],
   "source": [
    "print(response['intermediate_steps'])"
   ]
  },
  {
   "cell_type": "markdown",
   "metadata": {},
   "source": [
    "## Part 3 - Helper functions which will be called by ReAct Agent."
   ]
  },
  {
   "cell_type": "code",
   "execution_count": 175,
   "metadata": {},
   "outputs": [],
   "source": [
    "import json\n",
    "import time\n",
    "from bs4 import BeautifulSoup\n",
    "import re\n",
    "import requests\n",
    "\n",
    "from langchain.agents import load_tools, AgentType, Tool, initialize_agent\n",
    "from pandas_datareader import data as pdr\n",
    "from datetime import date\n",
    "import yfinance as yf\n",
    "yf.pdr_override() \n",
    "import pandas as pd\n",
    "from datetime import datetime, timedelta\n",
    "\n",
    "import warnings\n",
    "import os\n",
    "warnings.filterwarnings(\"ignore\")\n",
    "from langchain.tools import DuckDuckGoSearchRun\n",
    "from langchain.prompts.chat import ChatPromptTemplate\n",
    "from langchain.chains import LLMChain\n",
    "\n",
    "def get_stock_ticker(query):\n",
    "    template = \"\"\"You are a helpful assistant who extract company name from the human input.Please only output the company\"\"\"\n",
    "    human_template = \"{text}\"\n",
    "\n",
    "    chat_prompt = ChatPromptTemplate.from_messages([\n",
    "        (\"system\", template),\n",
    "        (\"human\", human_template),\n",
    "    ])\n",
    "\n",
    "    llm_chain = LLMChain(\n",
    "        llm=llm,\n",
    "        prompt=chat_prompt\n",
    "    )\n",
    "\n",
    "    company_name=llm_chain(query)['text'].strip()\n",
    "    company_ticker = db_chain(\"What is the ticker symbol for \" + str(company_name) + \" in stock ticker table? \\n\\nAssistant:\")\n",
    "    return company_name, company_ticker['result']\n",
    "\n",
    "def get_stock_price(ticker, history=10):\n",
    "    print (ticker)\n",
    "    today = date.today()\n",
    "    start_date = today - timedelta(days=history)\n",
    "    data = pdr.get_data_yahoo(ticker, start=start_date, end=today)\n",
    "    dataname= ticker+'_'+str(today)\n",
    "    return data, dataname\n",
    "\n",
    "# Fetch top 5 google news for given company name\n",
    "def google_query(search_term):\n",
    "    if \"news\" not in search_term:\n",
    "        search_term=search_term+\" stock news\"\n",
    "    url=f\"https://www.google.com/search?q={search_term}\"\n",
    "    url=re.sub(r\"\\s\",\"+\",url)\n",
    "    return url\n",
    "\n",
    "def get_recent_stock_news(company_name):\n",
    "    headers={'User-Agent': 'Mozilla/5.0 (Windows NT 10.0; Win64; x64) AppleWebKit/537.36 (KHTML, like Gecko) Chrome/102.0.0.0 Safari/537.36'}\n",
    "\n",
    "    g_query=google_query(company_name)\n",
    "    res=requests.get(g_query,headers=headers).text\n",
    "    soup=BeautifulSoup(res,\"html.parser\")\n",
    "    news=[]\n",
    "    for n in soup.find_all(\"div\",\"n0jPhd ynAwRc tNxQIb nDgy9d\"):\n",
    "        news.append(n.text)\n",
    "    for n in soup.find_all(\"div\",\"IJl0Z\"):\n",
    "        news.append(n.text)\n",
    "\n",
    "    if len(news)>6:\n",
    "        news=news[:4]\n",
    "    else:\n",
    "        news=news\n",
    "    news_string=\"\"\n",
    "    for i,n in enumerate(news):\n",
    "        news_string+=f\"{i}. {n}\\n\"\n",
    "    top5_news=\"Recent News:\\n\\n\"+news_string\n",
    "    \n",
    "    return top5_news\n",
    "\n",
    "def stock_news_search(company_name):\n",
    "    search=DuckDuckGoSearchRun()\n",
    "    return search(\"Stock news about \" + company_name)\n",
    "\n",
    "\n",
    "# Get financial statements from Yahoo Finance\n",
    "def get_financial_statements(ticker):\n",
    "    if \".\" in ticker:\n",
    "        ticker=ticker.split(\".\")[0]\n",
    "    else:\n",
    "        ticker=ticker\n",
    "    company = yf.Ticker(ticker)\n",
    "    balance_sheet = company.balance_sheet\n",
    "    if balance_sheet.shape[1]>=3:\n",
    "        balance_sheet=balance_sheet.iloc[:,:3]    # Only captures last 3 years of data\n",
    "    balance_sheet=balance_sheet.dropna(how=\"any\")\n",
    "    balance_sheet = balance_sheet.to_string()\n",
    "    return balance_sheet\n",
    "\n",
    "def anazlyze_stock(query):\n",
    "    company_name,ticker=get_stock_ticker(query)\n",
    "    print({\"Query\":query,\"company_name\":company_name,\"Ticker\":ticker})\n",
    "    stock_data=get_stock_price(ticker,history=10)\n",
    "    stock_financials=get_financial_statements(ticker)\n",
    "    stock_news=get_recent_stock_news(company_name)\n",
    "\n",
    "    available_information=f\"Stock Price: {stock_data}\\n\\nStock Financials: {stock_financials}\\n\\nStock News: {stock_news}\"\n",
    "    analysis=llm(f\"\"\"\\n\\nHuman: Give detail stock analysis, Use the available data and provide investment recommendation. \\\n",
    "             The user is fully aware about the investment risk, dont include any kind of warning like 'It is recommended to conduct further research and analysis or consult with a financial advisor before making an investment decision' in the answer \\\n",
    "             User question: {query} \\\n",
    "             You have the following information available about {company_name}. Write (5-8) pointwise investment analysis to answer user query, At the end conclude with proper explaination.Try to Give positives and negatives  : \\\n",
    "              {available_information} \"\"\"\n",
    "             )\n",
    "    return analysis"
   ]
  },
  {
   "cell_type": "code",
   "execution_count": 176,
   "metadata": {},
   "outputs": [
    {
     "name": "stdout",
     "output_type": "stream",
     "text": [
      "\n",
      "\n",
      "\u001b[1m> Entering new SQLDatabaseChain chain...\u001b[0m\n",
      "What is the ticker symbol for Amazon in stock ticker table? \n",
      "\n",
      "Assistant:\n",
      "SQLQuery:\u001b[32;1m\u001b[1;3mSELECT symbol FROM stock_ticker WHERE name LIKE '%Amazon%'\u001b[0m\n",
      "SQLResult: \u001b[33;1m\u001b[1;3m[('AMZN',)]\u001b[0m\n",
      "Answer:\u001b[32;1m\u001b[1;3mAMZN\u001b[0m\n",
      "\u001b[1m> Finished chain.\u001b[0m\n"
     ]
    }
   ],
   "source": [
    "company_name, company_ticker = get_stock_ticker(\"What is the main business of Amazon?\")"
   ]
  },
  {
   "cell_type": "code",
   "execution_count": 177,
   "metadata": {},
   "outputs": [
    {
     "name": "stdout",
     "output_type": "stream",
     "text": [
      "Amazon\n",
      "AMZN\n"
     ]
    }
   ],
   "source": [
    "print(company_name)\n",
    "print(company_ticker)"
   ]
  },
  {
   "cell_type": "code",
   "execution_count": 178,
   "metadata": {},
   "outputs": [
    {
     "name": "stdout",
     "output_type": "stream",
     "text": [
      "AMZN\n",
      "[*********************100%%**********************]  1 of 1 completed\n",
      "(                  Open        High         Low       Close   Adj Close  \\\n",
      "Date                                                                     \n",
      "2023-11-20  145.130005  146.630005  144.729996  146.130005  146.130005   \n",
      "2023-11-21  143.910004  144.050003  141.500000  143.899994  143.899994   \n",
      "2023-11-22  144.570007  147.740005  144.570007  146.710007  146.710007   \n",
      "2023-11-24  146.699997  147.199997  145.320007  146.740005  146.740005   \n",
      "2023-11-27  147.529999  149.259995  146.880005  147.729996  147.729996   \n",
      "2023-11-28  146.979996  147.600006  145.529999  147.029999  147.029999   \n",
      "2023-11-29  147.850006  148.539993  145.970001  146.320007  146.320007   \n",
      "\n",
      "              Volume  \n",
      "Date                  \n",
      "2023-11-20  41951200  \n",
      "2023-11-21  71226000  \n",
      "2023-11-22  45669100  \n",
      "2023-11-24  22378400  \n",
      "2023-11-27  53762400  \n",
      "2023-11-28  42711700  \n",
      "2023-11-29  40569400  , 'AMZN_2023-11-30')\n"
     ]
    }
   ],
   "source": [
    "print(get_stock_price(\"AMZN\"))"
   ]
  },
  {
   "cell_type": "code",
   "execution_count": 179,
   "metadata": {},
   "outputs": [
    {
     "name": "stdout",
     "output_type": "stream",
     "text": [
      "Recent News:\n",
      "\n",
      "0. Amazon Stock Is Approaching a New High. Instead of Buying Shares, Do This.\n",
      "1. Amazon.com Inc. stock outperforms competitors despite losses on the day\n",
      "2. Amazon's Stock Has Already Made Multiple Millionaires. Could It Do It Again?\n",
      "\n"
     ]
    }
   ],
   "source": [
    "print(get_recent_stock_news(\"Amazon\"))\n"
   ]
  },
  {
   "cell_type": "code",
   "execution_count": 180,
   "metadata": {},
   "outputs": [
    {
     "name": "stdout",
     "output_type": "stream",
     "text": [
      "                                                         2022-12-31      2021-12-31      2020-12-31\n",
      "Treasury Shares Number                                  515000000.0     460000000.0     480000000.0\n",
      "Ordinary Shares Number                                10242000000.0   10180000000.0   10060000000.0\n",
      "Share Issued                                          10757000000.0   10640000000.0   10540000000.0\n",
      "Total Debt                                           140118000000.0  116395000000.0   84389000000.0\n",
      "Tangible Book Value                                  125755000000.0  122874000000.0   78387000000.0\n",
      "Invested Capital                                     213193000000.0  186989000000.0  125220000000.0\n",
      "Working Capital                                       -8602000000.0   19314000000.0    6348000000.0\n",
      "Net Tangible Assets                                  125755000000.0  122874000000.0   78387000000.0\n",
      "Capital Lease Obligations                             72968000000.0   67651000000.0   52573000000.0\n",
      "Common Stock Equity                                  146043000000.0  138245000000.0   93404000000.0\n",
      "Total Capitalization                                 213193000000.0  186989000000.0  125220000000.0\n",
      "Total Equity Gross Minority Interest                 146043000000.0  138245000000.0   93404000000.0\n",
      "Stockholders Equity                                  146043000000.0  138245000000.0   93404000000.0\n",
      "Gains Losses Not Affecting Retained Earnings          -4487000000.0   -1376000000.0    -180000000.0\n",
      "Treasury Stock                                         7837000000.0    1837000000.0    1837000000.0\n",
      "Retained Earnings                                     83193000000.0   85915000000.0   52551000000.0\n",
      "Additional Paid In Capital                            75066000000.0   55538000000.0   42865000000.0\n",
      "Capital Stock                                           108000000.0       5000000.0       5000000.0\n",
      "Common Stock                                            108000000.0       5000000.0       5000000.0\n",
      "Total Liabilities Net Minority Interest              316632000000.0  282304000000.0  227791000000.0\n",
      "Total Non Current Liabilities Net Minority Interest  161239000000.0  140038000000.0  101406000000.0\n",
      "Other Non Current Liabilities                         21121000000.0   23643000000.0   17017000000.0\n",
      "Long Term Debt And Capital Lease Obligation          140118000000.0  116395000000.0   84389000000.0\n",
      "Long Term Capital Lease Obligation                    72968000000.0   67651000000.0   52573000000.0\n",
      "Long Term Debt                                        67150000000.0   48744000000.0   31816000000.0\n",
      "Current Liabilities                                  155393000000.0  142266000000.0  126385000000.0\n",
      "Current Deferred Liabilities                          13227000000.0   11827000000.0    9708000000.0\n",
      "Current Deferred Revenue                              13227000000.0   11827000000.0    9708000000.0\n",
      "Payables And Accrued Expenses                        142166000000.0  130439000000.0  116677000000.0\n",
      "Current Accrued Expenses                              62566000000.0   51775000000.0   44138000000.0\n",
      "Payables                                              79600000000.0   78664000000.0   72539000000.0\n",
      "Accounts Payable                                      79600000000.0   78664000000.0   72539000000.0\n",
      "Total Assets                                         462675000000.0  420549000000.0  321195000000.0\n",
      "Total Non Current Assets                             315884000000.0  258969000000.0  188462000000.0\n",
      "Other Non Current Assets                              42758000000.0   27235000000.0   22778000000.0\n",
      "Goodwill And Other Intangible Assets                  20288000000.0   15371000000.0   15017000000.0\n",
      "Goodwill                                              20288000000.0   15371000000.0   15017000000.0\n",
      "Net PPE                                              252838000000.0  216363000000.0  150667000000.0\n",
      "Accumulated Depreciation                             -97015000000.0  -78519000000.0  -60434000000.0\n",
      "Gross PPE                                            252838000000.0  216363000000.0  150667000000.0\n",
      "Construction In Progress                              30020000000.0   24895000000.0   15228000000.0\n",
      "Other Properties                                     252838000000.0  216363000000.0  150667000000.0\n",
      "Land And Improvements                                 91650000000.0   81104000000.0   57324000000.0\n",
      "Properties                                                      0.0             0.0             0.0\n",
      "Current Assets                                       146791000000.0  161580000000.0  132733000000.0\n",
      "Inventory                                             34405000000.0   32640000000.0   23795000000.0\n",
      "Receivables                                           42360000000.0   32891000000.0   24542000000.0\n",
      "Accounts Receivable                                   42360000000.0   32891000000.0   24542000000.0\n",
      "Allowance For Doubtful Accounts Receivable            -1400000000.0   -1000000000.0   -1000000000.0\n",
      "Gross Accounts Receivable                             43760000000.0   33891000000.0   25542000000.0\n",
      "Cash Cash Equivalents And Short Term Investments      70026000000.0   96049000000.0   84396000000.0\n",
      "Other Short Term Investments                          16138000000.0   59829000000.0   42274000000.0\n",
      "Cash And Cash Equivalents                             53888000000.0   36220000000.0   42122000000.0\n"
     ]
    }
   ],
   "source": [
    "print(get_financial_statements(\"AMZN\"))"
   ]
  },
  {
   "cell_type": "code",
   "execution_count": 181,
   "metadata": {},
   "outputs": [
    {
     "data": {
      "text/plain": [
       "\"Amazon is closing in on $150 per share as investors react positively to reports of strong Black Friday and Cyber Monday online sales. Despite ongoing macroeconomic uncertainties, Amazon's... Shares of Amazon are down around 1.5% in afternoon trading. It comes after Bezos last week unloaded about $240 million worth of Amazon shares, according to financial filings. The transactions... AMZN.O Latest Trade 146.74 USD 0.03 +0.02% As of Nov 24, 2023. Values delayed up to 15 minutes Today's Range 145.32 - 147.20 52 Week Range 81.43 - 147.74 Profile Charts Financials Key Metrics... Amazon-stock Amazon Stock , AMZN 146.67 -0.07 -0.05% After-market 04:58:56 PM EDT 11/24/2023 NAS Add to watchlist 146.74 +0.03 +0.02% Official Close 01:00:00 PM EDT 11/24/2023 NAS News... Shares of Amazon closed up more than 6% Friday after the company released third-quarter earnings that beat analysts' estimates and showed the company's cost-cutting efforts are working....\""
      ]
     },
     "execution_count": 181,
     "metadata": {},
     "output_type": "execute_result"
    }
   ],
   "source": [
    "stock_news_search(\"Amazon\")"
   ]
  },
  {
   "cell_type": "code",
   "execution_count": 182,
   "metadata": {},
   "outputs": [
    {
     "name": "stdout",
     "output_type": "stream",
     "text": [
      "\n",
      "\n",
      "\u001b[1m> Entering new SQLDatabaseChain chain...\u001b[0m\n",
      "What is the ticker symbol for Amazon in stock ticker table? \n",
      "\n",
      "Assistant:\n",
      "SQLQuery:\u001b[32;1m\u001b[1;3mSELECT symbol FROM stock_ticker WHERE name LIKE '%Amazon%'\u001b[0m\n",
      "SQLResult: \u001b[33;1m\u001b[1;3m[('AMZN',)]\u001b[0m\n",
      "Answer:\u001b[32;1m\u001b[1;3mAMZN\u001b[0m\n",
      "\u001b[1m> Finished chain.\u001b[0m\n",
      "{'Query': 'Is Amazon a good investment choice right now?', 'company_name': 'Amazon', 'Ticker': 'AMZN'}\n",
      "AMZN\n",
      "[*********************100%%**********************]  1 of 1 completed\n"
     ]
    }
   ],
   "source": [
    "analyze_result=anazlyze_stock(\"Is Amazon a good investment choice right now?\")"
   ]
  },
  {
   "cell_type": "code",
   "execution_count": 183,
   "metadata": {},
   "outputs": [
    {
     "name": "stdout",
     "output_type": "stream",
     "text": [
      " Here is a 5 point investment analysis on Amazon:\n",
      "\n",
      "1. Strong revenue growth: Amazon has shown strong revenue growth over the last few years. Revenue increased from $386 billion in 2020 to $469 billion in 2021. This shows the company's ability to grow its top line consistently. \n",
      "\n",
      "2. High profitability: Amazon has high operating margins of around 5%. This shows the company's ability to translate revenue growth into profits efficiently. Net income has grown from $21 billion in 2020 to $33 billion in 2021.\n",
      "\n",
      "3. Leadership in e-commerce: Amazon is the undisputed leader in global e-commerce with a market share of over 40% in the US. This provides a solid moat and the ability to drive future growth as online shopping penetrates further.\n",
      "\n",
      "4. Growth engines like AWS: Amazon's cloud computing business AWS is growing at over 30% annually and delivers high margins. This provides a strong growth driver besides retail.\n",
      "\n",
      "5. Reasonable valuation: Despite growth, the stock trades at a forward P/E of around 50 which is not too demanding considering the growth rates. The P/E is also lower than other tech giants like Google.\n",
      "\n",
      "Overall, Amazon appears to be a good investment choice currently based on its strong competitive advantages in e-commerce and cloud computing which are driving consistent growth. The valuation also seems reasonable. However, investors should be aware of potential antitrust regulations which could impact future growth. On balance, Amazon seems to be a good addition for a growth-oriented portfolio.\n"
     ]
    }
   ],
   "source": [
    "print(analyze_result)"
   ]
  },
  {
   "cell_type": "markdown",
   "metadata": {},
   "source": [
    "## Part 4 - Using ReAct: Synergizing Reasoning and Acting in Language Models Framework\n",
    "Large language models can generate both explanations for their reasoning and task-specific responses in an alternating fashion. \n",
    "\n",
    "Producing reasoning explanations enables the model to infer, monitor, and revise action plans, and even handle unexpected scenarios. The action step allows the model to interface with and obtain information from external sources such as knowledge bases or environments.\n",
    "\n",
    "The ReAct framework could enable large language models to interact with external tools to obtain additional information that results in more accurate and fact-based responses."
   ]
  },
  {
   "cell_type": "code",
   "execution_count": 184,
   "metadata": {
    "tags": []
   },
   "outputs": [],
   "source": [
    "from langchain.agents import load_tools\n",
    "from langchain.agents import initialize_agent, Tool\n",
    "from langchain.agents import AgentType\n",
    "from langchain import LLMMathChain"
   ]
  },
  {
   "cell_type": "code",
   "execution_count": 185,
   "metadata": {
    "tags": []
   },
   "outputs": [],
   "source": [
    "llm = BedrockModelWrapper(model_id=\"anthropic.claude-v2\", client=boto3_bedrock, model_kwargs=model_parameter)"
   ]
  },
  {
   "cell_type": "code",
   "execution_count": 186,
   "metadata": {
    "tags": []
   },
   "outputs": [],
   "source": [
    "# Making tool list\n",
    "\n",
    "tools=[\n",
    "    Tool(\n",
    "        name=\"get company ticker\",\n",
    "        func=get_stock_ticker,\n",
    "        description=\"Get the company stock ticker\"\n",
    "    ),\n",
    "    Tool(\n",
    "        name=\"get stock data\",\n",
    "        func=get_stock_price,\n",
    "        description=\"Use when you are asked to evaluate or analyze a stock. This will output historic share price data. You should input the the stock ticker to it \"\n",
    "    ),\n",
    "    Tool(\n",
    "        name=\"get recent news\",\n",
    "        func=get_recent_stock_news,\n",
    "        description=\"Use this to fetch recent news about stocks\"\n",
    "    ),\n",
    "\n",
    "    Tool(\n",
    "        name=\"get financial statements\",\n",
    "        func=get_financial_statements,\n",
    "        description=\"Use this to get financial statement of the company. With the help of this data companys historic performance can be evaluaated. You should input stock ticker to it\"\n",
    "    ) \n",
    "\n",
    "\n",
    "]"
   ]
  },
  {
   "cell_type": "code",
   "execution_count": 187,
   "metadata": {},
   "outputs": [],
   "source": [
    "# Modify prompt to using Human: tag, and add predefine evaluation steps\n",
    "\n",
    "updated_prompt=\"\"\"Human: You are a financial advisor. Give stock recommendations for given query based on following instructions. \n",
    "<instructions>\n",
    "Answer the following questions as best you can. You have access to the following tools:\n",
    "\n",
    "get company ticker: Use when you need to extract company name and stock ticker. This tool will output company name and stock ticker. You should input the human input to it.\n",
    "get stock data: Use when you are asked to evaluate or analyze a stock. This will output historic share price data. You should input the stock ticker to it.\n",
    "get recent news: Use this to fetch recent news about stocks. This will output company stock news. You should innput the company name to it.\n",
    "get financial statements: Use this to get financial statement of the company. With the help of this data companys historic performance can be evaluaated. You should input stock ticker to it\n",
    "</instructions>\n",
    "\n",
    "<steps>\n",
    "Note- if you fail in satisfying any of the step below, Just move to next one\n",
    "1) Use \"get company ticker\" tool to get the company name and stock ticker. Output- company name and stock ticker\n",
    "2) Use \"get stock data\" tool to gather stock info. Output- Stock data\n",
    "3) Use \"get recent news\" tool to search for latest stock realted news. Output- Stock news\n",
    "4) Use \"get financial statements\" tool to get company's historic financial data. Output- Financial statement\n",
    "5) Analyze the stock based on gathered data and give detail analysis for investment choice. provide numbers and reasons to justify your answer. Output- Detailed stock Analysis\n",
    "</steps>\n",
    "\n",
    "Use the following format:\n",
    "Question: the input question you must answer\n",
    "Thought: you should always think about what to do, Also try to follow steps mentioned above\n",
    "Action: the action to take, should be one of [get company ticker, get stock data, get recent news, get financial statements]\n",
    "Action Input: the input to the action\n",
    "Observation: the result of the action\n",
    "... (this Thought/Action/Action Input/Observation can repeat N times)\n",
    "Thought: I now know the final answer\n",
    "Final Answer: the final answer to the original input question\n",
    "\n",
    "Question: {input}\n",
    "\n",
    "Assistant:\n",
    "{agent_scratchpad}\n",
    "\n",
    "\"\"\"\n"
   ]
  },
  {
   "cell_type": "code",
   "execution_count": 188,
   "metadata": {},
   "outputs": [],
   "source": [
    "from langchain.agents import initialize_agent \n",
    "\n",
    "zero_shot_agent=initialize_agent(\n",
    "    llm=llm,\n",
    "    agent=\"zero-shot-react-description\",\n",
    "    tools=tools,\n",
    "    verbose=True,\n",
    "    max_iteration=2,\n",
    "    return_intermediate_steps=True,\n",
    "    handle_parsing_errors=True,\n",
    ")\n",
    "\n",
    "zero_shot_agent.agent.llm_chain.prompt.template=updated_prompt"
   ]
  },
  {
   "cell_type": "code",
   "execution_count": 189,
   "metadata": {},
   "outputs": [
    {
     "name": "stdout",
     "output_type": "stream",
     "text": [
      "\n",
      "\n",
      "\u001b[1m> Entering new AgentExecutor chain...\u001b[0m\n",
      "\u001b[32;1m\u001b[1;3m Here is my analysis for Tesla stock:\n",
      "\n",
      "Thought: I need to first get the company name and ticker symbol for Tesla.\n",
      "Action: get company ticker  \n",
      "Action Input: Tesla\u001b[0m\n",
      "\n",
      "\u001b[1m> Entering new SQLDatabaseChain chain...\u001b[0m\n",
      "What is the ticker symbol for Tesla in stock ticker table? \n",
      "\n",
      "Assistant:\n",
      "SQLQuery:\u001b[32;1m\u001b[1;3mSELECT symbol FROM stock_ticker WHERE name LIKE '%Tesla%'\u001b[0m\n",
      "SQLResult: \u001b[33;1m\u001b[1;3m[('TSLA',)]\u001b[0m\n",
      "Answer:\u001b[32;1m\u001b[1;3mTSLA\u001b[0m\n",
      "\u001b[1m> Finished chain.\u001b[0m\n",
      "\n",
      "Observation: \u001b[36;1m\u001b[1;3m('Tesla', 'TSLA')\u001b[0m\n",
      "Thought:\u001b[32;1m\u001b[1;3m\n",
      "Thought: Now I will get Tesla's stock data to analyze.\n",
      "Action: get stock data\n",
      "Action Input: TSLA\u001b[0mTSLA\n",
      "[*********************100%%**********************]  1 of 1 completed\n",
      "\n",
      "Observation: \u001b[33;1m\u001b[1;3m(                  Open        High         Low       Close   Adj Close  \\\n",
      "Date                                                                     \n",
      "2023-11-20  234.039993  237.100006  231.020004  235.600006  235.600006   \n",
      "2023-11-21  235.039993  243.619995  233.339996  241.199997  241.199997   \n",
      "2023-11-22  242.039993  244.009995  231.399994  234.210007  234.210007   \n",
      "2023-11-24  233.750000  238.750000  232.330002  235.449997  235.449997   \n",
      "2023-11-27  236.889999  238.330002  232.100006  236.080002  236.080002   \n",
      "2023-11-28  236.679993  247.000000  234.009995  246.720001  246.720001   \n",
      "2023-11-29  249.210007  252.750000  242.759995  244.139999  244.139999   \n",
      "\n",
      "               Volume  \n",
      "Date                   \n",
      "2023-11-20  116320100  \n",
      "2023-11-21  122288000  \n",
      "2023-11-22  117950600  \n",
      "2023-11-24   65125200  \n",
      "2023-11-27  112031800  \n",
      "2023-11-28  148549900  \n",
      "2023-11-29  135099900  , 'TSLA_2023-11-30')\u001b[0m\n",
      "Thought:\u001b[32;1m\u001b[1;3m\n",
      "Thought: Now I will get recent Tesla news to see if there are any major events.\n",
      "Action: get recent news\n",
      "Action Input: Tesla\u001b[0m\n",
      "Observation: \u001b[38;5;200m\u001b[1;3mRecent News:\n",
      "\n",
      "0. Tesla Cybertruck: Top 4 things investors need to know\n",
      "1. Tesla Will Go Down After the Cybertruck Launch. And Ford and GM? Up, \n",
      "Probably.\n",
      "2. Tesla Cybertruck Deliveries Begin Thursday With Five Big Questions \n",
      "Remaining Unanswered\n",
      "3. Tesla Stock (NASDAQ:TSLA): Cybertruck Deliveries Set to Hit the Streets - \n",
      "TipRanks.com\n",
      "\u001b[0m\n",
      "Thought:\u001b[32;1m\u001b[1;3m\n",
      "Thought: I will now get Tesla's financial statements to analyze the company's performance.\n",
      "Action: get financial statements  \n",
      "Action Input: TSLA\u001b[0m\n",
      "Observation: \u001b[36;1m\u001b[1;3m                                                        2022-12-31     2021-12-31     2020-12-31\n",
      "Ordinary Shares Number                                3164000000.0   3099000000.0   2880000000.0\n",
      "Share Issued                                          3164000000.0   3099000000.0   2880000000.0\n",
      "Total Debt                                            3099000000.0   6834000000.0  11739000000.0\n",
      "Tangible Book Value                                  44111000000.0  28472000000.0  21705000000.0\n",
      "Invested Capital                                     47803000000.0  37023000000.0  33964000000.0\n",
      "Working Capital                                      14208000000.0   7395000000.0  12469000000.0\n",
      "Net Tangible Assets                                  44111000000.0  28472000000.0  21705000000.0\n",
      "Capital Lease Obligations                             3703000000.0   3531000000.0   3008000000.0\n",
      "Common Stock Equity                                  44704000000.0  30189000000.0  22225000000.0\n",
      "Total Capitalization                                 46301000000.0  35434000000.0  31832000000.0\n",
      "Total Equity Gross Minority Interest                 45898000000.0  31583000000.0  23679000000.0\n",
      "Minority Interest                                     1194000000.0   1394000000.0   1454000000.0\n",
      "Stockholders Equity                                  44704000000.0  30189000000.0  22225000000.0\n",
      "Gains Losses Not Affecting Retained Earnings          -361000000.0     54000000.0    363000000.0\n",
      "Other Equity Adjustments                              -361000000.0     54000000.0    363000000.0\n",
      "Retained Earnings                                    12885000000.0    331000000.0  -5399000000.0\n",
      "Additional Paid In Capital                           32177000000.0  29803000000.0  27260000000.0\n",
      "Capital Stock                                            3000000.0      1000000.0      1000000.0\n",
      "Common Stock                                             3000000.0      1000000.0      1000000.0\n",
      "Preferred Stock                                                0.0            0.0            0.0\n",
      "Total Liabilities Net Minority Interest              36440000000.0  30548000000.0  28469000000.0\n",
      "Total Non Current Liabilities Net Minority Interest   9731000000.0  10843000000.0  14221000000.0\n",
      "Other Non Current Liabilities                         5330000000.0   3546000000.0   3330000000.0\n",
      "Non Current Accrued Expenses                          2480000000.0   1398000000.0    989000000.0\n",
      "Non Current Deferred Liabilities                      2804000000.0   2052000000.0   1284000000.0\n",
      "Non Current Deferred Revenue                          2804000000.0   2052000000.0   1284000000.0\n",
      "Non Current Deferred Taxes Liabilities                  82000000.0     24000000.0    151000000.0\n",
      "Long Term Debt And Capital Lease Obligation           1597000000.0   5245000000.0   9607000000.0\n",
      "Long Term Capital Lease Obligation                    2732000000.0   2662000000.0   2348000000.0\n",
      "Long Term Debt                                        1597000000.0   5245000000.0   9607000000.0\n",
      "Long Term Provisions                                    51000000.0    133000000.0    500000000.0\n",
      "Current Liabilities                                  26709000000.0  19705000000.0  14248000000.0\n",
      "Other Current Liabilities                              354000000.0    294000000.0    241000000.0\n",
      "Current Deferred Liabilities                          2810000000.0   2372000000.0   2210000000.0\n",
      "Current Deferred Revenue                              2810000000.0   2372000000.0   2210000000.0\n",
      "Current Debt And Capital Lease Obligation             1502000000.0   1589000000.0   2132000000.0\n",
      "Current Capital Lease Obligation                       971000000.0    869000000.0    660000000.0\n",
      "Current Debt                                          1502000000.0   1589000000.0   2132000000.0\n",
      "Other Current Borrowings                              1016000000.0   1088000000.0   1758000000.0\n",
      "Current Provisions                                     270000000.0    265000000.0    417000000.0\n",
      "Payables And Accrued Expenses                        22397000000.0  15744000000.0   9906000000.0\n",
      "Current Accrued Expenses                              7142000000.0   5719000000.0   3855000000.0\n",
      "Payables                                             15255000000.0  10025000000.0   6051000000.0\n",
      "Total Tax Payable                                     1235000000.0   1122000000.0    777000000.0\n",
      "Accounts Payable                                     15255000000.0  10025000000.0   6051000000.0\n",
      "Total Assets                                         82338000000.0  62131000000.0  52148000000.0\n",
      "Total Non Current Assets                             41421000000.0  35031000000.0  25431000000.0\n",
      "Other Non Current Assets                              4193000000.0   2138000000.0   1536000000.0\n",
      "Goodwill And Other Intangible Assets                   593000000.0   1717000000.0    520000000.0\n",
      "Other Intangible Assets                                593000000.0   1717000000.0    313000000.0\n",
      "Goodwill                                               194000000.0    200000000.0    207000000.0\n",
      "Net PPE                                              36635000000.0  31176000000.0  23375000000.0\n",
      "Accumulated Depreciation                            -10459000000.0  -7918000000.0  -6072000000.0\n",
      "Gross PPE                                            36635000000.0  31176000000.0  23375000000.0\n",
      "Leases                                                2366000000.0   1826000000.0   1421000000.0\n",
      "Construction In Progress                              4281000000.0   5598000000.0   1694000000.0\n",
      "Other Properties                                     31600000000.0  26665000000.0  20284000000.0\n",
      "Machinery Furniture Equipment                         5035000000.0   4511000000.0   3091000000.0\n",
      "Land And Improvements                                 7751000000.0   4675000000.0   3662000000.0\n",
      "Properties                                            6889000000.0   6913000000.0   6861000000.0\n",
      "Current Assets                                       40917000000.0  27100000000.0  26717000000.0\n",
      "Other Current Assets                                  2941000000.0   1723000000.0   1346000000.0\n",
      "Inventory                                            12839000000.0   5757000000.0   4101000000.0\n",
      "Other Inventories                                      842000000.0    575000000.0    434000000.0\n",
      "Finished Goods                                        3475000000.0   1277000000.0   1666000000.0\n",
      "Work In Process                                       2385000000.0   1089000000.0    493000000.0\n",
      "Raw Materials                                         6137000000.0   2816000000.0   1508000000.0\n",
      "Receivables                                           2952000000.0   1913000000.0   1886000000.0\n",
      "Accounts Receivable                                   2952000000.0   1913000000.0   1886000000.0\n",
      "Cash Cash Equivalents And Short Term Investments     22185000000.0  17707000000.0  19384000000.0\n",
      "Cash And Cash Equivalents                            22185000000.0  17576000000.0  19384000000.0\u001b[0m\n",
      "Thought:\u001b[32;1m\u001b[1;3m\n",
      "Based on the stock data, Tesla's share price has been quite volatile recently with big swings up and down. The recent news indicates some positive and negative events coming up like the Cybertruck launch and potential delivery delays. The financial statements show strong revenue and profit growth over the past few years. However, the price-to-earnings ratio is very high over 100, indicating the stock may be overvalued. Overall there are risks with production delays, competition, and valuation. But Tesla is a leading electric vehicle maker with strong growth ahead. I would say Tesla stock could be a good long-term investment if bought at a reasonable valuation during a market dip. But it's a bit risky to buy at current prices over $200 per share.\n",
      "\n",
      "Final Answer: Tesla stock has potential for long-term growth but seems overvalued currently and carries some risks, so it may not be the best investment at today's prices over $200 per share. Buying on a significant dip could provide better upside for long-term investors.\u001b[0m\n",
      "\n",
      "\u001b[1m> Finished chain.\u001b[0m\n"
     ]
    }
   ],
   "source": [
    "response = zero_shot_agent(\"Is Tesla a good investment choice right now?\")"
   ]
  },
  {
   "cell_type": "code",
   "execution_count": 190,
   "metadata": {},
   "outputs": [
    {
     "name": "stdout",
     "output_type": "stream",
     "text": [
      "Tesla stock has potential for long-term growth but seems overvalued currently and carries some risks, so it may not be the best investment at today's prices over $200 per share. Buying on a significant dip could provide better upside for long-term investors.\n"
     ]
    }
   ],
   "source": [
    "# print output\n",
    "print(response[\"output\"])"
   ]
  },
  {
   "cell_type": "code",
   "execution_count": 191,
   "metadata": {},
   "outputs": [
    {
     "name": "stdout",
     "output_type": "stream",
     "text": [
      "[(AgentAction(tool='get company ticker', tool_input='Tesla', log=' Here is my analysis for Tesla stock:\\n\\nThought: I need to first get the company name and ticker symbol for Tesla.\\nAction: get company ticker  \\nAction Input: Tesla'), ('Tesla', 'TSLA')), (AgentAction(tool='get stock data', tool_input='TSLA', log=\"\\nThought: Now I will get Tesla's stock data to analyze.\\nAction: get stock data\\nAction Input: TSLA\"), (                  Open        High         Low       Close   Adj Close  \\\n",
      "Date                                                                     \n",
      "2023-11-20  234.039993  237.100006  231.020004  235.600006  235.600006   \n",
      "2023-11-21  235.039993  243.619995  233.339996  241.199997  241.199997   \n",
      "2023-11-22  242.039993  244.009995  231.399994  234.210007  234.210007   \n",
      "2023-11-24  233.750000  238.750000  232.330002  235.449997  235.449997   \n",
      "2023-11-27  236.889999  238.330002  232.100006  236.080002  236.080002   \n",
      "2023-11-28  236.679993  247.000000  234.009995  246.720001  246.720001   \n",
      "2023-11-29  249.210007  252.750000  242.759995  244.139999  244.139999   \n",
      "\n",
      "               Volume  \n",
      "Date                   \n",
      "2023-11-20  116320100  \n",
      "2023-11-21  122288000  \n",
      "2023-11-22  117950600  \n",
      "2023-11-24   65125200  \n",
      "2023-11-27  112031800  \n",
      "2023-11-28  148549900  \n",
      "2023-11-29  135099900  , 'TSLA_2023-11-30')), (AgentAction(tool='get recent news', tool_input='Tesla', log='\\nThought: Now I will get recent Tesla news to see if there are any major events.\\nAction: get recent news\\nAction Input: Tesla'), 'Recent News:\\n\\n0. Tesla Cybertruck: Top 4 things investors need to know\\n1. Tesla Will Go Down After the Cybertruck Launch. And Ford and GM? Up, \\nProbably.\\n2. Tesla Cybertruck Deliveries Begin Thursday With Five Big Questions \\nRemaining Unanswered\\n3. Tesla Stock (NASDAQ:TSLA): Cybertruck Deliveries Set to Hit the Streets - \\nTipRanks.com\\n'), (AgentAction(tool='get financial statements', tool_input='TSLA', log=\"\\nThought: I will now get Tesla's financial statements to analyze the company's performance.\\nAction: get financial statements  \\nAction Input: TSLA\"), '                                                        2022-12-31     2021-12-31     2020-12-31\\nOrdinary Shares Number                                3164000000.0   3099000000.0   2880000000.0\\nShare Issued                                          3164000000.0   3099000000.0   2880000000.0\\nTotal Debt                                            3099000000.0   6834000000.0  11739000000.0\\nTangible Book Value                                  44111000000.0  28472000000.0  21705000000.0\\nInvested Capital                                     47803000000.0  37023000000.0  33964000000.0\\nWorking Capital                                      14208000000.0   7395000000.0  12469000000.0\\nNet Tangible Assets                                  44111000000.0  28472000000.0  21705000000.0\\nCapital Lease Obligations                             3703000000.0   3531000000.0   3008000000.0\\nCommon Stock Equity                                  44704000000.0  30189000000.0  22225000000.0\\nTotal Capitalization                                 46301000000.0  35434000000.0  31832000000.0\\nTotal Equity Gross Minority Interest                 45898000000.0  31583000000.0  23679000000.0\\nMinority Interest                                     1194000000.0   1394000000.0   1454000000.0\\nStockholders Equity                                  44704000000.0  30189000000.0  22225000000.0\\nGains Losses Not Affecting Retained Earnings          -361000000.0     54000000.0    363000000.0\\nOther Equity Adjustments                              -361000000.0     54000000.0    363000000.0\\nRetained Earnings                                    12885000000.0    331000000.0  -5399000000.0\\nAdditional Paid In Capital                           32177000000.0  29803000000.0  27260000000.0\\nCapital Stock                                            3000000.0      1000000.0      1000000.0\\nCommon Stock                                             3000000.0      1000000.0      1000000.0\\nPreferred Stock                                                0.0            0.0            0.0\\nTotal Liabilities Net Minority Interest              36440000000.0  30548000000.0  28469000000.0\\nTotal Non Current Liabilities Net Minority Interest   9731000000.0  10843000000.0  14221000000.0\\nOther Non Current Liabilities                         5330000000.0   3546000000.0   3330000000.0\\nNon Current Accrued Expenses                          2480000000.0   1398000000.0    989000000.0\\nNon Current Deferred Liabilities                      2804000000.0   2052000000.0   1284000000.0\\nNon Current Deferred Revenue                          2804000000.0   2052000000.0   1284000000.0\\nNon Current Deferred Taxes Liabilities                  82000000.0     24000000.0    151000000.0\\nLong Term Debt And Capital Lease Obligation           1597000000.0   5245000000.0   9607000000.0\\nLong Term Capital Lease Obligation                    2732000000.0   2662000000.0   2348000000.0\\nLong Term Debt                                        1597000000.0   5245000000.0   9607000000.0\\nLong Term Provisions                                    51000000.0    133000000.0    500000000.0\\nCurrent Liabilities                                  26709000000.0  19705000000.0  14248000000.0\\nOther Current Liabilities                              354000000.0    294000000.0    241000000.0\\nCurrent Deferred Liabilities                          2810000000.0   2372000000.0   2210000000.0\\nCurrent Deferred Revenue                              2810000000.0   2372000000.0   2210000000.0\\nCurrent Debt And Capital Lease Obligation             1502000000.0   1589000000.0   2132000000.0\\nCurrent Capital Lease Obligation                       971000000.0    869000000.0    660000000.0\\nCurrent Debt                                          1502000000.0   1589000000.0   2132000000.0\\nOther Current Borrowings                              1016000000.0   1088000000.0   1758000000.0\\nCurrent Provisions                                     270000000.0    265000000.0    417000000.0\\nPayables And Accrued Expenses                        22397000000.0  15744000000.0   9906000000.0\\nCurrent Accrued Expenses                              7142000000.0   5719000000.0   3855000000.0\\nPayables                                             15255000000.0  10025000000.0   6051000000.0\\nTotal Tax Payable                                     1235000000.0   1122000000.0    777000000.0\\nAccounts Payable                                     15255000000.0  10025000000.0   6051000000.0\\nTotal Assets                                         82338000000.0  62131000000.0  52148000000.0\\nTotal Non Current Assets                             41421000000.0  35031000000.0  25431000000.0\\nOther Non Current Assets                              4193000000.0   2138000000.0   1536000000.0\\nGoodwill And Other Intangible Assets                   593000000.0   1717000000.0    520000000.0\\nOther Intangible Assets                                593000000.0   1717000000.0    313000000.0\\nGoodwill                                               194000000.0    200000000.0    207000000.0\\nNet PPE                                              36635000000.0  31176000000.0  23375000000.0\\nAccumulated Depreciation                            -10459000000.0  -7918000000.0  -6072000000.0\\nGross PPE                                            36635000000.0  31176000000.0  23375000000.0\\nLeases                                                2366000000.0   1826000000.0   1421000000.0\\nConstruction In Progress                              4281000000.0   5598000000.0   1694000000.0\\nOther Properties                                     31600000000.0  26665000000.0  20284000000.0\\nMachinery Furniture Equipment                         5035000000.0   4511000000.0   3091000000.0\\nLand And Improvements                                 7751000000.0   4675000000.0   3662000000.0\\nProperties                                            6889000000.0   6913000000.0   6861000000.0\\nCurrent Assets                                       40917000000.0  27100000000.0  26717000000.0\\nOther Current Assets                                  2941000000.0   1723000000.0   1346000000.0\\nInventory                                            12839000000.0   5757000000.0   4101000000.0\\nOther Inventories                                      842000000.0    575000000.0    434000000.0\\nFinished Goods                                        3475000000.0   1277000000.0   1666000000.0\\nWork In Process                                       2385000000.0   1089000000.0    493000000.0\\nRaw Materials                                         6137000000.0   2816000000.0   1508000000.0\\nReceivables                                           2952000000.0   1913000000.0   1886000000.0\\nAccounts Receivable                                   2952000000.0   1913000000.0   1886000000.0\\nCash Cash Equivalents And Short Term Investments     22185000000.0  17707000000.0  19384000000.0\\nCash And Cash Equivalents                            22185000000.0  17576000000.0  19384000000.0')]\n"
     ]
    }
   ],
   "source": [
    "#print intermediate steps\n",
    "print(response[\"intermediate_steps\"])"
   ]
  }
 ],
 "metadata": {
  "availableInstances": [
   {
    "_defaultOrder": 0,
    "_isFastLaunch": true,
    "category": "General purpose",
    "gpuNum": 0,
    "hideHardwareSpecs": false,
    "memoryGiB": 4,
    "name": "ml.t3.medium",
    "vcpuNum": 2
   },
   {
    "_defaultOrder": 1,
    "_isFastLaunch": false,
    "category": "General purpose",
    "gpuNum": 0,
    "hideHardwareSpecs": false,
    "memoryGiB": 8,
    "name": "ml.t3.large",
    "vcpuNum": 2
   },
   {
    "_defaultOrder": 2,
    "_isFastLaunch": false,
    "category": "General purpose",
    "gpuNum": 0,
    "hideHardwareSpecs": false,
    "memoryGiB": 16,
    "name": "ml.t3.xlarge",
    "vcpuNum": 4
   },
   {
    "_defaultOrder": 3,
    "_isFastLaunch": false,
    "category": "General purpose",
    "gpuNum": 0,
    "hideHardwareSpecs": false,
    "memoryGiB": 32,
    "name": "ml.t3.2xlarge",
    "vcpuNum": 8
   },
   {
    "_defaultOrder": 4,
    "_isFastLaunch": true,
    "category": "General purpose",
    "gpuNum": 0,
    "hideHardwareSpecs": false,
    "memoryGiB": 8,
    "name": "ml.m5.large",
    "vcpuNum": 2
   },
   {
    "_defaultOrder": 5,
    "_isFastLaunch": false,
    "category": "General purpose",
    "gpuNum": 0,
    "hideHardwareSpecs": false,
    "memoryGiB": 16,
    "name": "ml.m5.xlarge",
    "vcpuNum": 4
   },
   {
    "_defaultOrder": 6,
    "_isFastLaunch": false,
    "category": "General purpose",
    "gpuNum": 0,
    "hideHardwareSpecs": false,
    "memoryGiB": 32,
    "name": "ml.m5.2xlarge",
    "vcpuNum": 8
   },
   {
    "_defaultOrder": 7,
    "_isFastLaunch": false,
    "category": "General purpose",
    "gpuNum": 0,
    "hideHardwareSpecs": false,
    "memoryGiB": 64,
    "name": "ml.m5.4xlarge",
    "vcpuNum": 16
   },
   {
    "_defaultOrder": 8,
    "_isFastLaunch": false,
    "category": "General purpose",
    "gpuNum": 0,
    "hideHardwareSpecs": false,
    "memoryGiB": 128,
    "name": "ml.m5.8xlarge",
    "vcpuNum": 32
   },
   {
    "_defaultOrder": 9,
    "_isFastLaunch": false,
    "category": "General purpose",
    "gpuNum": 0,
    "hideHardwareSpecs": false,
    "memoryGiB": 192,
    "name": "ml.m5.12xlarge",
    "vcpuNum": 48
   },
   {
    "_defaultOrder": 10,
    "_isFastLaunch": false,
    "category": "General purpose",
    "gpuNum": 0,
    "hideHardwareSpecs": false,
    "memoryGiB": 256,
    "name": "ml.m5.16xlarge",
    "vcpuNum": 64
   },
   {
    "_defaultOrder": 11,
    "_isFastLaunch": false,
    "category": "General purpose",
    "gpuNum": 0,
    "hideHardwareSpecs": false,
    "memoryGiB": 384,
    "name": "ml.m5.24xlarge",
    "vcpuNum": 96
   },
   {
    "_defaultOrder": 12,
    "_isFastLaunch": false,
    "category": "General purpose",
    "gpuNum": 0,
    "hideHardwareSpecs": false,
    "memoryGiB": 8,
    "name": "ml.m5d.large",
    "vcpuNum": 2
   },
   {
    "_defaultOrder": 13,
    "_isFastLaunch": false,
    "category": "General purpose",
    "gpuNum": 0,
    "hideHardwareSpecs": false,
    "memoryGiB": 16,
    "name": "ml.m5d.xlarge",
    "vcpuNum": 4
   },
   {
    "_defaultOrder": 14,
    "_isFastLaunch": false,
    "category": "General purpose",
    "gpuNum": 0,
    "hideHardwareSpecs": false,
    "memoryGiB": 32,
    "name": "ml.m5d.2xlarge",
    "vcpuNum": 8
   },
   {
    "_defaultOrder": 15,
    "_isFastLaunch": false,
    "category": "General purpose",
    "gpuNum": 0,
    "hideHardwareSpecs": false,
    "memoryGiB": 64,
    "name": "ml.m5d.4xlarge",
    "vcpuNum": 16
   },
   {
    "_defaultOrder": 16,
    "_isFastLaunch": false,
    "category": "General purpose",
    "gpuNum": 0,
    "hideHardwareSpecs": false,
    "memoryGiB": 128,
    "name": "ml.m5d.8xlarge",
    "vcpuNum": 32
   },
   {
    "_defaultOrder": 17,
    "_isFastLaunch": false,
    "category": "General purpose",
    "gpuNum": 0,
    "hideHardwareSpecs": false,
    "memoryGiB": 192,
    "name": "ml.m5d.12xlarge",
    "vcpuNum": 48
   },
   {
    "_defaultOrder": 18,
    "_isFastLaunch": false,
    "category": "General purpose",
    "gpuNum": 0,
    "hideHardwareSpecs": false,
    "memoryGiB": 256,
    "name": "ml.m5d.16xlarge",
    "vcpuNum": 64
   },
   {
    "_defaultOrder": 19,
    "_isFastLaunch": false,
    "category": "General purpose",
    "gpuNum": 0,
    "hideHardwareSpecs": false,
    "memoryGiB": 384,
    "name": "ml.m5d.24xlarge",
    "vcpuNum": 96
   },
   {
    "_defaultOrder": 20,
    "_isFastLaunch": false,
    "category": "General purpose",
    "gpuNum": 0,
    "hideHardwareSpecs": true,
    "memoryGiB": 0,
    "name": "ml.geospatial.interactive",
    "supportedImageNames": [
     "sagemaker-geospatial-v1-0"
    ],
    "vcpuNum": 0
   },
   {
    "_defaultOrder": 21,
    "_isFastLaunch": true,
    "category": "Compute optimized",
    "gpuNum": 0,
    "hideHardwareSpecs": false,
    "memoryGiB": 4,
    "name": "ml.c5.large",
    "vcpuNum": 2
   },
   {
    "_defaultOrder": 22,
    "_isFastLaunch": false,
    "category": "Compute optimized",
    "gpuNum": 0,
    "hideHardwareSpecs": false,
    "memoryGiB": 8,
    "name": "ml.c5.xlarge",
    "vcpuNum": 4
   },
   {
    "_defaultOrder": 23,
    "_isFastLaunch": false,
    "category": "Compute optimized",
    "gpuNum": 0,
    "hideHardwareSpecs": false,
    "memoryGiB": 16,
    "name": "ml.c5.2xlarge",
    "vcpuNum": 8
   },
   {
    "_defaultOrder": 24,
    "_isFastLaunch": false,
    "category": "Compute optimized",
    "gpuNum": 0,
    "hideHardwareSpecs": false,
    "memoryGiB": 32,
    "name": "ml.c5.4xlarge",
    "vcpuNum": 16
   },
   {
    "_defaultOrder": 25,
    "_isFastLaunch": false,
    "category": "Compute optimized",
    "gpuNum": 0,
    "hideHardwareSpecs": false,
    "memoryGiB": 72,
    "name": "ml.c5.9xlarge",
    "vcpuNum": 36
   },
   {
    "_defaultOrder": 26,
    "_isFastLaunch": false,
    "category": "Compute optimized",
    "gpuNum": 0,
    "hideHardwareSpecs": false,
    "memoryGiB": 96,
    "name": "ml.c5.12xlarge",
    "vcpuNum": 48
   },
   {
    "_defaultOrder": 27,
    "_isFastLaunch": false,
    "category": "Compute optimized",
    "gpuNum": 0,
    "hideHardwareSpecs": false,
    "memoryGiB": 144,
    "name": "ml.c5.18xlarge",
    "vcpuNum": 72
   },
   {
    "_defaultOrder": 28,
    "_isFastLaunch": false,
    "category": "Compute optimized",
    "gpuNum": 0,
    "hideHardwareSpecs": false,
    "memoryGiB": 192,
    "name": "ml.c5.24xlarge",
    "vcpuNum": 96
   },
   {
    "_defaultOrder": 29,
    "_isFastLaunch": true,
    "category": "Accelerated computing",
    "gpuNum": 1,
    "hideHardwareSpecs": false,
    "memoryGiB": 16,
    "name": "ml.g4dn.xlarge",
    "vcpuNum": 4
   },
   {
    "_defaultOrder": 30,
    "_isFastLaunch": false,
    "category": "Accelerated computing",
    "gpuNum": 1,
    "hideHardwareSpecs": false,
    "memoryGiB": 32,
    "name": "ml.g4dn.2xlarge",
    "vcpuNum": 8
   },
   {
    "_defaultOrder": 31,
    "_isFastLaunch": false,
    "category": "Accelerated computing",
    "gpuNum": 1,
    "hideHardwareSpecs": false,
    "memoryGiB": 64,
    "name": "ml.g4dn.4xlarge",
    "vcpuNum": 16
   },
   {
    "_defaultOrder": 32,
    "_isFastLaunch": false,
    "category": "Accelerated computing",
    "gpuNum": 1,
    "hideHardwareSpecs": false,
    "memoryGiB": 128,
    "name": "ml.g4dn.8xlarge",
    "vcpuNum": 32
   },
   {
    "_defaultOrder": 33,
    "_isFastLaunch": false,
    "category": "Accelerated computing",
    "gpuNum": 4,
    "hideHardwareSpecs": false,
    "memoryGiB": 192,
    "name": "ml.g4dn.12xlarge",
    "vcpuNum": 48
   },
   {
    "_defaultOrder": 34,
    "_isFastLaunch": false,
    "category": "Accelerated computing",
    "gpuNum": 1,
    "hideHardwareSpecs": false,
    "memoryGiB": 256,
    "name": "ml.g4dn.16xlarge",
    "vcpuNum": 64
   },
   {
    "_defaultOrder": 35,
    "_isFastLaunch": false,
    "category": "Accelerated computing",
    "gpuNum": 1,
    "hideHardwareSpecs": false,
    "memoryGiB": 61,
    "name": "ml.p3.2xlarge",
    "vcpuNum": 8
   },
   {
    "_defaultOrder": 36,
    "_isFastLaunch": false,
    "category": "Accelerated computing",
    "gpuNum": 4,
    "hideHardwareSpecs": false,
    "memoryGiB": 244,
    "name": "ml.p3.8xlarge",
    "vcpuNum": 32
   },
   {
    "_defaultOrder": 37,
    "_isFastLaunch": false,
    "category": "Accelerated computing",
    "gpuNum": 8,
    "hideHardwareSpecs": false,
    "memoryGiB": 488,
    "name": "ml.p3.16xlarge",
    "vcpuNum": 64
   },
   {
    "_defaultOrder": 38,
    "_isFastLaunch": false,
    "category": "Accelerated computing",
    "gpuNum": 8,
    "hideHardwareSpecs": false,
    "memoryGiB": 768,
    "name": "ml.p3dn.24xlarge",
    "vcpuNum": 96
   },
   {
    "_defaultOrder": 39,
    "_isFastLaunch": false,
    "category": "Memory Optimized",
    "gpuNum": 0,
    "hideHardwareSpecs": false,
    "memoryGiB": 16,
    "name": "ml.r5.large",
    "vcpuNum": 2
   },
   {
    "_defaultOrder": 40,
    "_isFastLaunch": false,
    "category": "Memory Optimized",
    "gpuNum": 0,
    "hideHardwareSpecs": false,
    "memoryGiB": 32,
    "name": "ml.r5.xlarge",
    "vcpuNum": 4
   },
   {
    "_defaultOrder": 41,
    "_isFastLaunch": false,
    "category": "Memory Optimized",
    "gpuNum": 0,
    "hideHardwareSpecs": false,
    "memoryGiB": 64,
    "name": "ml.r5.2xlarge",
    "vcpuNum": 8
   },
   {
    "_defaultOrder": 42,
    "_isFastLaunch": false,
    "category": "Memory Optimized",
    "gpuNum": 0,
    "hideHardwareSpecs": false,
    "memoryGiB": 128,
    "name": "ml.r5.4xlarge",
    "vcpuNum": 16
   },
   {
    "_defaultOrder": 43,
    "_isFastLaunch": false,
    "category": "Memory Optimized",
    "gpuNum": 0,
    "hideHardwareSpecs": false,
    "memoryGiB": 256,
    "name": "ml.r5.8xlarge",
    "vcpuNum": 32
   },
   {
    "_defaultOrder": 44,
    "_isFastLaunch": false,
    "category": "Memory Optimized",
    "gpuNum": 0,
    "hideHardwareSpecs": false,
    "memoryGiB": 384,
    "name": "ml.r5.12xlarge",
    "vcpuNum": 48
   },
   {
    "_defaultOrder": 45,
    "_isFastLaunch": false,
    "category": "Memory Optimized",
    "gpuNum": 0,
    "hideHardwareSpecs": false,
    "memoryGiB": 512,
    "name": "ml.r5.16xlarge",
    "vcpuNum": 64
   },
   {
    "_defaultOrder": 46,
    "_isFastLaunch": false,
    "category": "Memory Optimized",
    "gpuNum": 0,
    "hideHardwareSpecs": false,
    "memoryGiB": 768,
    "name": "ml.r5.24xlarge",
    "vcpuNum": 96
   },
   {
    "_defaultOrder": 47,
    "_isFastLaunch": false,
    "category": "Accelerated computing",
    "gpuNum": 1,
    "hideHardwareSpecs": false,
    "memoryGiB": 16,
    "name": "ml.g5.xlarge",
    "vcpuNum": 4
   },
   {
    "_defaultOrder": 48,
    "_isFastLaunch": false,
    "category": "Accelerated computing",
    "gpuNum": 1,
    "hideHardwareSpecs": false,
    "memoryGiB": 32,
    "name": "ml.g5.2xlarge",
    "vcpuNum": 8
   },
   {
    "_defaultOrder": 49,
    "_isFastLaunch": false,
    "category": "Accelerated computing",
    "gpuNum": 1,
    "hideHardwareSpecs": false,
    "memoryGiB": 64,
    "name": "ml.g5.4xlarge",
    "vcpuNum": 16
   },
   {
    "_defaultOrder": 50,
    "_isFastLaunch": false,
    "category": "Accelerated computing",
    "gpuNum": 1,
    "hideHardwareSpecs": false,
    "memoryGiB": 128,
    "name": "ml.g5.8xlarge",
    "vcpuNum": 32
   },
   {
    "_defaultOrder": 51,
    "_isFastLaunch": false,
    "category": "Accelerated computing",
    "gpuNum": 1,
    "hideHardwareSpecs": false,
    "memoryGiB": 256,
    "name": "ml.g5.16xlarge",
    "vcpuNum": 64
   },
   {
    "_defaultOrder": 52,
    "_isFastLaunch": false,
    "category": "Accelerated computing",
    "gpuNum": 4,
    "hideHardwareSpecs": false,
    "memoryGiB": 192,
    "name": "ml.g5.12xlarge",
    "vcpuNum": 48
   },
   {
    "_defaultOrder": 53,
    "_isFastLaunch": false,
    "category": "Accelerated computing",
    "gpuNum": 4,
    "hideHardwareSpecs": false,
    "memoryGiB": 384,
    "name": "ml.g5.24xlarge",
    "vcpuNum": 96
   },
   {
    "_defaultOrder": 54,
    "_isFastLaunch": false,
    "category": "Accelerated computing",
    "gpuNum": 8,
    "hideHardwareSpecs": false,
    "memoryGiB": 768,
    "name": "ml.g5.48xlarge",
    "vcpuNum": 192
   },
   {
    "_defaultOrder": 55,
    "_isFastLaunch": false,
    "category": "Accelerated computing",
    "gpuNum": 8,
    "hideHardwareSpecs": false,
    "memoryGiB": 1152,
    "name": "ml.p4d.24xlarge",
    "vcpuNum": 96
   },
   {
    "_defaultOrder": 56,
    "_isFastLaunch": false,
    "category": "Accelerated computing",
    "gpuNum": 8,
    "hideHardwareSpecs": false,
    "memoryGiB": 1152,
    "name": "ml.p4de.24xlarge",
    "vcpuNum": 96
   },
   {
    "_defaultOrder": 57,
    "_isFastLaunch": false,
    "category": "Accelerated computing",
    "gpuNum": 0,
    "hideHardwareSpecs": false,
    "memoryGiB": 32,
    "name": "ml.trn1.2xlarge",
    "vcpuNum": 8
   },
   {
    "_defaultOrder": 58,
    "_isFastLaunch": false,
    "category": "Accelerated computing",
    "gpuNum": 0,
    "hideHardwareSpecs": false,
    "memoryGiB": 512,
    "name": "ml.trn1.32xlarge",
    "vcpuNum": 128
   },
   {
    "_defaultOrder": 59,
    "_isFastLaunch": false,
    "category": "Accelerated computing",
    "gpuNum": 0,
    "hideHardwareSpecs": false,
    "memoryGiB": 512,
    "name": "ml.trn1n.32xlarge",
    "vcpuNum": 128
   }
  ],
  "instance_type": "ml.t3.medium",
  "kernelspec": {
   "display_name": "Python 3 (Data Science 3.0)",
   "language": "python",
   "name": "python3__SAGEMAKER_INTERNAL__arn:aws:sagemaker:us-east-1:081325390199:image/sagemaker-data-science-310-v1"
  },
  "language_info": {
   "codemirror_mode": {
    "name": "ipython",
    "version": 3
   },
   "file_extension": ".py",
   "mimetype": "text/x-python",
   "name": "python",
   "nbconvert_exporter": "python",
   "pygments_lexer": "ipython3",
   "version": "3.10.6"
  },
  "vscode": {
   "interpreter": {
    "hash": "00878cbed564b904a98b4a19808853cb6b9988746b881ea025a8408713879bf5"
   }
  }
 },
 "nbformat": 4,
 "nbformat_minor": 4
}
