{
 "cells": [
  {
   "cell_type": "markdown",
   "id": "f1b23ffc-22d8-4414-b2e4-66d45a03523d",
   "metadata": {
    "tags": []
   },
   "source": [
    "# LlamaIndex LLM Retreival and Reranking with OPEN AI\n",
    "\n",
    "This tutorial showcases how to do a two-stage pass for retrieval. Use embedding-based retrieval with a high top-k value\n",
    "in order to maximize recall and get a large set of candidate items. Then, use LLM-based retrieval\n",
    "to dynamically select the nodes that are actually relevant to the query."
   ]
  },
  {
   "cell_type": "code",
   "execution_count": null,
   "id": "074cdec9-58a4-4894-b90e-53170777c673",
   "metadata": {
    "tags": []
   },
   "outputs": [],
   "source": [
    "!pip install ../dependencies/boto3-1.28.21-py3-none-any.whl\n",
    "!pip install ../dependencies/botocore-1.31.21-py3-none-any.whl\n",
    "!pip install langchain\n",
    "!pip install pypdf\n",
    "!pip install llama-index\n",
    "!pip install openai"
   ]
  },
  {
   "cell_type": "code",
   "execution_count": 2,
   "id": "ab68a3ee-f4c1-4830-856a-9c37f7a42364",
   "metadata": {
    "tags": []
   },
   "outputs": [],
   "source": [
    "import nest_asyncio\n",
    "\n",
    "nest_asyncio.apply()"
   ]
  },
  {
   "cell_type": "code",
   "execution_count": 3,
   "id": "8c16404b-db81-4ee6-9c0f-cc4cdf3cb147",
   "metadata": {
    "tags": []
   },
   "outputs": [
    {
     "name": "stdout",
     "output_type": "stream",
     "text": [
      "INFO:numexpr.utils:NumExpr defaulting to 2 threads.\n",
      "NumExpr defaulting to 2 threads.\n"
     ]
    }
   ],
   "source": [
    "import logging\n",
    "import sys\n",
    "\n",
    "logging.basicConfig(stream=sys.stdout, level=logging.INFO)\n",
    "logging.getLogger().addHandler(logging.StreamHandler(stream=sys.stdout))\n",
    "from llama_index import (\n",
    "    VectorStoreIndex,\n",
    "    SimpleDirectoryReader,\n",
    "    ServiceContext,\n",
    "    LLMPredictor,\n",
    "    get_response_synthesizer,\n",
    "    set_global_service_context\n",
    ")\n",
    "from llama_index.indices.postprocessor import LLMRerank\n",
    "from llama_index.llms import OpenAI\n",
    "from IPython.display import Markdown, display\n",
    "from llama_index.indices.document_summary import DocumentSummaryIndex\n"
   ]
  },
  {
   "cell_type": "code",
   "execution_count": 21,
   "id": "3ed393c8-cd9e-4eec-894e-ac25d6b22e90",
   "metadata": {
    "tags": []
   },
   "outputs": [],
   "source": [
    "import os\n",
    "import openai\n",
    "\n",
    "#os.environ[\"OPENAI_API_KEY\"] = \"your api key\"\n",
    "openai.api_key = os.getenv(\"OPENAI_API_KEY\")\n",
    "#print(openai.api_key)\n"
   ]
  },
  {
   "cell_type": "markdown",
   "id": "8a5b0ac6-ec9c-40e1-9120-d20e33c37f80",
   "metadata": {
    "tags": []
   },
   "source": [
    "## Load Data, Build Index"
   ]
  },
  {
   "cell_type": "code",
   "execution_count": 5,
   "id": "b785b75a-cf4d-4799-8fd2-970e5c39727c",
   "metadata": {
    "tags": []
   },
   "outputs": [],
   "source": [
    "# LLM Predictor (gpt-3.5-turbo) + service context\n",
    "llm = OpenAI(temperature=0, model=\"gpt-3.5-turbo\")\n",
    "service_context = ServiceContext.from_defaults(llm=llm, chunk_size=512)\n",
    "#service_context = ServiceContext.from_defaults(llm=llm, embed_model=embed_model, chunk_size=1024)\n",
    "#set_global_service_context(service_context)"
   ]
  },
  {
   "cell_type": "code",
   "execution_count": 11,
   "id": "2d51a0b7-3ac8-4e55-aea0-02e09a95998e",
   "metadata": {
    "tags": []
   },
   "outputs": [],
   "source": [
    "documents = SimpleDirectoryReader(input_files=[\"data/p1212.pdf\"]).load_data()"
   ]
  },
  {
   "cell_type": "code",
   "execution_count": 12,
   "id": "1a01180d-67c8-4664-a4ee-ceab1367cb78",
   "metadata": {
    "scrolled": true,
    "tags": []
   },
   "outputs": [
    {
     "data": {
      "text/plain": [
       "[Document(id_='b49e6efe-3e07-40e2-bcab-6c4e4bebd51c', embedding=None, metadata={'page_label': '1', 'file_name': 'p1212.pdf'}, excluded_embed_metadata_keys=[], excluded_llm_metadata_keys=[], relationships={}, hash='87e6ebdad45bd554023db01a711839acacc80eb11e7ad459cab8f940c08369d7', text='Contents\\nIntroduction .................. 2\\nDefinitions ................... 2\\nDebt Instruments in the OID \\nTables ................... 3\\nDebt Instruments Not in the OID \\nTables ................... 3\\nInformation for Brokers and Other \\nMiddlemen ................ 4\\nShort-Term Obligations \\nRedeemed at Maturity ........ 4\\nLong-Term Debt Instruments ...... 4\\nCertificates of Deposit .......... 5\\nBearer Bonds and Coupons ....... 5\\nBackup Withholding ........... 5\\nInformation for Owners of OID Debt \\nInstruments ............... 5\\nForm 1099-OID .............. 6\\nHow To Report OID ........... 7\\nFiguring OID on Long-Term \\nDebt Instruments ........... 7\\nDebt Instruments Issued \\nAfter July 1, 1982, and \\nBefore 1985 ........... 8\\nDebt Instruments Issued \\nAfter 1984 ............ 9\\nContingent Payment Debt \\nInstruments .......... 10\\nInflation-Indexed Debt \\nInstruments .......... 11\\nFiguring OID on Stripped Bonds \\nand Coupons ............ 12\\nForm 1099-OID .......... 12\\nTax-Exempt Bonds and \\nCoupons ........... 12\\nDebt Instruments and \\nCoupons Purchased \\nAfter July 1, 1982, and \\nBefore 1985 .......... 13\\nDebt Instruments and \\nCoupons Purchased \\nAfter 1984 ........... 13\\nHow To Get Tax Help ........... 14\\nIndex ..................... 18\\nSection references are to the Internal Revenue \\nCode unless otherwise noted.\\nFuture Developments\\nFor the latest information about developments \\nrelated to Pub. 1212, such as legislation \\nenacted after it was published, go to IRS.gov/\\nPub1212 .\\nDepartment \\nof the \\nTreasury\\nInternal \\nRevenue \\nServicePublication 1212\\n(Rev. January 2023)\\nCat. No. 61273T\\nGuide to Original \\nIssue Discount \\n(OID) \\nInstruments\\nGet forms and other information faster and easier at:\\n•IRS.gov (English) \\n•IRS.gov/Spanish (Español) \\n•IRS.gov/Chinese (中文 ) •IRS.gov/Korean (한국어 ) \\n•IRS.gov/Russian (Pусский) \\n•IRS.gov/Vietnamese (Tiếng Việt) Userid: CPM Schema: tipx Leadpct: 100% Pt. size: 8 Draft  Ok to PrintAH XSL/XML Fileid: … ns/p1212/202301/a/xml/cycle06/source (Init. & Date) _______\\nPage 1 of 18  12:46 - 31-Mar-2023\\nThe type and rule above prints on all proofs including departmental reproduction proofs. MUST be removed before printing.\\nMar 31, 2023', start_char_idx=None, end_char_idx=None, text_template='{metadata_str}\\n\\n{content}', metadata_template='{key}: {value}', metadata_seperator='\\n'),\n",
       " Document(id_='55c56f59-00e5-4971-9320-3dc2f6f7cd0d', embedding=None, metadata={'page_label': '2', 'file_name': 'p1212.pdf'}, excluded_embed_metadata_keys=[], excluded_llm_metadata_keys=[], relationships={}, hash='8de6bf58776d4f127eadd77e425e7921da288f0959e6a92a56abec4406b920e4', text=\"Photographs of Missing \\nChildren\\nThe IRS is a proud partner with the National \\nCenter for Missing & Exploited Children® \\n(NCMEC) . Photographs of missing children \\nselected by the Center may appear in this \\npublication on pages that would otherwise be \\nblank. You can help bring these children home \\nby looking at the photographs and calling \\n1-800-THE- LOST (1 -800-843- 5678) if you \\nrecognize a child.\\nIntroduction\\nThis publication has two purposes. Its primary \\npurpose is to help brokers and other middlemen \\nidentify publicly offered original issue discount \\n(OID) debt instruments they may hold as nomi-\\nnees for the true owners, so they can file Forms \\n1099- OID or Forms 1099 -INT, as required. The \\nother purpose of the publication is to help own-\\ners of publicly offered OID debt instruments de-\\ntermine how much OID to report on their in-\\ncome tax returns.\\nOriginal issue discount (OID) tables.  The \\ntables of publicly offered OID debt instruments \\n(OID tables) are available at IRS.gov/Pub1212 , \\nby clicking the link under Recent Develop-\\nments. Details about the deadlines to furnish \\nand file information returns that rely on these ta-\\nbles and how to obtain an extension to these \\ndeadlines can be found in the 2022 General \\nInstructions for Certain Information Returns , \\navailable at IRS.gov . The information in the OID \\ntables comes from the issuers of the debt in-\\nstruments and from financial publications and is \\nupdated annually. (However, see Debt Instru-\\nments Not in the OID Tables , later.)\\nBrokers and other middlemen can rely on \\nthe OID tables to determine for information re-\\nporting purposes, whether a debt instrument \\nwas issued at a discount and the OID to be re-\\nported on information returns. However, be-\\ncause the information in the OID tables has \\ngenerally not been verified by the IRS as cor-\\nrect, the following tax matters are subject to \\nchange upon examination by the IRS.\\n•The OID reported by owners of a debt in-\\nstrument on their income tax returns.\\n•The issuer's classification of an instrument \\nas debt for federal income tax purposes.\\n•The adjusted basis of a debt instrument.\\nInstructions for issuers of OID debt instru-\\nments. In general, issuers of publicly offered \\nOID debt instruments must file Form 8281 \\nwithin 30 days after the date of issuance, and, if \\nregistered with the Securities and Exchange \\nCommission (SEC), within 30 days after regis-\\ntration with the SEC. A separate Form 8281 \\nmust be filed for each issuance or SEC registra-\\ntion. For more information, see Form 8281 and \\nits instructions.Issuers should report errors in and \\nomissions from the list in writing at the \\nfollowing address:\\nIRS OID Publication Project\\nSE:W:CAR:MP:TFP\\n1111 Constitution Ave. NW, IR-6526\\nWashington, DC 20224\\nREMIC and CDO information reporting re-\\nquirements. Brokers and other middlemen \\nmust follow special information reporting re-\\nquirements for real estate mortgage investment \\nconduit (REMIC) regular interests, and collater-\\nalized debt obligation (CDO) interests. The \\nrules are explained in Pub. 938.\\nHolders of interests in REMICs and CDOs \\nshould see chapter 1 of Pub. 550  for informa-\\ntion on REMICs and CDOs.\\nComments and suggestions.  We welcome \\nyour comments about this publication and sug-\\ngestions for future editions.\\nYou can send us comments through \\nIRS.gov/FormComments . Or, you can write to \\nthe Internal Revenue Service, Tax Forms and \\nPublications, 1111 Constitution Ave. NW, \\nIR-6526, Washington, DC 20224.\\nAlthough we can’t respond individually to \\neach comment received, we do appreciate your \\nfeedback and will consider your comments and \\nsuggestions as we revise our tax forms, instruc-\\ntions, and publications. Don’t  send tax ques-\\ntions, tax returns, or payments to the above ad-\\ndress.\\nGetting answers to your tax questions. \\nIf you have a tax question not answered by this \\npublication or the How To Get Tax Help  section \\nat the end of this publication, go to the IRS In-\\nteractive Tax Assistant page at IRS.gov/\\nHelp/ITA  where you can find topics by using the \\nsearch feature or viewing the categories listed.\\nGetting tax forms, instructions, and pub-\\nlications. Go to  IRS.gov/Forms  to download \\ncurrent and prior -year forms, instructions, and \\npublications.\\nOrdering tax forms, instructions, and \\npublications. Go to IRS.gov/OrderForms  to \\norder current forms, instructions, and publica-\\ntions; call 800 -829- 3676 to order prior -year \\nforms and instructions. The IRS will process \\nyour order for forms and publications as soon \\nas possible. Don’t resubmit requests you’ve al-\\nready sent us. You can get forms and publica-\\ntions faster online.\\nUseful Items\\nYou may want to see:\\nPublication\\n515 Withholding of Tax on Nonresident \\nAliens and Foreign Entities\\n550 Investment Income and Expenses\\n938 Real Estate Mortgage Investment \\nConduits (REMICs) Reporting \\nInformation (And Other Collateralized \\nDebt Obligations (CDOs))\\n  515\\n  550\\n  938Form (and Instructions)\\n1096 Annual Summary and Transmittal of \\nU.S. Information Returns\\n1099-B Proceeds From Broker and Barter \\nExchange Transactions\\n1099-INT Interest Income\\n1099-OID Original Issue Discount\\n8281 Information Return for Publicly \\nOffered Original Issue Discount \\nInstruments\\n8949 Sales and Other Dispositions of \\nCapital Assets\\nSchedule B (Form 1040) Interest and \\nOrdinary Dividends\\nSchedule D (Form 1040) Capital Gains \\nand Losses\\nW-8 Instructions for the Requester of \\nForms W-8BEN, W-8BEN-E, \\nW-8ECI, W-8EXP, and W-8IMY\\nSee How To Get Tax Help  at the end of this \\npublication for information about getting publi-\\ncations and forms.\\nDefinitions\\nThe following terms are used throughout this \\npublication. “Original issue discount” is defined \\nfirst. The other terms are listed alphabetically.\\nOriginal issue discount (OID).  OID is a form \\nof interest. It is the excess of a debt instru-\\nment's stated redemption price at maturity over \\nits issue price (acquisition price for a stripped \\nbond or coupon). Zero coupon bonds and debt \\ninstruments that pay no stated interest until ma-\\nturity are examples of debt instruments that \\nhave OID.\\nAccrual period.  An accrual period is an inter-\\nval of time used to measure OID. The length of \\nan accrual period can be 6 months, a year, or \\nsome other period no longer than 1 year, de-\\npending on when the debt instrument was is-\\nsued.\\nAcquisition premium.  Acquisition premium is \\nthe excess of a debt instrument’s adjusted ba-\\nsis immediately after purchase, including pur-\\nchase at original issue, over the debt instru-\\nment’s adjusted issue price at that time. A \\npurchaser reduces any OID income by the ac-\\nquisition premium, as discussed under Informa-\\ntion for Owners of OID Debt Instruments , later.\\nIf the purchaser’s adjusted basis exceeds \\nthe total of all amounts payable under the debt \\ninstrument (other than qualified stated interest) \\nafter the date of purchase, then the debt instru-\\nment has premium instead of acquisition pre-\\nmium. See Premium , later.\\nAdjusted issue price.  The adjusted issue \\nprice of a debt instrument at the beginning of an \\naccrual period is used to figure the OID alloca-\\nble to that period. In general, the adjusted issue \\nprice at the beginning of the debt instrument's \\nfirst accrual period is its issue price. The adjus-\\nted issue price at the beginning of any   1096\\n  1099-B\\n  1099-INT\\n  1099-OID\\n  8281\\n  8949\\n  Schedule B (Form 1040)\\n  Schedule D (Form 1040)\\n  W-8Page 2 of 18  Fileid: … ns/p1212/202301/a/xml/cycle06/source 12:46 - 31-Mar-2023\\nThe type and rule above prints on all proofs including departmental reproduction proofs. MUST be removed before printing.\\nPage 2 Publication 1212 (January 2023)\", start_char_idx=None, end_char_idx=None, text_template='{metadata_str}\\n\\n{content}', metadata_template='{key}: {value}', metadata_seperator='\\n'),\n",
       " Document(id_='833549f2-1641-4788-a49f-1575b6992bc2', embedding=None, metadata={'page_label': '3', 'file_name': 'p1212.pdf'}, excluded_embed_metadata_keys=[], excluded_llm_metadata_keys=[], relationships={}, hash='51ab5682ec27f78fe14e3752f2946b67fe95dbaded8174d1cf1a32dc5722b04a', text=\"subsequent accrual period is the sum of the is-\\nsue price and all the OID includible in income \\nbefore that accrual period minus any payment \\npreviously made on the debt instrument, other \\nthan a payment of qualified stated interest.\\nDebt instrument.  The term “debt instrument” \\nmeans any instrument or contractual arrange-\\nment that constitutes indebtedness under gen-\\neral principles of federal income tax law (includ-\\ning, for example, a bond, debenture, note, \\ncertificate, or other evidence of indebtedness). \\nIt generally does not include an annuity con-\\ntract.\\nIssue price.  For debt instruments listed in \\nSection I -A and Section I -B, of the Final Re-\\nlease of Original Issue Discount (OID) Tables, \\nthe issue price is generally the initial offering \\nprice to the public (excluding bond houses and \\nbrokers) at which a substantial amount of these \\ninstruments was sold.\\nMarket discount.  An OID debt instrument \\ngenerally has market discount if your adjusted \\nbasis in the debt instrument immediately after \\nyou acquired it (usually its purchase price) was \\nless than the debt instrument’s issue price plus \\nthe total OID that accrued before you acquired \\nit. In general, a debt instrument is purchased in \\nthe secondary market at a market discount \\nwhen the value of the debt instrument has de-\\ncreased since the instrument’s issue date (for \\nexample, because of an increase in interest \\nrates). An OID debt instrument has market dis-\\ncount if your adjusted basis in the debt instru-\\nment immediately after you acquired it (usually \\nits purchase price) was less than the debt in-\\nstrument's issue price plus the total OID that ac-\\ncrued before you acquired it. The market dis-\\ncount is the difference between the issue price \\nplus accrued OID and your adjusted basis.\\nPremium. A debt instrument is purchased at a \\npremium if its adjusted basis immediately after \\npurchase is greater than the total of all amounts \\npayable on the debt instrument after the pur-\\nchase date, other than qualified stated interest. \\nThe premium is the excess of the adjusted ba-\\nsis over the payable amounts.\\nPremium will generally eliminate the future \\nreporting of OID in income by the purchaser, as \\ndiscussed under Information for Owners of OID \\nDebt Instruments , later. See Pub. 550  for more \\ninformation on the tax treatment of bond pre-\\nmium.\\nQualified stated interest.  In general, qualified \\nstated interest is stated interest that is uncondi-\\ntionally payable in cash or property (other than \\ndebt instruments of the issuer) at least annually \\nover the term of the debt instrument at a single \\nfixed rate.\\nStated redemption price at maturity.  A debt \\ninstrument's stated redemption price at maturity \\nis the sum of all amounts (principal and interest) \\npayable on the debt instrument, other than \\nqualified stated interest.\\nYield to maturity (YTM).  In general, the YTM \\nis the discount rate that, when used in figuring \\nthe present value of all principal and interest \\npayments, produces an amount equal to the is-sue price of the debt instrument. The YTM is \\ngenerally shown on the face of the debt instru-\\nment or in the literature you receive from your \\nbroker. If you do not have this information, con-\\nsult your broker, tax advisor, or the issuer.\\nDebt Instruments in the \\nOID Tables\\nThe OID tables, available at IRS.gov/Pub1212 , \\nunder Recent Developments, can be used by \\nbrokers and other middlemen to prepare infor-\\nmation returns.\\nIf you own a debt instrument included \\nin the tables, you generally should not \\nrely on the information in the OID ta-\\nbles to determine (or compare) the OID to be \\nreported on your tax return, but you should use, \\nas a starting point, the information supplied to \\nyou on Form 1099-OID. The OID amounts listed \\nare figured without reference to the price or \\ndate at which you acquired the debt instrument. \\nFor information about determining the OID to be \\nreported on your tax return, see the instructions \\nfor figuring OID under Information for Owners of \\nOID Debt Instruments , later.\\nThe following discussions explain what in-\\nformation is contained in each section of the ta-\\nbles.\\nSection I.  This section contains publicly of-\\nfered, long-term debt instruments.\\n•Section I-A: Corporate Debt Instruments \\nIssued Before 1985.\\n•Section I-B:\\n Corporate Debt Instruments Issued \\nAfter 1984.\\n Taxable obligations issued by a state \\nor a local government.\\n•Section I-C: Inflation-Indexed Debt Instru-\\nments.\\nFor each publicly offered debt instrument in \\nSection I,  the list contains the following informa-\\ntion.\\n•The name of the issuer.\\n•The Committee on Uniform Security Identi-\\nfication Procedures (CUSIP) number.\\n•The issue date.\\n•The maturity date.\\n•The issue price expressed as a percent of \\nprincipal or of stated redemption price at \\nmaturity.\\n•The annual stated or coupon interest rate. \\n(This rate is shown as 0.00 if no annual in-\\nterest payments are provided.)\\n•The YTM will be added to Section I-B for \\nbonds issued after December 31, 2006.\\n•The total OID accrued up to January 1 of a \\ncalendar year. (This information is not \\navailable for every instrument.)\\n•For long-term debt instruments issued af-\\nter July 1, 1982, the daily OID for the ac-\\ncrual periods falling in a calendar year and \\na subsequent year.\\n•The total OID per $1,000 of principal or \\nmaturity value for a calendar year and a \\nsubsequent year.\\nSection II.  This section contains stripped cou-\\npons and principal components of U.S. Treas-\\nCAUTION!ury and Government -Sponsored Enterprise \\ndebt instruments. These stripped components \\nare available through the Department of the \\nTreasury's Separate Trading of Registered In-\\nterest and Principal of Securities (STRIPS) pro-\\ngram and government -sponsored enterprises \\nsuch as the Resolution Funding Corporation. \\nThis section also includes debt instruments \\nbacked by U.S. Treasury securities that repre-\\nsent ownership interests in those securities.\\nThe obligations listed in Section II  are ar-\\nranged by maturity date. The amounts listed are \\nthe total OID for a calendar year per $1,000 of \\nredemption price.\\nSection III.  This section contains short -term \\ndiscount obligations.\\n•Section III-A: Short-Term U.S. Treasury \\nBills.\\n•Section III-B: Federal Home Loan Banks.\\n•Section III-C: Federal National Mortgage \\nAssociation.\\n•Section III-D: Federal Farm Credit Banks.\\n•Section III-E: Federal Home Loan Mort-\\ngage Corporation.\\n•Section III-F: Federal Agricultural Mortgage \\nCorporation.\\nInformation that supplements Sec-\\ntion III -A is available on the Internet at \\nTreasuryDirect.gov/tdhome.htm .\\nThe short -term obligations listed in this sec-\\ntion are arranged by maturity date. For each ob-\\nligation, the list contains the CUSIP number, \\nmaturity date, issue date, issue price (ex-\\npressed as a percent of principal), and discount \\nto be reported as interest for a calendar year \\nper $1,000 of redemption price. Brokers and \\nother middlemen should rely on the issue price \\ninformation in Section III only if they are unable \\nto determine the price actually paid by the \\nowner.\\nDebt Instruments Not in \\nthe OID Tables\\nThe list of debt instruments discussed earlier \\ndoes not contain the following items.\\n•U.S. savings bonds.\\n•Certificates of deposit and other \\nface-amount certificates issued at a dis-\\ncount, including syndicated certificates of \\ndeposit.\\n•Obligations issued by tax-exempt organi-\\nzations.\\n•OID debt instruments that matured or were \\nentirely called by the issuer before the ta-\\nbles were posted on the IRS website.\\n•Mortgage-backed securities and mortgage \\nparticipation certificates.\\n•Short-term obligations, other than the obli-\\ngations listed in Section III.\\n•Debt instruments issued at a discount by \\nstates or their political subdivisions if these \\ndebt instruments are tax-exempt obliga-\\ntions.\\n•REMIC regular interests and CDOs.\\n•Commercial paper and banker's acceptan-\\nces issued at a discount.\\n•Obligations issued at a discount by individ-\\nuals.\\nPage 3 of 18  Fileid: … ns/p1212/202301/a/xml/cycle06/source 12:46 - 31-Mar-2023\\nThe type and rule above prints on all proofs including departmental reproduction proofs. MUST be removed before printing.\\nPublication 1212 (January 2023)   Page 3\", start_char_idx=None, end_char_idx=None, text_template='{metadata_str}\\n\\n{content}', metadata_template='{key}: {value}', metadata_seperator='\\n'),\n",
       " Document(id_='e4f5c6d8-3704-4f06-8268-dcf5d72fb5ca', embedding=None, metadata={'page_label': '4', 'file_name': 'p1212.pdf'}, excluded_embed_metadata_keys=[], excluded_llm_metadata_keys=[], relationships={}, hash='b8bba1e6f4c9127668fd9567511ccff41ad10cb0f3f339f6613136a5e036c968', text=\"•Foreign obligations not traded in the Uni-\\nted States and obligations not issued in the \\nUnited States.\\nInformation for Brokers \\nand Other Middlemen\\nThe following discussions contain specific in-\\nstructions for brokers and middlemen who hold \\nor redeem a debt instrument for the owner.\\nIn general, you must file a Form 1099 -INT or \\nForm 1099 -OID for the debt instrument if the in-\\nterest or OID to be included in the owner's in-\\ncome for a calendar year totals $10 or more. \\nYou must also file a Form 1099 -INT or Form \\n1099- OID if you were required to deduct and \\nwithhold tax, even if the interest or OID is less \\nthan $10. See Backup Withholding , later.\\nIf you must file a Form 1099 -INT or Form \\n1099- OID, furnish a copy to the owner of the \\ndebt instrument by January 31 in the year it is \\ndue, or February 15 in the year it is due if the \\nForm 1099 -INT or Form 1099 -OID is furnished \\nas part of a consolidated reporting statement. \\nFile all your Forms 1099 with the IRS, accompa-\\nnied by Form 1096, by February 28 in the year \\nthey are due (March 31 if you file electronically).\\nElectronic payee statements.  You can issue \\nForm 1099-INT or Form 1099-OID electronically \\nwith the consent of the recipient.\\nMore information.  For more information, in-\\ncluding penalties for failure to file (or furnish) re-\\nquired information returns or statements, see \\nthe current General Instructions for Certain \\nInformation Returns , available at IRS.gov/\\n1099GeneralInstructions .\\nShort-Term Obligations \\nRedeemed at Maturity\\nIf you redeem a short -term discount obligation \\nfor the owner at maturity, you must report the \\ndiscount as interest on Form 1099-INT.\\nTo figure the discount, use the purchase \\nprice shown on the owner's copy of the pur-\\nchase confirmation receipt or similar record, or \\nthe price shown in your transaction records.\\nIf the owner's purchase price cannot be de-\\ntermined, figure the discount as if the owner \\nhad purchased the obligation at its original is-\\nsue price. A special rule is used to determine \\nthe original issue price for information reporting \\non U.S. Treasury bills (T -bills) listed in Sec-\\ntion III -A. Under this rule, you treat as the origi-\\nnal issue price of the T -bill the noncompetitive \\n(weighted average of accepted auction bids) \\ndiscount price for the longest -maturity T-bill ma-\\nturing on the same date as the T -bill being re-\\ndeemed. This noncompetitive discount price is \\nthe issue price (expressed as a percent of prin-\\ncipal) shown in Section III-A.\\nA similar rule is used to figure the discount \\non short-term discount obligations issued by the \\norganizations listed in Section III -B through \\nSection III-F.\\nExample 1.  There are 13 -week and \\n26-week T -bills maturing on the same date as the T -bill being redeemed. The price actually \\npaid by the owner cannot be established by \\nowner or middleman records. You treat as the \\nissue price of the T -bill the noncompetitive dis-\\ncount price (expressed as a percent of princi-\\npal) shown in Section III -A for a 26 -week bill \\nmaturing on the same date as the T -bill re-\\ndeemed. The interest you report on Form \\n1099- INT is the OID (per $1,000 of principal) \\nshown in Section III-A for that obligation.\\nLong-Term Debt Instruments\\nIf you hold a long-term OID debt instrument as a \\nnominee for the true owner, you must generally \\nfile Form 1099 -OID. For this purpose, you can \\nrely on Section I  of the OID tables to determine \\nthe following information.\\n•Whether a debt instrument has OID.\\n•The OID to be reported on the Form \\n1099-OID.\\nIn general, you must report OID on publicly \\noffered, long -term debt instruments listed in \\nSection I.  You can also report OID on other \\nlong-term debt instruments.\\nForm 1099 -OID. Form 1099 -OID for a calen-\\ndar year shows the following information.\\n•Box 1.  The OID for the actual dates the \\nowner held the debt instruments during a \\ncalendar year. To determine this amount, \\nsee Figuring OID , later. You may report a \\nnet amount of OID that reflects the offset of \\nOID by the amount of acquisition premium \\namortization for the year. If you do so, \\nleave box 6 blank.\\n•Box 2.  The qualified stated interest paid or \\ncredited during the calendar year. Interest \\nreported here is not reported on Form \\n1099-INT. The qualified stated interest on \\nTreasury inflation-protected securities \\n(TIPS) may be reported on Form 1099-INT \\nin box 3 instead.\\n•Box 3.  Any interest or principal forfeited \\nbecause of an early withdrawal that the \\nowner can deduct from gross income. Do \\nnot reduce the amounts in boxes 1 and 2 \\nby the forfeiture.\\n•Box 4.  Any backup withholding for this \\ndebt instrument.\\n•Box 5.  For a covered security acquired \\nwith market discount under Regulations \\nsection 1.6045-1(a)(15), enter the amount \\nof market discount that accrued during the \\nperiod the holder owned the debt instru-\\nment, provided the holder notified you of \\nan election made under section 1278(b) to \\ninclude market discount in income as it ac-\\ncrued. Follow the instructions in Regula-\\ntions section 1.6045-1(n) to determine the \\naccruals of market discount.\\n•Box 6.  For a covered security acquired \\nwith acquisition premium, enter the amount \\nof acquisition premium amortization for the \\nperiod the holder owned the debt instru-\\nment. If a net amount of OID is reported in \\nbox 1, box 8, or box 11, as applicable, \\nleave this box blank. Follow the instruc-\\ntions in Regulations section 1.6045-1(n) to \\ndetermine the amortization of acquisition \\npremium.\\n•Box 7. The CUSIP number, if any. If there \\nis no CUSIP number, give a description of the debt instrument, including the abbrevi-\\nation for the stock exchange, the abbrevia-\\ntion used by the stock exchange for the is-\\nsuer, the coupon rate, and the year of \\nmaturity (for example, NYSE XYZ 12.50 \\n2006). If the issuer of the debt instrument \\nis other than the payer, show the name of \\nthe issuer in this box.\\n•Box 8. The OID on a U.S. Treasury obliga-\\ntion for the part of the year the owner held \\nthe debt instrument. You may report a net \\namount of OID that reflects the offset of \\nOID by the amount of acquisition premium \\namortization for the year. If you do so, \\nleave box 6 blank.\\n•Box 9.  Investment expenses passed on to \\nholders of a single-class REMIC. Caution. \\nThis amount is not deductible.\\n•Box 10.  For a taxable covered security ac-\\nquired at a premium, enter the amount of \\nbond premium amortization allocable to \\nthe interest paid during the tax year, unless \\nyou were notified in writing that the holder \\ndid not want to amortize bond premium un-\\nder section 171. See Regulations sections \\n1.6045 ‐1(n)(5) and 1.6049 ‐9(b). If you are \\nrequired to report bond premium amortiza-\\ntion and you reported a net amount of in-\\nterest in box 2, leave this box blank.\\n•Box 11.  Use to report any tax-exempt OID.\\n•Boxes 12–14.  Use to report any state in-\\ncome tax withheld for this debt instrument.\\nFiguring OID. You can determine the OID on a \\nlong- term debt instrument by using either of the \\nfollowing.\\n•Section I of the OID tables.\\n•The income tax regulations.\\nUsing Section I.  If the owner held the debt \\ninstrument for the entire calendar year, report \\nthe OID shown in Section I  for the calendar \\nyear. Because OID is listed for each $1,000 of \\nstated redemption price at maturity, you must \\nadjust the listed amount to reflect the debt in-\\nstrument's actual stated redemption price at \\nmaturity. For example, if the debt instrument's \\nstated redemption price at maturity is $500, re-\\nport one-half the listed OID.\\nIf the owner held the debt instrument for less \\nthan the entire calendar year, figure the OID to \\nreport as follows.\\n1.Look up the daily OID for the first accrual \\nperiod in the calendar year during which \\nthe owner held the debt instrument.\\n2.Multiply the daily OID by the number of \\ndays the owner held the debt instrument \\nduring that accrual period.\\n3.Repeat steps (1) and (2) for any remaining \\naccrual periods for the year during which \\nthe owner held the debt instrument.\\n4.Add the results in steps (2) and (3) to de-\\ntermine the owner's OID per $1,000 of sta-\\nted redemption price at maturity.\\n5.If necessary, adjust the OID in step (4) to \\nreflect the debt instrument's stated re-\\ndemption price at maturity.\\nReport the result on Form 1099-OID in box 1.\\nUsing the income tax regulations.  In-\\nstead of using Section I to figure the OID, you \\ncan use the Regulations under sections 1272 Page 4 of 18  Fileid: … ns/p1212/202301/a/xml/cycle06/source 12:46 - 31-Mar-2023\\nThe type and rule above prints on all proofs including departmental reproduction proofs. MUST be removed before printing.\\nPage 4 Publication 1212 (January 2023)\", start_char_idx=None, end_char_idx=None, text_template='{metadata_str}\\n\\n{content}', metadata_template='{key}: {value}', metadata_seperator='\\n'),\n",
       " Document(id_='1bb4573f-66bd-405f-ad94-bcd7742e02bf', embedding=None, metadata={'page_label': '5', 'file_name': 'p1212.pdf'}, excluded_embed_metadata_keys=[], excluded_llm_metadata_keys=[], relationships={}, hash='8d0f43d2654be127aa105a372dc497b44894bf32333b71cd2edc3d916a81d1df', text=\"through 1275. For example, under the regula-\\ntions, you can use monthly accrual periods in \\nfiguring OID for a debt instrument issued after \\nApril 3, 1994, that provides for monthly pay-\\nments. (If you use Section I -B, the OID is fig-\\nured using 6-month accrual periods.)\\nFor a general explanation of the rules for fig-\\nuring OID under the regulations, see Figuring \\nOID on Long -Term Debt Instruments  under In-\\nformation for Owners of OID Debt Instruments , \\nlater.\\nCertificates of Deposit\\nIf you hold a bank certificate of deposit (CD) as \\na nominee, you must determine whether the CD \\nhas OID and any OID includible in the income of \\nthe owner. You must file an information return \\nshowing the reportable interest and OID, if any, \\non the CD. These rules apply whether or not \\nyou sold the CD to the owner. Report OID on a \\nCD in the same way as OID on other debt in-\\nstruments. See Short -Term Obligations Re-\\ndeemed at Maturity  and Long -Term Debt Instru-\\nments , earlier.\\nBearer Bonds and Coupons\\nIf a coupon from a bearer bond is presented to \\nyou for collection before the bond matures, you \\nmust generally report the interest on Form \\n1099- INT. However, do not report the interest if \\neither of the following applies.\\n•You hold the bond as a nominee for the \\ntrue owner.\\n•The payee is a foreign person. See \\nBackup Withholding , later.\\nBecause you cannot assume the presenter of \\nthe coupon also owns the bond, you should not \\nreport OID on the bond on Form 1099 -OID. The \\ncoupon may have been “stripped” (separated) \\nfrom the bond and separately purchased.\\nHowever, if a long -term bearer bond in the \\nOID tables is presented to you for redemption \\nupon call or maturity, you should prepare a \\nForm 1099 -OID showing the OID for that calen-\\ndar year, as well as any coupon interest pay-\\nments collected at the time of redemption.\\nBackup Withholding\\nIf you report OID on Form 1099 -OID or interest \\non Form 1099 -INT for a calendar year, you may \\nbe required to apply backup withholding to the \\nreportable payment at a rate of 24% (0. 24). The \\nbackup withholding is deducted at the time a \\ncash payment is made. See Pub. 1281 for more \\ninformation.\\nBackup withholding generally applies to re-\\nportable interest and OID in the following situa-\\ntions.\\n1.The payee does not give you a taxpayer \\nidentification number (TIN). A payee who \\nprovides an obviously incorrect TIN, de-\\nfined as a number that does not have 9 \\ndigits, has not given you a TIN.\\n2.The IRS notifies you that the payee gave \\nan incorrect TIN.3.The IRS notifies you that the payee is sub-\\nject to backup withholding due to payee \\nunderreporting.\\n4.For debt instruments acquired after 1983:\\na.The payee does not certify, under \\npenalties of perjury, that he or she is \\nnot subject to backup withholding un-\\nder (3); or\\nb.The payee does not certify, under \\npenalties of perjury, that the TIN given \\nis correct.\\nHowever, an exception exists for certain \\nwindow payments of interest. For short -term \\ndiscount obligations (other than government ob-\\nligations), bearer bonds and coupons, and U.S. \\nsavings bonds, backup withholding applies only \\nif the payee does not give you a TIN or gives \\nyou an obviously incorrect number for a TIN.\\nShort- term obligations.  Backup withholding \\napplies to the payment of OID that is includible \\nin the holder’s gross income, to the extent it is in \\ncash. However, backup withholding applies to \\nany interest payable before maturity when the \\ninterest is paid or credited.\\nIf the owner of a short -term obligation at ma-\\nturity is not the original owner and can establish \\nthe purchase price of the obligation, the amount \\nsubject to backup withholding must be deter-\\nmined by treating the purchase price as the is-\\nsue price. However, you can choose to disre-\\ngard that price if it would require significant \\nmanual intervention in the computer or record-\\nkeeping system used for the obligation. If the \\npurchase price of a listed obligation is not es-\\ntablished or is disregarded, you must use the is-\\nsue price shown in Section III.\\nLong- term obligations.  If no cash payments \\nare made on a long -term obligation before ma-\\nturity, backup withholding applies only at matur-\\nity. The amount subject to backup withholding is \\nthe OID includible in the owner's gross income \\nfor the calendar year when the obligation ma-\\ntures. The amount to be withheld is limited to \\nthe cash paid.\\nRegistered long -term obligations with \\ncash payments.  If a registered long -term obli-\\ngation has cash payments before maturity, \\nbackup withholding applies when a cash pay-\\nment is made. The amount subject to backup \\nwithholding is the total of the qualified stated in-\\nterest (defined earlier under Definitions ) and \\nOID includible in the owner's gross income for \\nthe calendar year when the payment is made. If \\nmore than one cash payment is made during \\nthe year, the OID subject to withholding for the \\nyear must be allocated among the expected \\ncash payments in the ratio that each bears to \\nthe total of the expected cash payments. For \\nany payment, the required withholding is limited \\nto the cash paid.\\nPayee not the original owner.  If the \\npayee is not the original owner of the obligation, \\nthe OID subject to backup withholding is the \\nOID includible in the gross income of all owners \\nduring the calendar year (without regard to any \\namount paid by the new owner at the time of \\ntransfer). The amount subject to backup with-\\nholding at maturity of a listed obligation must be determined using the issue price shown in Sec-\\ntion I.\\nBearer long -term obligations with cash \\npayments. If a bearer long -term obligation has \\ncash payments before maturity, backup with-\\nholding applies when the cash payments are \\nmade. For payments before maturity, the \\namount subject to withholding is the qualified \\nstated interest (defined earlier under Defini-\\ntions ) includible in the owner's gross income for \\nthe calendar year. For a payment at maturity, \\nthe amount subject to withholding is only the to-\\ntal of any qualified stated interest paid at matur-\\nity and the OID includible in the owner's gross \\nincome for the calendar year when the obliga-\\ntion matures. The required withholding at ma-\\nturity is limited to the cash paid.\\nSales and redemptions.  If you report the \\ngross proceeds from a sale, exchange, or re-\\ndemption of a debt instrument on Form 1099 -B \\nfor a calendar year, you may be required to \\nwithhold 24% (0.24) of the amount reported. \\nBackup withholding applies in the following sit-\\nuations.\\n•The payee does not give you a TIN.\\n•The IRS notifies you that the payee gave \\nan incorrect TIN.\\n•For debt instruments held in an account \\nopened after 1983, the payee does not \\ncertify, under penalties of perjury, that the \\nTIN given is correct.\\nPayments outside the United States to U.S. \\nperson. The requirements for backup with-\\nholding generally apply to certain payments of \\nOID and interest made outside the United \\nStates if you actually know the payee is a U.S. \\nperson. Otherwise, the requirements for backup \\nwithholding generally do not apply to payments \\nof OID and interest made outside the United \\nStates or to payments made to a payee that you \\nmay treat as a foreign person (including by re-\\nceipt of the appropriate Form W -8 or documen-\\ntary evidence, when permitted). A U.S. resident \\nor citizen is not a foreign person.\\nMore information.  For more information \\nabout backup withholding and exceptions to \\nbackup withholding, see Regulations section \\n31.3406(g)- 1 and Pub. 515. For information \\nabout information reporting on payments made \\noutside the U.S. or to foreign persons, see Reg-\\nulations sections 1. 6049- 5(c) through (e), Pub. \\n515, and the General Instructions for Certain In-\\nformation Returns.\\nInformation for Owners \\nof OID Debt Instruments\\nThis section is for persons who prepare their \\nown tax returns. It discusses the income tax \\nrules for figuring and reporting OID on long -term \\ndebt instruments. It also includes a similar dis-\\ncussion for stripped bonds and coupons, such \\nas zero coupon bonds available through the \\nDepartment of the Treasury's STRIPS program \\nand government -sponsored enterprises such \\nas the Resolution Funding Corporation. How-\\never, the information provided does not cover \\nevery situation. More information can be found Page 5 of 18  Fileid: … ns/p1212/202301/a/xml/cycle06/source 12:46 - 31-Mar-2023\\nThe type and rule above prints on all proofs including departmental reproduction proofs. MUST be removed before printing.\\nPublication 1212 (January 2023)   Page 5\", start_char_idx=None, end_char_idx=None, text_template='{metadata_str}\\n\\n{content}', metadata_template='{key}: {value}', metadata_seperator='\\n'),\n",
       " Document(id_='8e5203a7-d2b4-457e-88be-5b7f8ebf7600', embedding=None, metadata={'page_label': '6', 'file_name': 'p1212.pdf'}, excluded_embed_metadata_keys=[], excluded_llm_metadata_keys=[], relationships={}, hash='b44afd94c8dec51d896fbeddc50962cbf861a714ee086d769c9ae14210c1b3cd', text=\"in Regulations under sections 1271 through \\n1275.\\nIncluding OID in income.  Generally, you in-\\nclude OID in income as it accrues each year, \\nwhether or not you receive any payments from \\nthe debt instrument issuer.\\nExceptions. The rules for including OID in \\nincome as it accrues generally do not apply to \\nthe following debt instruments.\\n•U.S. savings bonds.\\n•Tax-exempt obligations. (However, see \\nTax-Exempt Bonds and Coupons , later.)\\n•Loans of $10,000 or less between individu-\\nals who are not in the business of lending \\nmoney. (The dollar limit includes outstand-\\ning prior loans by the lender to the bor-\\nrower.) This exception does not apply if a \\nprincipal purpose of the loan is to avoid \\nany federal tax.\\nSee chapter 1 of Pub. 550  for information \\nabout the rules for these and other types of dis-\\ncounted debt instruments, such as short -term \\nand market discount obligations. Pub. 550 also \\ndiscusses rules for holders of REMIC interests \\nand CDOs.\\nDe minimis rule.  You can treat OID as zero if \\nthe total OID on a debt instrument is less than \\none-fourth of 1% (0. 0025) of the stated redemp-\\ntion price at maturity multiplied by the number of \\nfull years from the date of original issue to ma-\\nturity. Debt instruments with de minimis OID are \\nnot listed in this publication. There are special \\nrules to determine the de minimis amount in the \\ncase of debt instruments that provide for more \\nthan one payment of principal. Also, the de min-\\nimis rules generally do not apply to tax -exempt \\nobligations.\\nExample 2.  You bought at issuance a \\n10-year debt instrument with a stated redemp-\\ntion price at maturity of $1,000, issued at $980 \\nwith OID of $20. One -fourth of 1% (0.0025) of \\n$1,000 (the stated redemption price) times 10 \\n(the number of full years from the date of origi-\\nnal issue to maturity) equals $25. Under the de \\nminimis rule, you can treat the OID as zero be-\\ncause the $20 discount is less than $25.\\nExample 3.  Assume the same facts as Ex-\\nample 2 , except the debt instrument was issued \\nat $950. You must report part of the $50 OID \\neach year because it is more than $25.\\nChoice to report all interest as OID.  Gener-\\nally, you can choose to treat all interest on a \\ndebt instrument acquired after April 3, 1994, as \\nOID and include it in gross income by using the \\nconstant yield method. See Constant yield \\nmethod  under Debt Instruments Issued After \\n1984 , later, for more information.\\nFor this choice, interest includes stated in-\\nterest, acquisition discount, OID, de minimis \\nOID, market discount, de minimis market dis-\\ncount, and unstated interest, as adjusted by any \\namortizable bond premium or acquisition pre-\\nmium. For more information, see Regulations \\nsection 1.1272-3.\\nPurchase after date of original issue. A debt \\ninstrument you purchased after the date of origi-\\nnal issue may have premium, acquisition pre-mium, or market discount. If your debt instru-\\nment has premium or acquisition premium, the \\nOID reported to you on Form 1099 -OID may \\nhave to be adjusted. For more information, see \\nShowing an OID adjustment  under How To Re-\\nport OID , later. If your debt instrument is a cov-\\nered security under Regulations section \\n1.6045- 1(a)(15), market discount, acquisition \\npremium, or premium is reported in box 5, 6, or \\n10 of Form 1099 -OID, respectively. The follow-\\ning rules generally do not apply to contingent \\npayment debt instruments.\\nAdjustment for premium.  If your debt in-\\nstrument (other than an inflation -indexed debt \\ninstrument) has premium, do not report any OID \\nas ordinary income. Your adjustment is the total \\nOID shown on your Form 1099 -OID. If you pay \\na premium to buy a debt instrument, you may \\nbe able to amortize the premium over the re-\\nmaining term of the debt instrument, which \\nwould allow you to reduce the amount of quali-\\nfied stated interest reportable with respect to \\nthe debt instrument starting as of the date of \\npurchase. For more information, see Bond \\nPremium Amortization  in Pub. 550 .\\nAdjustment for acquisition premium.  If \\nyour debt instrument has acquisition premium, \\nreduce the OID you report. Your adjustment is \\nthe difference between the OID shown on your \\nForm 1099 -OID and the reduced OID amount \\nfigured using the rules explained later under \\nFiguring OID on Long -Term Debt Instruments . If \\nyour debt instrument is a covered security un-\\nder Regulations section 1. 6045- 1(a)(15), your \\nbroker may either report the acquisition pre-\\nmium amortization adjustment amount in box 6 \\nor may report a net amount of OID in box 1 or \\nbox 8, as applicable, that reflects the adjust-\\nment of OID by the amortized acquisition pre-\\nmium. In general, your broker will use the rules \\nin Regulations section 1. 1272 ‐2(b)(4) to deter-\\nmine the amortization of acquisition premium.\\nMarket discount.  If your debt instrument \\nhas market discount that you choose to include \\nin income currently and if the debt instrument is \\na covered security under Regulations section \\n1.6045 ‐1(a)(15), your broker will report the mar-\\nket discount includible in income in box 5 of \\nForm 1099 -OID if you notify your broker in writ-\\ning that you elect to include market discount in \\nincome as it accrues. Unless you notify your \\nbroker in writing that you have not elected to \\nuse a constant yield method under section \\n1276(b) to determine accruals of market dis-\\ncount, your broker will use a constant yield \\nmethod to determine accruals of market dis-\\ncount rather than a ratable method.\\nSee Market Discount Bonds  in chapter 1 of \\nPub. 550  for information on how to figure ac-\\ncrued market discount and include it in your in-\\ncome currently and for other information about \\nmarket discount bonds.\\nIf you choose to use the constant yield \\nmethod to figure accrued market discount, also \\nsee Figuring OID on Long -Term Debt Instru-\\nments , later. The constant yield method of figur-\\ning accrued OID, explained under Debt Instru-\\nments Issued After July 1, 1982, and Before \\n1985  or Debt Instruments Issued After 1984 , as \\nappropriate, is also used to figure accrued mar-\\nket discount.For more information concerning premium \\nor market discount on an inflation -indexed debt \\ninstrument, see Regulations section 1.1275-7.\\nSale, exchange, or redemption.  Generally, \\nyou treat your gain or loss from the sale, ex-\\nchange, or redemption of an OID debt instru-\\nment as a capital gain or loss if you held the \\ndebt instrument as a capital asset. If you sold \\nthe debt instrument through a broker, you \\nshould receive Form 1099 -B or an equivalent \\nstatement from the broker. Use the Form \\n1099- B or other statement and your brokerage \\nstatements to complete Form 8949, and Sched-\\nule D (Form 1040).\\nYour gain or loss is the difference between \\nthe amount you realized on the sale, exchange, \\nor redemption and your basis in the debt instru-\\nment. Your basis, generally, is your cost in-\\ncreased by the OID you have included in in-\\ncome each year you held it. In general, to \\ndetermine your gain or loss on a tax -exempt \\nbond, figure your basis in the bond by adding to \\nyour cost the OID you would have included in \\nincome if the bond had been taxable. For a cov-\\nered security, your broker will report the adjus-\\nted basis of the debt instrument to you on Form \\n1099-B.\\nSee chapter 4  of Pub. 550  for more informa-\\ntion about the tax treatment of the sale or re-\\ndemption of discounted debt instruments.\\nExample 4.  Larry, a calendar year tax-\\npayer, bought a corporate debt instrument at \\noriginal issue for $86,235.00 on November 1 of \\nYear 1. The 15-year debt instrument matures on \\nOctober 31 of Year 16 at a stated redemption \\nprice of $100,000. The debt instrument pro-\\nvides for semiannual payments of interest at \\n10% (0.10). Assume the debt instrument is a \\ncapital asset in Larry's hands. The debt instru-\\nment has $13,765.00 of OID ($100,000 stated \\nredemption price at maturity minus $86,235. 00 \\nissue price).\\nLarry sold the debt instrument for $90,000 \\non November 1 of Year 4. Including the OID he \\nwill report for the period he held the debt instru-\\nment in Year 4, Larry has included $4,556. 00 of \\nOID in income and has increased his basis by \\nthat amount to $90,791.00. Larry has realized a \\nloss of $791.00. All of Larry's loss is capital \\nloss.\\nForm 1099-OID\\nThe issuer of the debt instrument (or your \\nbroker, if you purchased or held the debt instru-\\nment through a broker) should give you a copy \\nof Form 1099-OID  or a similar statement if the \\naccrued OID for the calendar year is $10 or \\nmore and the term of the debt instrument is \\nmore than 1 year. Form 1099 -OID shows all \\nOID income in box 1 except OID on a U.S. \\nTreasury obligation, which is shown in box 8. It \\nalso shows, in box 2, any qualified stated inter-\\nest you must include in income. (However, any \\nqualified stated interest on TIPS can be repor-\\nted on Form 1099 -INT in box 3.) For a taxable \\ncovered security, Form 1099-OID may show ac-\\ncrued market discount in box 5, acquisition pre-\\nmium in box 6, or premium in box 10. For a tax-\\nable covered security with acquisition premium, \\nbox 1 or box 8, as applicable, may show a net Page 6 of 18  Fileid: … ns/p1212/202301/a/xml/cycle06/source 12:46 - 31-Mar-2023\\nThe type and rule above prints on all proofs including departmental reproduction proofs. MUST be removed before printing.\\nPage 6 Publication 1212 (January 2023)\", start_char_idx=None, end_char_idx=None, text_template='{metadata_str}\\n\\n{content}', metadata_template='{key}: {value}', metadata_seperator='\\n'),\n",
       " Document(id_='daa5c479-a2e7-4348-b15d-ed42367246ce', embedding=None, metadata={'page_label': '7', 'file_name': 'p1212.pdf'}, excluded_embed_metadata_keys=[], excluded_llm_metadata_keys=[], relationships={}, hash='e5a443268b4e17cf3c99ff60c607a7bfb98c278458ab8b687b9af86f12c3c2f1', text=\"amount of OID that reflects the offset of OID by \\nthe amount of acquisition premium amortization \\nfor the year. If so, box 6 will be blank. For a cov-\\nered security with bond premium, box 2 may \\nshow a net amount of qualified stated interest \\nthat reflects the offset of interest income by the \\namount of premium amortization for the year. If \\nso, box 10 will be blank. A copy of Form \\n1099- OID will be sent to the IRS. Do not attach \\nyour copy to your tax return. Keep it for your re-\\ncords.\\nIf you are required to file a tax return \\nand you receive Form 1099 -OID show-\\ning taxable amounts, you must report \\nthese amounts on your return. A 20% (0. 20) ac-\\ncuracy- related penalty may be charged for un-\\nderpayment of tax due to either negligence or \\ndisregard of rules and regulations or substantial \\nunderstatement of tax.\\nTax- exempt obligations.  For a tax -exempt \\nOID obligation that is a covered security ac-\\nquired on or after January 1, 2017, box 11 of \\nForm 1099 -OID shows the tax -exempt OID on \\nthe obligation for the part of the year you owned \\nit. If there is an amount in both boxes 10 and 11, \\nfor a tax -exempt obligation that is a covered se-\\ncurity acquired on or after January 1, 2017, and \\nissued with OID, the amount in box 10 shows \\nthe amount of premium amortization for the year \\nthat reduces the amount of your tax -exempt in-\\nterest for the year. The payer may, but is not re-\\nquired to, report the premium amortization for a \\ntax-exempt obligation that is a covered security \\nacquired before January 1, 2017, and issued \\nwith OID.\\nForm 1099 -OID not received.  If you held an \\nOID debt instrument for a calendar year but did \\nnot receive a Form 1099 -OID, refer to the dis-\\ncussions under Figuring OID on Long -Term \\nDebt Instruments , later, for information on the \\nOID you must report.\\nRefiguring OID.  You may need to refigure the \\nOID shown in box 1 or box 8 of Form 1099 -OID \\nto determine the proper amount to include in in-\\ncome if one of the following applies.\\n•You bought the debt instrument at a pre-\\nmium or at an acquisition premium. How-\\never, if you bought a covered security at an \\nacquisition premium, you may not have to \\nrefigure the OID if your broker reported a \\nnet adjusted amount of OID in box 1 or \\nbox 8, as applicable, that reflects the ad-\\njustment of the OID by the amortized ac-\\nquisition premium.\\n•The debt instrument is a stripped bond or \\ncoupon (including zero coupon bonds \\nbacked by U.S. Treasury securities).\\n•The debt instrument is a contingent pay-\\nment or inflation-indexed debt instrument.\\nSee the discussions under Figuring OID on \\nLong -Term Debt Instruments  or Figuring OID on \\nStripped Bonds and Coupons , later, for the spe-\\ncific computations.\\nRefiguring interest.  If you disposed of a debt \\ninstrument or acquired it from another holder \\nbetween interest dates, see the discussion un-\\nder Bonds Sold Between Interest Dates  in \\nchapter 1 of Pub. 550  for information about refi-\\nCAUTION!guring the interest shown on Form 1099 -OID in \\nbox 2.\\nNominee. If you are the holder of an OID debt \\ninstrument and you receive a Form 1099 -OID \\nthat shows your TIN and includes amounts be-\\nlonging to another person, you are considered a \\n“nominee.” You must file another Form \\n1099- OID for each actual owner, showing the \\nOID for the owner. Show the owner of the debt \\ninstrument as the “recipient” and you as the \\n“payer.”\\nComplete Form 1099 -OID and Form 1096 \\nand file the forms with the Internal Revenue \\nService Center for your area. See Where To \\nFile in the Instructions for Form 1096. You must \\nalso give a copy of the Form 1099 -OID to the \\nactual owner. However, you are not required to \\nfile a nominee return to show amounts belong-\\ning to your spouse. See the Form 1099 -OID in-\\nstructions for more information.\\nWhen preparing your tax return, follow the \\ninstructions under Showing an OID adjustment , \\nlater.\\nHow To Report OID\\nYou report your taxable interest and OID in-\\ncome on the interest line of Form 1040 or \\n1040-SR.\\nWhere to report.  List each payer's name (if a \\nbrokerage firm gave you a Form 1099, list the \\nbrokerage firm as the payer), and the amount \\nreceived from each payer on Schedule B (Form \\n1040), line 1. Include all OID and qualified sta-\\nted interest shown on any Form 1099 -OID, \\nboxes 1, 2, and 8, you received for the tax year. \\nAlso include any other OID and interest income \\nfor which you did not receive a Form 1099.\\nShowing an OID adjustment.  To report more \\nor less OID than shown in box 1 or box 8 on \\nForm 1099 -OID, list the full OID on Schedule B \\n(Form 1040), Part I, line 1, and follow the in-\\nstructions under (1) or (2) next.\\n1.If the OID, as adjusted, is less than the \\namount shown on Form 1099-OID, show \\nthe adjustment as follows.\\na.Under your last entry on line 1, subto-\\ntal all interest and OID income listed \\non line 1.\\nb.Below the subtotal, write “Nominee \\nDistribution” or “OID Adjustment” and \\nshow the OID you are not required to \\nreport.\\nc.Subtract that OID from the subtotal \\nand enter the result on line 2.\\n2.If the OID, as adjusted, is more than the \\namount shown on Form 1099-OID, show \\nthe adjustment as follows.\\na.Under your last entry on line 1, subto-\\ntal all interest and OID income listed \\non line 1.\\nb.Below the subtotal, write “OID Adjust-\\nment” and show the additional OID.\\nc.Add that OID to the subtotal and enter \\nthe result on line 2.Note. The above does not apply to a debt \\ninstrument acquired at an acquisition premium if \\nthe broker reported a net amount of OID rather \\nthan a gross amount of OID in box 1 or box 8.\\nFiguring OID on Long-Term \\nDebt Instruments\\nHow you figure the OID on a long -term debt in-\\nstrument depends on the date it was issued. It \\nmay also depend on the type of the debt instru-\\nment. There are different rules for each of the \\nfollowing debt instruments.\\n1.Debt instruments issued after July 1, \\n1982, and before 1985.\\n2.Debt instruments issued after 1984 (other \\nthan debt instruments described in Box 6 \\nunder Form 1099 -OID, earlier).\\n3.Contingent payment debt instruments is-\\nsued after August 12, 1996.\\n4.Inflation-indexed debt instruments (includ-\\ning TIPS) issued after January 5, 1997.\\nZero coupon bonds.  The rules for figuring \\nOID on zero coupon bonds, including those \\nbacked by U.S. Treasury securities, are dis-\\ncussed under Figuring OID on Stripped Bonds \\nand Coupons , later.\\nForm 1099 -OID. You should receive a Form \\n1099- OID showing OID for the part of the year \\nyou held the debt instrument. However, if you \\npaid an acquisition premium, you may need to \\nrefigure the OID to report on your tax return. \\nSee Reduction for acquisition premium , later. If \\nyour debt instrument is a covered security un-\\nder Regulations section 1. 6045- 1(a)(15), you \\nmay not have to refigure the OID if your broker \\nreported a net adjusted amount of OID in box 1 \\nor box 8, as applicable, that reflects the adjust-\\nment of OID by the amortized acquisition pre-\\nmium.\\nIf you held an OID debt instrument in a \\ncalendar year but did not receive a \\nForm 1099 -OID, see Form 1099 -OID \\nnot received , later, and refer to Section I -A in \\nthe Original Issue Discount (OID) Tables, avail-\\nable at IRS.gov/Pub1212  by clicking the link un-\\nder Recent Developments.\\nForm 1099 -OID not received.  The OID listed \\nis for each $1,000 of redemption price. You \\nmust adjust the listed amount if your debt instru-\\nment has a different principal amount. For ex-\\nample, if you have a debt instrument with a \\n$500 principal amount, use one -half the listed \\namount to figure your OID.\\nIf you held the debt instrument the entire \\nyear, use the OID shown in Section I-A  for a cal-\\nendar year. (If your debt instrument is not listed \\nin Section I -A, consult the issuer for information \\nabout the issue price and the OID that accrued \\nfor that year.) If you did not hold the debt instru-\\nment the entire year, figure your OID using the \\nfollowing method.\\n1.Divide the OID shown by 12.\\n2.Multiply the result in (1) by the number of \\ncomplete and partial months (for example, \\n61/2 months) you held the debt instrument \\nduring a calendar year. This is the OID to \\nPage 7 of 18  Fileid: … ns/p1212/202301/a/xml/cycle06/source 12:46 - 31-Mar-2023\\nThe type and rule above prints on all proofs including departmental reproduction proofs. MUST be removed before printing.\\nPublication 1212 (January 2023)   Page 7\", start_char_idx=None, end_char_idx=None, text_template='{metadata_str}\\n\\n{content}', metadata_template='{key}: {value}', metadata_seperator='\\n'),\n",
       " Document(id_='dd522f11-f6b3-4c63-95c4-7ed7216892f2', embedding=None, metadata={'page_label': '8', 'file_name': 'p1212.pdf'}, excluded_embed_metadata_keys=[], excluded_llm_metadata_keys=[], relationships={}, hash='2c9e075a35c505bf6a34676b2bcf3cb5e9fbb23cdeea3c32ec39eda316c26289', text=\"include in income unless you paid an ac-\\nquisition premium. The reduction for ac-\\nquisition premium is discussed next.\\nReduction for acquisition premium.  If you \\nbought the debt instrument at an acquisition \\npremium, figure the OID to include in income as \\nfollows.\\n1.Divide the total OID on the debt instrument \\nby the number of complete months, and \\nany part of a month, from the date of origi-\\nnal issue to the maturity date. This is the \\nmonthly OID.\\n2.Subtract from your cost the issue price \\nand the accumulated OID from the date of \\nissue to the date of purchase. (If the result \\nis zero or less, stop here. You did not pay \\nan acquisition premium.)\\n3.Divide the amount figured in (2) by the \\nnumber of complete months, and any part \\nof a month, from the date of your purchase \\nto the maturity date.\\n4.Subtract the amount figured in (3) from the \\namount figured in (1). This is the OID to in-\\nclude in income for each month you hold \\nthe debt instrument during the year.\\nTransfers during the month. If you buy or sell \\na debt instrument on any day other than the \\nsame day of the month as the date of original is-\\nsue, the portion of OID for the month of sale is \\ndivided between the seller and the buyer ac-\\ncording to the number of days each held the \\ndebt instrument. Your holding period for this \\npurpose begins the day you acquire the debt in-\\nstrument and ends the day before you dispose \\nof it.\\nDebt Instruments Issued After July \\n1, 1982, and Before 1985\\nIf you hold these debt instruments as capital as-\\nsets, you must include part of the OID in income \\neach year you own the debt instruments and in-\\ncrease your basis by the amount included. For \\ninformation about showing the correct OID on \\nyour tax return, see How To Report OID , earlier.\\nForm 1099 -OID. You should receive a Form \\n1099- OID showing OID for the part of the year \\nyou held the debt instrument. However, if you \\npaid an acquisition premium, you may need to \\nrefigure the OID to report on your tax return. \\nSee Constant yield method  and the discussions \\non acquisition premium that follow, later.\\nIf you held an OID debt instrument in a \\ncalendar year but did not receive a \\nForm 1099 -OID, see Form 1099 -OID \\nnot received , later, and refer to Section I -A in \\nthe Original Issue Discount (OID) Tables, avail-\\nable at IRS.gov/Pub1212  by clicking the link un-\\nder Recent Developments.\\nForm 1099 -OID not received.  The OID listed \\nis for each $1,000 of redemption price. You \\nmust adjust the listed amount if your debt instru-\\nment has a different principal amount. For ex-\\nample, if you have a debt instrument with a \\n$500 principal amount, use one -half the listed \\namount to figure your OID.\\nIf you held the debt instrument the entire \\nyear, use the OID shown in Section I -A. (If your \\ninstrument is not listed in Section I -A, consult \\nthe issuer for information about the issue price, \\nthe YTM, and the OID that accrued for that \\nyear.) If you did not hold the debt instrument the \\nentire year, figure your OID using either of the \\nfollowing methods.\\nMethod 1. \\n1.Divide the total OID for a calendar year by \\n365 (366 for leap years).\\n2.Multiply the result in (1) by the number of \\ndays you held the debt instrument during \\nthat particular year.\\nThis computation is an approximation and may \\nresult in a slightly higher OID than method 2.\\nMethod 2. \\n1.Look up the daily OID for the first accrual \\nperiod you held the debt instrument during \\na calendar year. (See Accrual period  un-\\nder Debt Instruments Issued After July 1, \\n1982, and Before 1985 , later.)\\n2.Multiply the daily OID by the number of \\ndays you held the debt instrument during \\nthat accrual period.\\n3.If you held the debt instrument for part of \\nboth accrual periods, repeat (1) and (2) for \\nthe second accrual period.\\n4.Add the results of (2) and (3). This is the \\nOID to include in income, unless you paid \\nan acquisition premium. (The reduction for \\nacquisition premium is discussed later.)\\nConstant yield method.  This discussion \\nshows how to figure OID on debt instruments is-\\nsued after July 1, 1982, and before 1985, using \\na constant yield method. OID is allocated over \\nthe life of the debt instrument through adjust-\\nments to the issue price for each accrual pe-\\nriod.\\nFigure the OID allocable to any accrual pe-\\nriod as follows.\\n1.Multiply the adjusted issue price at the be-\\nginning of the accrual period by the debt \\ninstrument's YTM.\\n2.Subtract from the result in (1) any qualified \\nstated interest allocable to the accrual pe-\\nriod.\\nAccrual period.  An accrual period for any \\nOID debt instrument issued after July 1, 1982, \\nand before 1985 is each year period beginning \\non the date of the issue of the obligation and \\neach anniversary thereafter, or the shorter pe-\\nriod to maturity for the last accrual period. Your \\ntax year will usually include parts of two accrual \\nperiods.\\nDaily OID.  The OID for any accrual period \\nis allocated equally to each day in the accrual \\nperiod. You must include in income the sum of \\nthe OID amounts for each day you hold the debt \\ninstrument during the year. If your tax year in-\\ncludes parts of two or more accrual periods, \\nyou must include the proper daily OID amounts \\nfor each accrual period.Figuring daily OID.  The daily OID for the \\ninitial accrual period is figured using the follow-\\ning formula.\\n(ip × ytm) − qsi\\np\\nip=issue price\\nytm =yield to maturity\\nqsi =qualified stated interest\\np=number of days in accrual period\\nThe daily OID for subsequent accrual peri-\\nods is figured the same way except the adjus-\\nted issue price at the beginning of each period \\nis used in the formula instead of the issue price.\\nReduction for acquisition premium on debt \\ninstruments purchased before July 19, \\n1984. If you bought the debt instrument at an \\nacquisition premium before July 19, 1984, fig-\\nure the OID includible in income by reducing the \\ndaily OID by the daily acquisition premium. Fig-\\nure the daily acquisition premium by dividing \\nthe total acquisition premium by the number of \\ndays in the period beginning on your purchase \\ndate and ending on the day before the date of \\nmaturity.\\nReduction for acquisition premium on debt \\ninstruments purchased after July 18, 1984. \\nIf you bought the debt instrument at an acquisi-\\ntion premium after July 18, 1984, figure the OID \\nincludible in income by reducing the daily OID \\nby the daily acquisition premium. However, the \\nmethod of figuring the daily acquisition premium \\nis different from the method described in the \\npreceding discussion. To figure the daily ac-\\nquisition premium under this method, multiply \\nthe daily OID by the following fraction.\\n•The numerator is the acquisition premium.\\n•The denominator is the total OID remaining \\nfor the debt instrument after your purchase \\ndate.\\nSection I -A in the Original Issue Dis-\\ncount (OID) Tables is available at \\nIRS.gov/Pub1212  by clicking the link \\nunder Recent Developments.\\nUsing Section I -A to figure accumulated \\nOID. If you bought your corporate debt instru-\\nment in a calendar year or the subsequent year, \\nyou can figure the accumulated OID to the date \\nof purchase by adding the following amounts.\\n1.The amount from the “Total OID to Janu-\\nary 1, YYYY” column for your debt instru-\\nment.\\n2.The OID from January 1 of a calendar year \\nto the date of purchase, figured as follows.\\na.Multiply the daily OID for the first ac-\\ncrual period in the calendar year by \\nthe number of days from January 1 to \\nthe date of purchase, or the end of the \\naccrual period if the debt instrument \\nwas purchased in the second or third \\naccrual period.\\nb.Multiply the daily OID for each subse-\\nquent accrual period by the number of \\ndays in the period to the date of \\nPage 8 of 18  Fileid: … ns/p1212/202301/a/xml/cycle06/source 12:46 - 31-Mar-2023\\nThe type and rule above prints on all proofs including departmental reproduction proofs. MUST be removed before printing.\\nPage 8 Publication 1212 (January 2023)\", start_char_idx=None, end_char_idx=None, text_template='{metadata_str}\\n\\n{content}', metadata_template='{key}: {value}', metadata_seperator='\\n'),\n",
       " Document(id_='a1116244-710f-4c15-9635-5b1f66a6ed09', embedding=None, metadata={'page_label': '9', 'file_name': 'p1212.pdf'}, excluded_embed_metadata_keys=[], excluded_llm_metadata_keys=[], relationships={}, hash='f3c1646a1fe4d09d2c37f73c671d84f83aa257d8bb8557895726516ed929c3c6', text=\"purchase or the end of the accrual pe-\\nriod, whichever applies.\\nc.Add the amounts figured in (2a) and \\n(2b).\\nDebt Instruments Issued After \\n1984\\nIf you hold debt instruments issued after 1984, \\nyou must report part of the OID in gross income \\neach year that you own the debt instruments. \\nYou must include the OID in gross income \\nwhether or not you hold the debt instrument as \\na capital asset. Your basis in the debt instru-\\nment is increased by the OID you include in in-\\ncome. For information about showing the cor-\\nrect OID on your tax return, see How To Report \\nOID, earlier.\\nForm 1099 -OID. You should receive a Form \\n1099- OID showing OID for the part of a calen-\\ndar year you held the debt instrument. How-\\never, if you paid an acquisition premium, you \\nmay need to refigure the OID to report on your \\ntax return. See Constant yield method  and Re-\\nduction for acquisition premium , later.\\nIf your taxable debt instrument is a covered \\nsecurity, your broker will figure the amortization \\nof acquisition premium for you. Your broker may \\nreport either a gross amount of OID in box 1 or \\nbox 8, as applicable, and the acquisition pre-\\nmium amortization in box 6, or may report a net \\namount of OID that reflects the offset of OID by \\nthe amount of acquisition premium amortization \\nfor the year in box 1 or box 8, as applicable. In \\ngeneral, your broker will use the rules in Regu-\\nlations section 1. 1272 ‐2(b)(4) to determine the \\namortization of acquisition premium. However, \\nyou may use a constant yield method to amor-\\ntize acquisition premium if you make an election \\nunder Regulations section 1.1272 ‐3.\\nYou may also need to refigure the OID for a \\ncontingent payment or inflation -indexed debt in-\\nstrument on which the amount reported on \\nForm 1099 -OID is inaccurate. See Contingent \\nPayment Debt Instruments  or Inflation -Indexed \\nDebt Instruments , later.\\nIf you held an OID debt instrument in a \\ncalendar year but did not receive a \\nForm 1099 -OID, see Form 1099 -OID \\nnot received , later, and refer to Section I -B in \\nthe Original Issue Discount (OID) Tables, avail-\\nable at IRS.gov/Pub1212  by clicking the link un-\\nder Recent Developments.\\nForm 1099 -OID not received.  The OID listed \\nis for each $1,000 of redemption price. You \\nmust adjust the listed amount if your debt instru-\\nment has a different principal amount. For ex-\\nample, if you have a debt instrument with a \\n$500 principal amount, use one -half the listed \\namount to figure your OID.\\nUse the OID shown in Section I -B for a cal-\\nendar year if you held the debt instrument the \\nentire year. (If your debt instrument is not listed \\nin Section I -B, consult the issuer for information \\nabout the issue price, the YTM, and the OID \\nthat accrued for that year.) If you did not hold \\nthe debt instrument the entire year, figure your \\nOID as follows.\\n1.Look up the daily OID for the first accrual \\nperiod in which you held the debt instru-\\nment during a calendar year. (See Accrual \\nperiod  under Debt Instruments Issued Af-\\nter 1984 , later.)\\n2.Multiply the daily OID by the number of \\ndays you held the debt instrument during \\nthat accrual period.\\n3.Repeat (1) and (2) for any remaining ac-\\ncrual periods in which you held the debt \\ninstrument.\\n4.Add the results of (2) and (3). This is the \\nOID to include in income for that year, un-\\nless you paid an acquisition premium. \\n(The reduction for acquisition premium is \\ndiscussed later.)\\nTax- exempt bond.  If you own a tax -exempt \\nbond, figure your basis in the bond by adding to \\nyour cost the OID you would have included in \\nincome if the bond had been taxable. You need \\nto make this adjustment to determine if you \\nhave a gain or loss on a later disposition of the \\nbond. In general, use the rules that follow to de-\\ntermine your OID. If your tax -exempt bond is a \\ncovered security under Regulations section \\n1.6045- 1(a)(15), your broker will make this ad-\\njustment to your basis and will report the adjus-\\nted basis on Form 1099-B.\\nConstant yield method.  This discussion \\nshows how to figure OID on debt instruments is-\\nsued after 1984 using a constant yield method. \\n(The special rules that apply to contingent pay-\\nment debt instruments and inflation -indexed \\ndebt instruments are explained later.) OID is al-\\nlocated over the life of the debt instrument \\nthrough adjustments to the issue price for each \\naccrual period.\\nFigure the OID allocable to any accrual pe-\\nriod as follows.\\n1.Multiply the adjusted issue price at the be-\\nginning of the accrual period by a fraction. \\nThe numerator of the fraction is the debt \\ninstrument's YTM, and the denominator is \\nthe number of accrual periods per year. \\nThe yield must be stated appropriately tak-\\ning into account the length of the particular \\naccrual period.\\n2.Subtract from the result in (1) any qualified \\nstated interest allocable to the accrual pe-\\nriod.\\nAccrual period.  For debt instruments is-\\nsued after 1984 and before April 4, 1994, an ac-\\ncrual period is each 6 -month period that ends \\non the day that corresponds to the stated ma-\\nturity date of the debt instrument or the date 6 \\nmonths before that date. For example, a debt \\ninstrument maturing on March 31 has accrual \\nperiods that end on September 30 and March \\n31 of each calendar year. Any short period is in-\\ncluded as the first accrual period.\\nFor debt instruments issued after April 3, \\n1994, accrual periods may be of any length and \\nmay vary in length over the term of the debt in-\\nstrument, as long as each accrual period is no \\nlonger than 1 year and all payments are made \\non the first or last day of an accrual period. \\nHowever, the OID listed for these debt instru-\\nments in Section I -B has been figured using \\n6-month accrual periods.Daily OID.  The OID for any accrual period \\nis allocated equally to each day in the accrual \\nperiod. Figure the amount to include in income \\nby adding the OID for each day you hold the \\ndebt instrument during the year. Since your tax \\nyear will usually include parts of two or more ac-\\ncrual periods, you must include the proper daily \\nOID for each accrual period. If your debt instru-\\nment has 6 -month accrual periods, your tax \\nyear will usually include one full 6 -month ac-\\ncrual period and parts of two other 6 -month pe-\\nriods.\\nFiguring daily OID.  The daily OID for the \\ninitial accrual period is figured using the follow-\\ning formula.\\n(ip × ytm/n) − qsi\\np\\nip=issue price\\nytm =yield to maturity\\nn=number of accrual periods in 1 year\\nqsi =qualified stated interest\\np=number of days in accrual period\\nThe daily OID for subsequent accrual peri-\\nods is figured the same way except the adjus-\\nted issue price at the beginning of each period \\nis used in the formula instead of the issue price.\\nExample 5.  On January 1 of Year 1, you \\nbought a 15 -year, 10% (0.10) debt instrument \\nof A Corporation at original issue for \\n$86,235. 17. According to the prospectus, the \\ndebt instrument matures on December 31 of \\nYear 15 at a stated redemption price of \\n$100,000. The YTM is 12% (0.12), compoun-\\nded semiannually. The debt instrument pro-\\nvides for qualified stated interest payments of \\n$5,000 on June 30 and December 31 of each \\ncalendar year. The accrual periods are the \\n6-month periods ending on each of these dates. \\nThe number of days for the first accrual period \\n(January 1 through June 30) is 181 days (182 \\nfor leap years). The daily OID for the first ac-\\ncrual period is figured as follows.\\n($86,235.17 x 0.12/2) – $5,000\\n181 days\\n=$174.11020  =$0.96193181\\nThe adjusted issue price at the beginning of \\nthe second accrual period is the issue price \\nplus the OID previously includible in income \\n($86,235. 17 + $174.11), or $86,409.28. The \\nnumber of days for the second accrual period \\n(July 1 through December 31) is 184 days. The \\ndaily OID for the second accrual period is fig-\\nured as follows.\\n($86,409.28 x 0.12/2) – $5,000\\n184 days\\n=$184.55681\\n=$1.00303184Page 9 of 18  Fileid: … ns/p1212/202301/a/xml/cycle06/source 12:46 - 31-Mar-2023\\nThe type and rule above prints on all proofs including departmental reproduction proofs. MUST be removed before printing.\\nPublication 1212 (January 2023)   Page 9\", start_char_idx=None, end_char_idx=None, text_template='{metadata_str}\\n\\n{content}', metadata_template='{key}: {value}', metadata_seperator='\\n'),\n",
       " Document(id_='9756e55e-0212-4918-91ca-c19e4d5e676e', embedding=None, metadata={'page_label': '10', 'file_name': 'p1212.pdf'}, excluded_embed_metadata_keys=[], excluded_llm_metadata_keys=[], relationships={}, hash='a5a23566932efbe2fcdd3be6bd3092a30a3a88b492b7869f7022cd9319563dbb', text=\"Since the first and second accrual periods \\ncoincide exactly with your tax year, you include \\nin income for Year 1 the OID allocable to the \\nfirst two accrual periods, $174.11 ($0.96193 × \\n181 days) plus $184.56 ($1.00303 × 184 days), \\nor $358. 67. Add the OID to the $10,000 interest \\nyou report on your income tax return for Year 1.\\nExample 6.  Assume the same facts as in \\nExample 5 , except that you bought the debt in-\\nstrument at original issue on May 1 of Year 1, \\nwith a maturity date of April 30, Year 16. Also, \\nthe interest payment dates are October 31 and \\nApril 30 of each calendar year. The accrual pe-\\nriods are the 6 -month periods ending on each \\nof these dates.\\nThe number of days for the first accrual pe-\\nriod (May 1 through October 31) is 184 days. \\nThe daily OID for the first accrual period is fig-\\nured as follows.\\n($86,235.17 x 0.12/2) – $5,000\\n184 days\\n=$174.11020=$0.94625184\\nThe number of days for the second accrual \\nperiod (November 1 through April 30) is 181 \\ndays (182 for leap years). The daily OID for the \\nsecond accrual period is figured as follows.\\n($86,409.28 x 0.12/2) – $5,000\\n181 days\\n=$184.55681\\n=$1.01965181\\nIf you hold the debt instrument through the \\nend of Year 1, you must include $236.31 of OID \\nin income. This is $174.11 ($0.94625 × 184 \\ndays) for the period May 1 through October 31 \\nplus $62.20 ($1. 01965 × 61 days) for the period \\nNovember 1 through December 31. The OID is \\nadded to the $5,000 interest income paid on \\nOctober 31 of Year 1. Your basis in the debt in-\\nstrument is increased by the OID you include in \\nincome. On January 1 of Year 2, your basis in \\nthe A Corporation debt instrument is \\n$86,471.48 ($86,235.17 + $236.31).\\nShort first accrual period.  You may have \\nto make adjustments if a debt instrument has a \\nshort first accrual period. For example, a debt \\ninstrument with 6 -month accrual periods that is \\nissued on February 15 and matures on October \\n31 has a short first accrual period that ends \\nApril 30. (The remaining accrual periods begin \\non May 1 and November 1.) For this short pe-\\nriod, figure the daily OID as described earlier, \\nbut adjust the yield for the length of the short \\naccrual period. You may use any reasonable \\ncompounding method in determining OID for a \\nshort period. Examples of reasonable com-\\npounding methods include continuous com-\\npounding and monthly compounding (that is, \\nsimple interest within a month). Consult your tax \\nadvisor for more information about making this \\ncomputation.\\nThe OID for the final accrual period is the \\ndifference between the amount payable at ma-\\nturity (other than a payment of qualified stated interest) and the adjusted issue price at the be-\\nginning of the final accrual period.\\nReduction for acquisition premium.  If you \\nacquired a debt instrument with OID at an ac-\\nquisition premium, you must amortize the ac-\\nquisition premium over the life of the debt in-\\nstrument. Unless you make the constant yield \\nelection under Regulations section 1. 1272-3, \\nfigure the OID includible in income by reducing \\nthe daily OID by the daily acquisition premium. \\nTo figure the daily acquisition premium, multiply \\nthe daily OID by the following fraction.\\n•The numerator is the acquisition premium.\\n•The denominator is the total OID remaining \\nfor the debt instrument after your purchase \\ndate.\\nIf your debt instrument is a covered security, \\nyour broker may either report a gross amount of \\nOID in box 1 or box 8 and the amount of acquis-\\nition premium amortization in box 6, or your \\nbroker may report a net OID amount to you in \\nbox 1 or box 8, and leave box 6 blank.\\nIf your broker reports a net OID amount in \\nbox 1 or box 8, do not deduct acquisition pre-\\nmium amortization from that amount. If your \\nbroker reports a gross amount of OID in box 1 \\nor box 8, and the amount of acquisition pre-\\nmium amortization in box 6, follow steps 1.a \\nthrough 1.c under Showing an OID adjustment , \\nearlier.\\nExample 7.  Assume the same facts as in \\nExample 6 , except that you bought the debt in-\\nstrument on November 1 of Year 1 for $87,000, \\nafter its original issue on May 1 of Year 1. The \\nadjusted issue price on November 1 of Year 1 is \\n$86,409. 28 ($86,235.17 + $174.11). In this \\ncase, you paid an acquisition premium of \\n$590. 72 ($87,000 − $86,409.28). The daily OID \\nfor the accrual period November 1 through April \\n30, reduced for the acquisition premium, is fig-\\nured as follows.\\n1)Daily OID on date of purchase \\n(2nd accrual period) .......... $1.01965*\\n2)Acquisition \\npremium .......... $590.72\\n3)Total OID remaining \\nafter purchase date \\n($13,764.83 − \\n$174.11) ......... $13,590.72\\n4)Line 2 ÷ line 3 ............... 0.04346\\n5)Line 1 × line 4 ............... 0.04432\\n6)Daily OID reduced for the \\nacquisition premium. Line 1 \\n− line 5 ............... $0.97533\\n* As shown in Example 6,  earlier.\\nThe total OID to include in income for Year 1 \\nis $59.50 ($0.97533 × 61 days).\\nContingent Payment Debt \\nInstruments\\nThis discussion shows how to figure OID on a \\ncontingent payment debt instrument issued af-\\nter August 12, 1996, that was issued for cash or \\npublicly traded property. In general, a contin-\\ngent payment debt instrument provides for one \\nor more payments that are contingent as to tim-\\ning or amount. If you hold a contingent payment debt instrument, you must report OID as it ac-\\ncrues each year.\\nContingent payment debt instruments ac-\\nquired on or after January 1, 2016, are “covered \\nsecurities.” Dispositions of covered and non-\\ncovered securities must be reported on Form \\n8949. The gain or loss on these securities sub-\\nject to the noncontingent bond method will be \\nadjusted by any amounts shown in column (g) \\nwith a corresponding code O in column (f). In \\ngeneral, the gain from the sale of these securi-\\nties will be ordinary and losses will be ordinary \\nto the extent of prior-year OID inclusions.\\nBecause the actual payments on a contin-\\ngent payment debt instrument cannot be known \\nin advance, issuers and holders cannot use the \\nConstant yield method  (discussed earlier under \\nDebt Instruments Issued After 1984 ) without \\nmaking certain assumptions about the pay-\\nments on the debt instrument. To figure OID ac-\\ncruals on contingent payment debt instruments, \\nholders and issuers must use the noncontingent \\nbond method.\\nNoncontingent bond method.  Under this \\nmethod, the issuer must figure a comparable \\nyield for the debt instrument and, based on this \\nyield, construct a projected payment schedule \\nfor the instrument, which includes a projected \\nfixed amount for each contingent payment. In \\ngeneral, holders and issuers accrue OID on this \\nprojected payment schedule using the constant \\nyield method that applies to fixed payment debt \\ninstruments. When the actual amount of a con-\\ntingent payment differs from the projected fixed \\namount, the holders and issuers make adjust-\\nments to their OID accruals. If the actual contin-\\ngent payment is larger than expected, both the \\nissuer and the holder increase their OID ac-\\ncruals. If the actual contingent payment is \\nsmaller than expected, holders and issuers \\ngenerally decrease their OID accruals.\\nForm 1099 -OID. The amount shown on Form \\n1099- OID in box 1 you receive for a contingent \\npayment debt instrument may not be the correct \\namount to include in income. For example, the \\namount may not be correct if the actual amount \\nof the contingent payment was different from \\nthe projected amount. If the amount in box 1 is \\nnot correct, you must figure the OID to report on \\nyour return under the following rules. For infor-\\nmation on showing an OID adjustment on your \\ntax return, see How To Report OID , earlier.\\nFiguring OID.  To figure OID on a contingent \\npayment debt instrument, you need to know the \\n“comparable yield” and “projected payment \\nschedule” of the debt instrument. The issuer \\nmust make these available to you.\\nComparable yield.  The comparable yield \\nis generally the yield at which the issuer would \\nissue a fixed rate debt instrument with terms \\nand conditions similar to those of the contingent \\npayment debt instrument. The comparable yield \\nis determined as of the debt instrument's issue \\ndate.\\nProjected payment schedule. The projec-\\nted payment schedule for a contingent payment \\ndebt instrument includes all fixed payments due \\nunder the instrument and a projected fixed Page 10 of 18  Fileid: … ns/p1212/202301/a/xml/cycle06/source 12:46 - 31-Mar-2023\\nThe type and rule above prints on all proofs including departmental reproduction proofs. MUST be removed before printing.\\nPage 10 Publication 1212 (January 2023)\", start_char_idx=None, end_char_idx=None, text_template='{metadata_str}\\n\\n{content}', metadata_template='{key}: {value}', metadata_seperator='\\n'),\n",
       " Document(id_='a8c02acd-57d2-41e9-afc3-33335107f425', embedding=None, metadata={'page_label': '11', 'file_name': 'p1212.pdf'}, excluded_embed_metadata_keys=[], excluded_llm_metadata_keys=[], relationships={}, hash='6efea87923f01bdcc195ca4390a0189e10796f9dd20f5e7f7f20bfac689ec5fb', text=\"amount for each contingent payment. The pro-\\njected payment schedule is created by the is-\\nsuer as of the debt instrument's issue date. It is \\nused to determine the issuer's and holder's in-\\nterest accruals and adjustments.\\nSteps for figuring OID.  Figure the OID on \\na contingent payment debt instrument in two \\nsteps.\\n1.Figure the OID using the Constant yield \\nmethod  (discussed earlier under Debt In-\\nstruments Issued After 1984 ) that applies \\nto fixed payment debt instruments. Use \\nthe comparable yield as the YTM. In gen-\\neral, use the projected payment schedule \\nto determine the instrument's adjusted is-\\nsue price at the beginning of each accrual \\nperiod (other than the initial period). Do \\nnot treat any amount payable as qualified \\nstated interest.\\n2.Adjust the OID in (1) to account for the ac-\\ntual contingent payments. If the actual \\namount of the contingent payment is \\ngreater than the projected fixed amount, \\nyou have a positive adjustment. If the con-\\ntingent payment is less than the projected \\nfixed amount, you have a negative adjust-\\nment.\\nNet positive adjustment.  A net positive \\nadjustment exists for a tax year when the total \\nof any positive adjustments described in (2) \\nabove for the tax year is more than the total of \\nany negative adjustments for the tax year. Treat \\na net positive adjustment as additional OID for \\nthe tax year.\\nNet negative adjustment.  A net negative \\nadjustment exists for a tax year when the total \\nof any negative adjustments described in (2) \\nabove for the tax year is more than the total of \\nany positive adjustments for the tax year. Use a \\nnet negative adjustment to offset OID on the \\ndebt instrument for the tax year. If the net nega-\\ntive adjustment is more than the OID on the \\ndebt instrument for the tax year, you can claim \\nthe difference as an ordinary loss. However, the \\namount you can claim as an ordinary loss is \\nlimited to the OID on the debt instrument you in-\\ncluded in income in prior tax years. You must \\ncarry forward any net negative adjustment that \\nis more than the total OID for the tax year and \\nprior tax years and treat it as a negative adjust-\\nment in the next tax year.\\nBasis adjustments.  In general, increase your \\nbasis in a contingent payment debt instrument \\nby the OID included in income. Your basis, \\nhowever, is not affected by any negative or pos-\\nitive adjustments. Decrease your basis by any \\nnoncontingent payment received and the pro-\\njected contingent payment scheduled to be re-\\nceived.\\nTreatment of gain or loss on sale or ex-\\nchange. If you sell a contingent payment debt \\ninstrument at a gain, your gain is ordinary in-\\ncome (interest income), even if you hold the \\ndebt instrument as a capital asset. If you sell a \\ncontingent payment debt instrument at a loss, \\nyour loss is an ordinary loss to the extent of \\nyour prior OID accruals on the debt instrument. \\nIf the debt instrument is a capital asset, treat any loss that is more than your prior OID ac-\\ncruals as a capital loss.\\nSee Regulations section 1. 1275- 4(b) for ex-\\nceptions to these rules.\\nPremium, acquisition premium, and market \\ndiscount. The rules for accruing premium, ac-\\nquisition premium, and market discount do not \\napply to a contingent payment debt instrument. \\nSee Regulations section 1. 1275- 4(b) to deter-\\nmine how to account for these items.\\nInflation-Indexed Debt Instruments\\nThis discussion shows how you figure OID on \\ncertain inflation -indexed debt instruments is-\\nsued after January 5, 1997. An inflation-indexed \\ndebt instrument is generally a debt instrument \\non which the payments are adjusted for inflation \\nand deflation (such as TIPS).\\nIn general, if you hold an inflation -indexed \\ndebt instrument, you must report as OID any in-\\ncrease in the inflation-adjusted principal amount \\nof the debt instrument that occurs while you \\nheld the debt instrument during the tax year. \\nYou must include the OID in gross income \\nwhether or not you hold the debt instrument as \\na capital asset. Your basis in the debt instru-\\nment is increased by the OID you include in in-\\ncome.\\nInflation- indexed debt instruments acquired \\non or after January 1, 2016, are “covered secur-\\nities.” Dispositions of covered and noncovered \\nsecurities must be reported on Form 8949.\\nInflation- adjusted principal amount.  For any \\ndate, the inflation -adjusted principal amount of \\nan inflation -indexed debt instrument is the debt \\ninstrument's outstanding principal amount multi-\\nplied by the index ratio for that date. (For TIPS, \\nmultiply the par value by the index ratio for that \\ndate.) For this purpose, determine the outstand-\\ning principal amount as if there were no inflation \\nor deflation over the term of the debt instru-\\nment.\\nIndex ratio.  This is a fraction, the numera-\\ntor of which is the value of the reference index \\nfor the date and the denominator of which is the \\nvalue of the reference index for the debt instru-\\nment's issue date.\\nA qualified reference index measures infla-\\ntion and deflation over the term of a debt instru-\\nment. Its value is reset each month to a current \\nvalue of a single qualified inflation index (for ex-\\nample, the non -seasonally adjusted U.S. City \\nAverage All Items Consumer Price Index for All \\nUrban Consumers (CPI -U), published by the \\nDepartment of Labor ). The value of the index \\nfor any date between reset dates is determined \\nthrough straight-line interpolation.\\nThe daily index ratios for TIPS are \\navailable on the Internet at \\nTreasuryDirect.gov/instit/annceresult/\\ntipscpi/tipscpi.htm .\\nForm 1099 -OID. The amount shown in box 8 \\nof the Form 1099 -OID you receive for an infla-\\ntion- indexed debt instrument may not be the \\ncorrect amount to include in income. For exam-\\nple, the amount may not be correct if you \\nbought the debt instrument other than at original \\nissue or sold it during the year. If the amount \\nshown in box 8 is not correct, you must figure \\nthe OID to report on your return under the fol-\\nlowing rules. For information about showing an \\nOID adjustment on your tax return, see How To \\nReport OID , earlier.\\nFiguring OID.  Figure the OID on an infla-\\ntion- indexed debt instrument using one of the \\nfollowing methods.\\n•The coupon bond method , described in \\nthe following discussion, applies if the debt \\ninstrument is issued at par (as determined \\nunder Regulations section 1.1275-7(d)(2)\\n(i)), all stated interest payable on the debt \\ninstrument is qualified stated interest, and \\nthe coupons have not been stripped from \\nthe debt instrument. This method applies \\nto TIPS, including TIPS issued with more \\nthan a de minimis amount of premium (see \\nRegulations section 1.1275-7).\\n•The discount bond method  applies to \\nany inflation-indexed debt instrument that \\ndoes not qualify for the coupon bond \\nmethod, such as a stripped debt instru-\\nment. This method is described in Regula-\\ntions section 1.1275-7(e).\\nUnder the coupon bond method, figure the \\nOID you must report for the tax year as follows.\\nDebt instrument held at the end of the \\ntax year.  If you held the debt instrument at the \\nend of the tax year, figure your OID for the year \\nusing the following steps.\\n1.Add the inflation-adjusted principal \\namount for the day after the last day of the \\ntax year and any principal payments you \\nreceived during the year. (For TIPS, multi-\\nply the par value by the index ratio for the \\nday after the last day of the tax year, and \\nadd any principal payments received.)\\n2.Subtract from (1) above the inflation-ad-\\njusted principal amount for the first day on \\nwhich you held the debt instrument during \\nthe tax year. (For TIPS, subtract from (1) \\nabove the product of the par value times \\nthe index ratio for the first day held during \\nthe tax year.)\\nInterest is reported separately, as discussed \\nlater under Stated interest , later.\\nDebt instrument sold or retired during \\nthe tax year.  If you sold the debt instrument \\nduring the tax year, or if it was retired, figure \\nyour OID for the year using the following steps.\\n1.Add the inflation-adjusted principal \\namount for the last day on which you held \\nthe debt instrument during the tax year \\nand any principal payments you received \\nduring the year. (For TIPS, multiply the par \\nvalue by the index ratio for the sale or re-\\ntirement date, and add any principal pay-\\nments received.)\\n2.Subtract from (1) above the inflation-ad-\\njusted principal amount for the first day on \\nwhich you held the debt instrument during \\nthe tax year. (For TIPS, subtract from (1) \\nabove the product of the par value times \\nthe index ratio for the first day held during \\nthe tax year.)Page 11 of 18  Fileid: … ns/p1212/202301/a/xml/cycle06/source 12:46 - 31-Mar-2023\\nThe type and rule above prints on all proofs including departmental reproduction proofs. MUST be removed before printing.\\nPublication 1212 (January 2023)   Page 11\", start_char_idx=None, end_char_idx=None, text_template='{metadata_str}\\n\\n{content}', metadata_template='{key}: {value}', metadata_seperator='\\n'),\n",
       " Document(id_='b03f0f7e-cb48-455f-a0e5-774f6160e025', embedding=None, metadata={'page_label': '12', 'file_name': 'p1212.pdf'}, excluded_embed_metadata_keys=[], excluded_llm_metadata_keys=[], relationships={}, hash='2039465631fc8405027646c457235283db44fb7ff9a533abf3d7260dfd845881', text=\"Interest is reported separately, as discussed \\nlater under Stated interest , later\\nExample 8.  On February 6 of Year 9, you \\nbought an old 10 -year, 3.375% (0.03375) infla-\\ntion- indexed debt instrument (maturing January \\n15 of Year 11) for $9,831. The stated principal \\n(par value) amount is $10,000 and the infla-\\ntion- adjusted principal amount for February 6 of \\nYear 9 is $12,047.50 ($10,000 par value times \\n1.20475 index ratio). You held the debt instru-\\nment until August 29 of Year 9 when the infla-\\ntion- adjusted principal amount was $12,275. 70 \\n($10,000 par value times 1.22757 index ratio). \\nYour OID for Year 9 is $228.20 ($12,275.70 − \\n$12,047. 50). Your basis in the debt instrument \\non August 29 of Year 9 was $10,059. 20 ($9,831 \\ncost + $228.20 OID) for Year 9.\\nStated interest.  Under the coupon bond \\nmethod, you report any stated interest on the \\ndebt instrument under your regular method of \\naccounting. For example, if you use the cash \\nmethod, you generally include in income for the \\ntax year any interest payments received on the \\ndebt instrument during the year.\\nDeflation adjustments.  If your calculation to \\nfigure OID on an inflation -indexed debt instru-\\nment produces a negative number, you do not \\nhave any OID. Instead, you have a deflation ad-\\njustment. A deflation adjustment is generally \\nused to offset interest income from the debt in-\\nstrument for the tax year. Show this offset as an \\nadjustment on your Schedule B (Form 1040) in \\nthe same way you would show an OID adjust-\\nment. See How To Report OID , earlier.\\nYou decrease your basis in the debt instru-\\nment by the deflation adjustment used to offset \\ninterest income.\\nExample 9.  Assume the same facts as in \\nExample 8 , except that you bought the debt in-\\nstrument for $9,831 on January 6 of Year 9, \\nwhen the inflation -adjusted principal amount \\nwas $12,050.10, and sold the debt instrument \\non March 1 of Year 9, when the inflation -adjus-\\nted principal amount was $12,011.20. Because \\nthe OID calculation for Year 9 ($12,011.20 − \\n$12,050. 10) produces a negative number (neg-\\native $38.90), you have a deflation adjustment. \\nYou use this deflation adjustment to offset the \\nstated interest reported to you on the debt in-\\nstrument.\\nYour basis in the debt instrument on March \\n1 of Year 9 is $9,792.10 ($9,831 cost − $38. 90 \\ndeflation adjustment).\\nPremium on inflation -indexed debt instru-\\nments. In general, any premium on an infla-\\ntion- indexed debt instrument is determined as \\nof the date you acquire the debt instrument by \\nassuming there will be no further inflation or de-\\nflation over the remaining term of the debt in-\\nstrument. You allocate any premium over the \\nremaining term of the debt instrument by mak-\\ning the same assumption. In general, the pre-\\nmium allocable to a tax year offsets the interest \\notherwise includible in income for the year. If \\nthe premium allocable to the year is more than \\nthat interest, the difference generally offsets the \\nOID on the debt instrument for the year. See \\nRegulations section 1. 1275- 7 for an example \\napplying the coupon bond method to a TIPS is-sued with more than a de minimis amount of \\npremium.\\nFiguring OID on Stripped \\nBonds and Coupons\\nIf you strip one or more coupons from a bond \\nand then sell or otherwise dispose of the bond \\nor the stripped coupons, they are treated as \\nseparate debt instruments issued with OID. The \\nholder of a stripped bond has the right to re-\\nceive the principal (redemption price) payment. \\nThe holder of a stripped coupon has the right to \\nreceive an interest payment on the bond. The \\nrule requiring the holder of a debt instrument is-\\nsued with OID to include the OID in gross in-\\ncome as it accrues applies to stripped bonds \\nand coupons acquired after July 1, 1982. See \\nDebt Instruments and Coupons Purchased Af-\\nter July 1, 1982, and Before 1985  or Debt In-\\nstruments and Coupons Purchased After 1984 , \\nlater, for information about figuring the OID to \\nreport.\\nStripped bonds and coupons include the fol-\\nlowing instruments.\\n•Zero coupon bonds available through the \\nDepartment of the Treasury's STRIPS pro-\\ngram and government-sponsored enterpri-\\nses such as the Resolution Funding Cor-\\nporation and the Financing Corporation.\\n•Debt instruments backed by U.S. Treasury \\nsecurities that represent ownership inter-\\nests in those securities. Examples include \\nobligations backed by U.S. Treasury \\nbonds that are offered primarily by broker-\\nage firms (variously called CATS, TIGRs, \\netc.).\\nSeller of stripped bonds or coupons.  If you \\nstrip coupons from a bond and sell the bond or \\ncoupons, include in income the interest that ac-\\ncrued while you held the bond before the date \\nof sale to the extent the interest was not previ-\\nously included in your income. For an obligation \\nacquired after October 22, 1986, you must also \\ninclude the market discount that accrued before \\nthe date of sale of the stripped bond (or cou-\\npon) to the extent the discount was not previ-\\nously included in your income.\\nAdd the interest and market discount you in-\\nclude in income to the basis of the bond and \\ncoupons. This adjusted basis is then allocated \\nbetween the items you keep and the items you \\nsell, based on the fair market value of the items. \\nThe difference between the sale price of the \\nbond (or coupon) and the allocated basis of the \\nbond (or coupon) is the gain or loss from the \\nsale.\\nTreat any item you keep as an OID bond \\noriginally issued and purchased by you on the \\nsale date of the other items. If you keep the \\nbond, treat the excess of the redemption price \\nof the bond over the basis of the bond as OID. If \\nyou keep the coupons, treat the excess of the \\namount payable on the coupons over the basis \\nof the coupons as OID.\\nPurchaser of stripped bonds or coupons.  If \\nyou purchase a stripped bond or coupon, treat it \\nas if it were originally issued on the date of pur-\\nchase. If you purchase the stripped bond, treat \\nas OID any excess of the stated redemption \\nprice at maturity over your purchase price. If you purchase the stripped coupon, treat as OID \\nany excess of the amount payable on the due \\ndate of the coupon over your purchase price.\\nForm 1099-OID\\nThe amount shown in box 8 of the Form \\n1099- OID you receive for a stripped bond or \\ncoupon may not be the proper amount to in-\\nclude in income. If not, you must figure the OID \\nto report on your return under the rules that fol-\\nlow. For information about showing an OID ad-\\njustment on your tax return, see How To Report \\nOID, earlier.\\nTax-Exempt Bonds and Coupons\\nThe OID on a stripped tax -exempt bond, or on a \\nstripped coupon from such a bond, is generally \\nnot taxable. However, if you acquired the strip-\\nped bond or coupon after October 22, 1986, \\nyou must accrue OID on it to determine its basis \\nwhen you dispose of it. How you figure accrued \\nOID and whether any OID is taxable depend on \\nthe date you bought (or are treated as having \\nbought) the stripped bond or coupon.\\nAcquired before June 11, 1987.  None of the \\nOID on bonds or coupons acquired before this \\ndate is taxable. The accrued OID is added to \\nthe basis of the bond or coupon. The accrued \\nOID is the amount that produces a YTM, based \\non your purchase date and purchase price, \\nequal to the lower of the following rates.\\n1.The coupon rate on the bond before the \\nseparation of coupons. (However, if you \\ncan establish the YTM of the bond (with all \\ncoupons attached) at the time of its origi-\\nnal issue, you can use that YTM instead.)\\n2.The YTM of the stripped bond or coupon.\\nIncrease your basis in the stripped tax -ex-\\nempt bond or coupon by the interest that ac-\\ncrued but was neither paid nor previously re-\\nflected in your basis before the date you sold \\nthe bond or coupon.\\nAcquired after June 10, 1987.  Part of the \\nOID on bonds or coupons acquired after this \\ndate may be taxable. Figure the taxable part in \\nthree steps.\\nStep 1. Figure OID as if all taxable.  First, \\nfigure the OID following the rules in this section \\nas if all the OID were taxable. (See Debt Instru-\\nments and Coupons Purchased After 1984 , \\nlater.) Use the YTM based on the date you ob-\\ntained the stripped bond or coupon.\\nStep 2. Determine nontaxable part.  Find \\nthe issue price that would produce a YTM as of \\nthe purchase date equal to the lower of the fol-\\nlowing rates.\\n1.The coupon rate on the bond from which \\nthe coupons were separated. (However, \\nyou can use the original YTM instead.)\\n2.The YTM based on the purchase date and \\npurchase price of the stripped coupon or \\nbond.\\nSubtract this issue price from the stated re-\\ndemption price of the bond at maturity (or, in the \\ncase of a coupon, the amount payable on the Page 12 of 18  Fileid: … ns/p1212/202301/a/xml/cycle06/source 12:46 - 31-Mar-2023\\nThe type and rule above prints on all proofs including departmental reproduction proofs. MUST be removed before printing.\\nPage 12 Publication 1212 (January 2023)\", start_char_idx=None, end_char_idx=None, text_template='{metadata_str}\\n\\n{content}', metadata_template='{key}: {value}', metadata_seperator='\\n'),\n",
       " Document(id_='8b74e25c-8331-4143-a51e-525892617951', embedding=None, metadata={'page_label': '13', 'file_name': 'p1212.pdf'}, excluded_embed_metadata_keys=[], excluded_llm_metadata_keys=[], relationships={}, hash='ebecd3092ddab6947f2de9442ee50588ca5af7589b6b61b0a093f104f0914446', text=\"due date of the coupon). The result is the part of \\nthe OID treated as nontaxable OID on a strip-\\nped tax-exempt bond or coupon.\\nStep 3. Determine taxable part.  The taxa-\\nble part of OID is the OID determined in Step 1 \\nminus the nontaxable part determined in Step \\n2.\\nException. None of the OID on your strip-\\nped tax -exempt bond or coupon is taxable if \\nyou bought it from a person who held it for sale \\non June 10, 1987, in the ordinary course of that \\nperson's trade or business.\\nBasis adjustment.  Increase the basis of \\nyour stripped tax -exempt bond or coupon by \\nthe taxable and nontaxable accrued OID. If you \\nown a tax- exempt bond from which one or more \\ncoupons have been stripped, increase your ba-\\nsis in it by the sum of the interest accrued but \\nnot paid before you dispose of it (and not previ-\\nously reflected in basis) and any accrued mar-\\nket discount to the extent not previously inclu-\\nded in your income.\\nExample 10.  Assume that a tax -exempt \\nbond with a face amount of $100 due January 1 \\nof Year 4 and a coupon rate of 10% (0. 10) \\n(compounded semiannually) was issued for \\n$100 on January 1 of Year 1. On January 1 of \\nYear 2, the bond was stripped and you bought \\nthe right to receive the principal amount for \\n$79. 21. The stripped bond is treated as if it was \\noriginally issued on January 1 of Year 2 with \\nOID of $20.79 ($100.00 − $79.21). This reflects \\na YTM at the time of the strip of 12% (0. 12) \\n(compounded semiannually). The tax -exempt \\npart of OID on the stripped bond is limited to \\n$17. 73. This is the difference between the re-\\ndemption price ($100) and the issue price that \\nwould produce a YTM of 10% (0.10) ($82. 27). \\nThis part of the OID is treated as OID on a \\ntax-exempt obligation.\\nThe OID on the stripped bond that is more \\nthan the tax -exempt part is $3.06. This is the \\nexcess of the total OID ($20.79) over the \\ntax-exempt part ($17.73). This part of the OID \\n($3.06) is treated as OID on an obligation that is \\nnot tax-exempt.\\nThe total OID allocable to the accrual period \\nending June 30 of Year 2 is $4.75 (6% (0.06) × \\n$79. 21). Of this, $4.11 (5% (0.05) × $82.27) is \\ntreated as OID on a tax -exempt obligation and \\n$0.64 ($4.75 − $4.11) is treated as OID on an \\nobligation that is not tax -exempt. Your basis in \\nthe debt instrument as of June 30 of Year 2 is \\nincreased to $83.96 ($79.21 purchase price + \\naccrued OID of $4.75).\\nDebt Instruments and Coupons \\nPurchased After July 1, 1982, and \\nBefore 1985\\nIf you purchased a stripped bond or coupon af-\\nter July 1, 1982, and before 1985, and you held \\nthat debt instrument as a capital asset during \\nany part of a calendar year, you must figure the \\nOID to be included in income using a constant \\nyield method. Under this method, OID is alloca-\\nted over the time you hold the debt instrument \\nby adjusting the acquisition price for each ac-\\ncrual period. The OID for the accrual period is \\nfigured by multiplying the adjusted acquisition \\nprice at the beginning of the period by the YTM.Adjusted acquisition price.  The adjusted ac-\\nquisition price of a stripped bond or coupon at \\nthe beginning of the first accrual period is its \\npurchase (or acquisition) price. The adjusted \\nacquisition price at the beginning of any subse-\\nquent accrual period is the sum of the acquisi-\\ntion price and all of the OID includible in income \\nbefore that accrual period.\\nAccrual period.  An accrual period for any \\nstripped bond or coupon acquired before 1985 \\nis each year period beginning on the date of the \\npurchase of the obligation and each anniver-\\nsary thereafter, or the shorter period to maturity \\nfor the last accrual period.\\nYield to maturity (YTM).  In general, the YTM \\nof a stripped bond or coupon is the discount \\nrate that, when used in figuring the present \\nvalue of all principal and interest payments, pro-\\nduces an amount equal to the acquisition price \\nof the debt instrument or coupon.\\nFiguring YTM.  If you purchased a stripped \\nbond or coupon after July 1, 1982, but before \\n1985, and the period from your purchase date \\nto the day the debt instrument matures can be \\ndivided exactly into full 1 -year periods without \\nincluding a shorter period, then the YTM can be \\nfigured by applying the following formula.\\n1\\nm\\nsrp\\nap() –1\\nsrp =stated redemption price at maturity\\nap =acquisition price\\nm=number of full accrual periods from \\npurchase to maturity\\nIf the debt instrument is a stripped coupon, \\nthe stated redemption price is the amount paya-\\nble on the due date of the coupon.\\nIf the period between your purchase date \\nand the maturity date (or due date) of the debt \\ninstrument does not divide into an exact num-\\nber of full 1 -year periods, so that a period \\nshorter than 1 year must be included, consult \\nyour broker or your tax advisor for information \\nabout figuring the YTM.\\nDaily OID.  The OID for any accrual period is \\nallocated equally to each day in the accrual pe-\\nriod. You figure the amount to include in income \\nby adding the daily OID amounts for each day \\nyou hold the debt instrument during the year. If \\nyour tax year includes parts of more than one \\naccrual period (which will be the case unless \\nthe accrual period coincides with your tax year), \\nyou must include the proper daily OID amounts \\nfor each of the two accrual periods.\\nThe daily OID for the initial accrual period is \\nfigured by applying the following formula.\\n(ap × ytm)\\np\\nap =acquisition price\\nytm =yield to maturity\\np=number of days in accrual periodThe daily OID for subsequent accrual peri-\\nods is figured in the same way, except the ad-\\njusted acquisition price at the beginning of each \\nperiod is used in the formula instead of the ac-\\nquisition price.\\nThe rules for figuring OID on these debt in-\\nstruments are similar to those in Debt Instru-\\nments Issued After July 1, 1982, and Before \\n1985 , earlier.\\nDebt Instruments and Coupons \\nPurchased After 1984\\nIf you purchased a stripped bond or coupon \\n(other than a stripped inflation -indexed debt in-\\nstrument) after 1984, and you held that debt in-\\nstrument during any part of a calendar year, you \\nmust figure the OID to be included in income \\nusing a constant yield method. Under this \\nmethod, OID is allocated over the time you hold \\nthe debt instrument by adjusting the acquisition \\nprice for each accrual period. The OID for the \\naccrual period is figured by multiplying the ad-\\njusted acquisition price at the beginning of the \\nperiod by a fraction. The numerator of the frac-\\ntion is the debt instrument's YTM, and the de-\\nnominator is the number of accrual periods per \\nyear.\\nIf the stripped bond or coupon is an infla-\\ntion- indexed instrument, you must figure the \\nOID to be included in income using the discount \\nbond method described in Regulations section \\n1.1275-7(e).\\nAdjusted acquisition price.  The adjusted ac-\\nquisition price of a stripped bond or coupon at \\nthe beginning of the first accrual period is its \\npurchase (or acquisition) price. The adjusted \\nacquisition price at the beginning of any subse-\\nquent accrual period is the sum of the acquisi-\\ntion price and all of the OID includible in income \\nbefore that accrual period.\\nAccrual period.  For a stripped bond or cou-\\npon acquired after 1984, and before April 4, \\n1994, an accrual period is each 6 -month period \\nthat ends on the day that corresponds to the \\nstated maturity date of the stripped bond (or \\npayment date of a stripped coupon) or the date \\n6 months before that date. For example, a strip-\\nped bond that has a maturity date (or a stripped \\ncoupon that has a payment date) of March 31 \\nhas accrual periods that end on September 30 \\nand March 31 of each calendar year. Any short \\nperiod is included as the first accrual period.\\nFor a stripped bond or coupon acquired af-\\nter April 3, 1994, accrual periods may be of any \\nlength and may vary in length over the term of \\nthe debt instrument, as long as each accrual \\nperiod is no longer than 1 year and all payments \\nare made on the first or last day of an accrual \\nperiod.\\nYield to maturity (YTM).  In general, the YTM \\nof a stripped bond or coupon is the discount \\nrate that, when used in figuring the present \\nvalue of all principal and interest payments, pro-\\nduces an amount equal to the acquisition price.\\nFiguring YTM.  How you figure the YTM for \\na stripped debt instrument or coupon pur-\\nchased after 1984 depends on whether you Page 13 of 18  Fileid: … ns/p1212/202301/a/xml/cycle06/source 12:46 - 31-Mar-2023\\nThe type and rule above prints on all proofs including departmental reproduction proofs. MUST be removed before printing.\\nPublication 1212 (January 2023)   Page 13\", start_char_idx=None, end_char_idx=None, text_template='{metadata_str}\\n\\n{content}', metadata_template='{key}: {value}', metadata_seperator='\\n'),\n",
       " Document(id_='5830d294-b6d3-479b-81e1-cf66aa0943d4', embedding=None, metadata={'page_label': '14', 'file_name': 'p1212.pdf'}, excluded_embed_metadata_keys=[], excluded_llm_metadata_keys=[], relationships={}, hash='a65fe2a81f312bbe28f5342653b63c5ce9dea4a8e18c2b9592f5049ca3994dd0', text=\"have equal accrual periods or a short initial ac-\\ncrual period.\\n1. Equal accrual periods.  If the period \\nfrom the date you purchased a stripped bond or \\ncoupon to the maturity date can be divided \\nevenly into full accrual periods without including \\na shorter period, you can figure the YTM by us-\\ning the following formula.\\n1\\nm srp\\nap()–1) (×n\\nn=number of accrual periods in 1 year\\nsrp =stated redemption price at maturity\\nap =acquisition price\\nm=number of full accrual periods from \\npurchase to maturity\\nIf the debt instrument is a stripped coupon, \\nthe stated redemption price is the amount paya-\\nble on the due date of the coupon.\\nExample 11.  On May 15 of Year 1, you \\nbought a coupon stripped from a U.S. Treasury \\nbond through the Department of the Treasury's \\nSTRIPS program for $38,000. An amount of \\n$100,000 is payable on the coupon's due date, \\nNovember 14 of Year 13. There are exactly 25 \\n6-month periods between the purchase date, \\nMay 15 of Year 1, and the coupon's due date, \\nNovember 14 of Year 13. The YTM on this strip-\\nped coupon is figured as follows.\\n$100,000\\n$38,000() ) (×2\\n= 2×(1.03946 -1) = 0.07892 = 7.892%1\\n25\\n–1\\nUse 7.892% (0.07892) YTM to figure the \\nOID for each accrual period or partial accrual \\nperiod for which you must report OID.\\n2. Short initial accrual period.  If the pe-\\nriod from the date you purchased a stripped \\nbond or coupon to the date of its maturity can-\\nnot be divided evenly into accrual periods, so \\nthat a shorter period must be included, you can \\nfigure the YTM by using the following formula \\n(the exact method).\\nsrp\\nap()–1) (×n1\\n+mr\\ns()\\nn=number of accrual periods in 1 year\\nsrp =stated redemption price at maturity\\nap =acquisition price\\nr=number of days from purchase to end of \\nshort accrual period\\ns=number of days in accrual period ending on \\nlast day of short accrual period\\nm=number of full accrual periods from \\npurchase to maturity\\nExample 12.  On May 30 of Year 1, you \\nbought a coupon stripped from a U.S. Treasury \\nbond through the Department of the Treasury's \\nSTRIPS program for $60,000. $100,000 is payable on the coupon's due date, August 11 of \\nYear 7. You decide to figure OID using 6 -month \\naccrual periods. There are 12 full 6 -month ac-\\ncrual periods and a 74 -day short initial accrual \\nperiod from the purchase date to the coupon's \\ndue date. The YTM on this stripped coupon is \\nfigured as follows.\\n1\\n+12( )\\n2 ×(($100,000 /$60,000) -1)\\n= 2 ×(1.04203 -1)=0.08406 = 8.406%(74/181)\\nUse 8.406% (0.08406) YTM to figure the \\nOID for each accrual period or partial accrual \\nperiod for which you must report OID.\\nDaily OID.  The OID for any accrual period is \\nallocated equally to each day in the accrual pe-\\nriod. You must include in income the sum of the \\ndaily OID amounts for each day you hold the \\ndebt instrument during the year. Since your tax \\nyear will usually include parts of two or more ac-\\ncrual periods, you must include the proper daily \\nOID amounts for each accrual period.\\nFiguring daily OID.  For the initial accrual \\nperiod of a stripped bond or coupon acquired \\nafter 1984, figure the daily OID using Formula 1 , \\nlater, if there are equal accrual periods. Use \\nFormula 2 , later, if there is a short initial accrual \\nperiod.\\nFor subsequent accrual periods, figure the \\ndaily OID using Formula 1  (whether or not there \\nwas a short initial accrual period), but use the \\nadjusted acquisition price in the formula instead \\nof the acquisition price.\\nFormula 1. \\nap × ytm/n\\np\\nFormula 2. \\nr\\ns\\nap x (1 + ytm/n)  − ap\\n r\\nap =acquisition price\\nytm =yield to maturity\\nn=number of accrual periods in 1 year\\np=number of days in accrual period\\nr=number of days from purchase to end of \\nshort accrual period\\ns=number of days in accrual period ending on \\nlast day of short accrual period\\nThe rules for figuring OID on these debt in-\\nstruments are similar to those illustrated in Ex-\\nample 5  and Example 6 , earlier, under Debt In-\\nstruments Issued After 1984 .\\nExample 13.  Assume the same facts as in \\nExample 12  and that you held the coupon for \\nthe rest of Year 1.\\nFor the short initial accrual period from May \\n30 through August 11, the daily OID is figured \\nusing Formula 2 , as follows.74\\n181\\n$60,000 × (1 + 0.08406/2)  − $60,000\\n    74\\n=$1,018.48\\n= $13.7632774\\nThe OID for this period is $1,018. 48 \\n($13.76327 × 74 days).\\nFor the second accrual period from August \\n12 of Year 1 through February 11 of Year 2, the \\nadjusted acquisition price is $61,018.48. This is \\nthe original $60,000 acquisition price plus \\n$1,018. 48 OID for the short initial accrual pe-\\nriod. The daily OID is figured using Formula 1 , \\nas follows.\\n$61,018.48 × (0.08406/2)\\n   184\\n=$2,564.60671\\n= $13.93808184\\nThe OID for the part of this period included \\nin Year 1 (August 12–December 31) is \\n$1,979.21 ($13.93808 × 142 days).\\nThe OID to be reported on your income tax \\nreturn for Year 1 is $2,997.69 ($1,018.48 + \\n$1,979.21).\\nFinal accrual period.  The OID for the final \\naccrual period for a stripped bond or coupon is \\nthe amount payable at maturity of the stripped \\nbond (or interest payable on the stripped cou-\\npon) minus the adjusted acquisition price at the \\nbeginning of the final accrual period. The daily \\nOID for the final accrual period is figured by di-\\nviding the OID for the period by the number of \\ndays in the period.\\nHow To Get Tax Help\\nIf you have questions about a tax issue; need \\nhelp preparing your tax return; or want to down-\\nload free publications, forms, or instructions, go \\nto IRS.gov  to find resources that can help you \\nright away.\\nPreparing and filing your tax return.  After \\nreceiving all your wage and earnings state-\\nments (Forms W-2, W-2G, 1099-R, 1099-MISC, \\n1099- NEC, etc.); unemployment compensation \\nstatements (by mail or in a digital format) or \\nother government payment statements (Form \\n1099- G); and interest, dividend, and retirement \\nstatements from banks and investment firms \\n(Forms 1099), you have several options to \\nchoose from to prepare and file your tax return. \\nYou can prepare the tax return yourself, see if \\nyou qualify for free tax preparation, or hire a tax \\nprofessional to prepare your return.\\nFree options for tax preparation.  Go to \\nIRS.gov  to see your options for preparing and \\nfiling your return online or in your local commun-\\nity, if you qualify, which include the following.\\n•Free File.  This program lets you prepare \\nand file your federal individual income tax \\nreturn for free using brand-name Page 14 of 18  Fileid: … ns/p1212/202301/a/xml/cycle06/source 12:46 - 31-Mar-2023\\nThe type and rule above prints on all proofs including departmental reproduction proofs. MUST be removed before printing.\\nPage 14 Publication 1212 (January 2023)\", start_char_idx=None, end_char_idx=None, text_template='{metadata_str}\\n\\n{content}', metadata_template='{key}: {value}', metadata_seperator='\\n'),\n",
       " Document(id_='167d6064-fc5e-4739-87d0-84f0f1653c30', embedding=None, metadata={'page_label': '15', 'file_name': 'p1212.pdf'}, excluded_embed_metadata_keys=[], excluded_llm_metadata_keys=[], relationships={}, hash='9c99ecd6c2dace9ebb4be056ce1a68ed3f10da854551aa3245cb70cb8937dbd1', text=\"tax-preparation-and-filing software or Free \\nFile fillable forms. However, state tax prep-\\naration may not be available through Free \\nFile. Go to IRS.gov/FreeFile  to see if you \\nqualify for free online federal tax prepara-\\ntion, e-filing, and direct deposit or payment \\noptions.\\n•VITA.  The Volunteer Income Tax Assis-\\ntance (VITA) program offers free tax help \\nto people with low-to-moderate incomes, \\npersons with disabilities, and limited-Eng-\\nlish-speaking taxpayers who need help \\npreparing their own tax returns. Go to \\nIRS.gov/VITA , download the free IRS2Go \\napp, or call 800-906-9887 for information \\non free tax return preparation.\\n•TCE.  The Tax Counseling for the Elderly \\n(TCE) program offers free tax help for all \\ntaxpayers, particularly those who are 60 \\nyears of age and older. TCE volunteers \\nspecialize in answering questions about \\npensions and retirement-related issues \\nunique to seniors. Go to IRS.gov/TCE , \\ndownload the free IRS2Go app, or call \\n888-227-7669 for information on free tax \\nreturn preparation.\\n•MilTax.  Members of the U.S. Armed \\nForces and qualified veterans may use Mil-\\nTax, a free tax service offered by the De-\\npartment of Defense through Military One-\\nSource. For more information, go to \\nMilitaryOneSource  (MilitaryOneSource.mil/\\nMilTax ).\\nAlso, the IRS offers Free Fillable \\nForms, which can be completed online and \\nthen filed electronically regardless of in-\\ncome.\\nUsing online tools to help prepare your re-\\nturn. Go to IRS.gov/Tools  for the following.\\n•The Earned Income Tax Credit Assistant \\n(IRS.gov/EITCAssistant ) determines if \\nyou’re eligible for the earned income credit \\n(EIC).\\n•The Online EIN Application  (IRS.gov/EIN ) \\nhelps you get an employer identification \\nnumber (EIN) at no cost.\\n•The Tax Withholding Estimator  (IRS.gov/\\nW4app ) makes it easier for you to estimate \\nthe federal income tax you want your em-\\nployer to withhold from your paycheck. \\nThis is tax withholding. See how your with-\\nholding affects your refund, take-home \\npay, or tax due.\\n•The First-Time Homebuyer Credit Account \\nLook-up  (IRS.gov/HomeBuyer ) tool pro-\\nvides information on your repayments and \\naccount balance.\\n•The Sales Tax Deduction Calculator \\n(IRS.gov/SalesTax ) figures the amount you \\ncan claim if you itemize deductions on \\nSchedule A (Form 1040).\\nGetting answers to your tax ques-\\ntions.  On IRS.gov, you can get \\nup-to- date information on current \\nevents and changes in tax law.\\n•IRS.gov/Help : A variety of tools to help you \\nget answers to some of the most common \\ntax questions.\\n•IRS.gov/ITA : The Interactive Tax Assistant, \\na tool that will ask you questions and, \\nbased on your input, provide answers on a \\nnumber of tax law topics.\\n•IRS.gov/Forms : Find forms, instructions, \\nand publications. You will find details on \\nthe most recent tax changes and interac-\\ntive links to help you find answers to your \\nquestions.\\n•You may also be able to access tax law in-\\nformation in your electronic filing software.\\nNeed someone to prepare your tax return? \\nThere are various types of tax return preparers, \\nincluding enrolled agents, certified public ac-\\ncountants (CPAs), accountants, and many oth-\\ners who don’t have professional credentials. If \\nyou choose to have someone prepare your tax \\nreturn, choose that preparer wisely. A paid tax \\npreparer is:\\n•Primarily responsible for the overall sub-\\nstantive accuracy of your return,\\n•Required to sign the return, and\\n•Required to include their preparer tax iden-\\ntification number (PTIN).\\nAlthough the tax preparer always signs the \\nreturn, you're ultimately responsible for provid-\\ning all the information required for the preparer \\nto accurately prepare your return. Anyone paid \\nto prepare tax returns for others should have a \\nthorough understanding of tax matters. For \\nmore information on how to choose a tax pre-\\nparer, go to Tips for Choosing a Tax Preparer \\non IRS.gov.\\nCoronavirus. Go to IRS.gov/Coronavirus  for \\nlinks to information on the impact of the corona-\\nvirus, as well as tax relief available for individu-\\nals and families, small and large businesses, \\nand tax-exempt organizations.\\nEmployers can register to use Business \\nServices Online. The Social Security Adminis-\\ntration (SSA) offers online service at SSA.gov/\\nemployer  for fast, free, and secure online W -2 \\nfiling options to CPAs, accountants, enrolled \\nagents, and individuals who process Form W -2, \\nWage and Tax Statement, and Form W -2c, \\nCorrected Wage and Tax Statement.\\nIRS social media.  Go to IRS.gov/SocialMedia \\nto see the various social media tools the IRS \\nuses to share the latest information on tax \\nchanges, scam alerts, initiatives, products, and \\nservices. At the IRS, privacy and security are \\nour highest priority. We use these tools to share \\npublic information with you. Don’t  post your so-\\ncial security number (SSN) or other confidential \\ninformation on social media sites. Always pro-\\ntect your identity when using any social net-\\nworking site.\\nThe following IRS YouTube channels pro-\\nvide short, informative videos on various tax -re-\\nlated topics in English, Spanish, and ASL.\\n•Youtube.com/irsvideos .\\n•Youtube.com/irsvideosmultilingua .\\n•Youtube.com/irsvideosASL .\\nWatching IRS videos.  The IRS Video portal \\n(IRSVideos.gov ) contains video and audio pre-\\nsentations for individuals, small businesses, \\nand tax professionals.\\nOnline tax information in other languages. \\nYou can find information on IRS.gov/\\nMyLanguage  if English isn’t your native lan-\\nguage.Free Over-the- Phone Interpreter (OPI) Serv-\\nice. The IRS is committed to serving our multi-\\nlingual customers by offering OPI services. The \\nOPI Service is a federally funded program and \\nis available at Taxpayer Assistance Centers \\n(TACs), other IRS offices, and every VITA/TCE \\nreturn site. The OPI Service is accessible in \\nmore than 350 languages.\\nAccessibility Helpline available for taxpay-\\ners with disabilities.  Taxpayers who need in-\\nformation about accessibility services can call \\n833-690- 0598. The Accessibility Helpline can \\nanswer questions related to current and future \\naccessibility products and services available in \\nalternative media formats (for example, braille, \\nlarge print, audio, etc.). The Accessibility Help-\\nline does not have access to your IRS account. \\nFor help with tax law, refunds, or account -rela-\\nted issues, go to IRS.gov/LetUsHelp .\\nNote. Form 9000, Alternative Media Prefer-\\nence, or Form 9000(SP) allows you to elect to \\nreceive certain types of written correspondence \\nin the following formats.\\n•Standard Print.\\n•Large Print.\\n•Braille.\\n•Audio (MP3).\\n•Plain Text File (TXT).\\n•Braille Ready File (BRF).\\nDisasters. Go to Disaster Assistance and \\nEmergency Relief for Individuals and \\nBusinesses  to review the available disaster tax \\nrelief.\\nGetting tax forms and publications.  Go to \\nIRS.gov/Forms  to view, download, or print all \\nthe forms, instructions, and publications you \\nmay need. Or, you can go to IRS.gov/\\nOrderForms  to place an order.\\nGetting tax publications and instructions in \\neBook format.  You can also download and \\nview popular tax publications and instructions \\n(including the Instructions for Form 1040) on \\nmobile devices as eBooks at IRS.gov/eBooks .\\nNote. IRS eBooks have been tested using \\nApple's iBooks for iPad. Our eBooks haven’t \\nbeen tested on other dedicated eBook readers, \\nand eBook functionality may not operate as in-\\ntended.\\nAccess your online account (individual tax-\\npayers only).  Go to IRS.gov/Account  to se-\\ncurely access information about your federal tax \\naccount.\\n•View the amount you owe and a break-\\ndown by tax year.\\n•See payment plan details or apply for a \\nnew payment plan.\\n•Make a payment or view 5 years of pay-\\nment history and any pending or sched-\\nuled payments.\\n•Access your tax records, including key \\ndata from your most recent tax return, and \\ntranscripts.\\n•View digital copies of select notices from \\nthe IRS.Page 15 of 18  Fileid: … ns/p1212/202301/a/xml/cycle06/source 12:46 - 31-Mar-2023\\nThe type and rule above prints on all proofs including departmental reproduction proofs. MUST be removed before printing.\\nPublication 1212 (January 2023)   Page 15\", start_char_idx=None, end_char_idx=None, text_template='{metadata_str}\\n\\n{content}', metadata_template='{key}: {value}', metadata_seperator='\\n'),\n",
       " Document(id_='415d0df8-8d8d-4db7-a410-a209775bd625', embedding=None, metadata={'page_label': '16', 'file_name': 'p1212.pdf'}, excluded_embed_metadata_keys=[], excluded_llm_metadata_keys=[], relationships={}, hash='17998f57a2bf844a24edde6f70de803c8454c2f60210938d6060acf4fe9f7e4f', text='•Approve or reject authorization requests \\nfrom tax professionals.\\n•View your address on file or manage your \\ncommunication preferences.\\nTax Pro Account.  This tool lets your tax pro-\\nfessional submit an authorization request to ac-\\ncess your individual taxpayer IRS online \\naccount . For more information, go to IRS.gov/\\nTaxProAccount .\\nUsing direct deposit.  The fastest way to re-\\nceive a tax refund is to file electronically and \\nchoose direct deposit, which securely and elec-\\ntronically transfers your refund directly into your \\nfinancial account. Direct deposit also avoids the \\npossibility that your check could be lost, stolen, \\ndestroyed, or returned undeliverable to the IRS. \\nEight in 10 taxpayers use direct deposit to re-\\nceive their refunds. If you don’t have a bank ac-\\ncount, go to IRS.gov/DirectDeposit  for more in-\\nformation on where to find a bank or credit \\nunion that can open an account online.\\nGetting a transcript of your return.  The \\nquickest way to get a copy of your tax transcript \\nis to go to IRS.gov/Transcripts . Click on either \\n“Get Transcript Online” or “Get Transcript by \\nMail” to order a free copy of your transcript. If \\nyou prefer, you can order your transcript by call-\\ning 800-908-9946.\\nReporting and resolving your tax -related \\nidentity theft issues. \\n•Tax-related identity theft happens when \\nsomeone steals your personal information \\nto commit tax fraud. Your taxes can be af-\\nfected if your SSN is used to file a fraudu-\\nlent return or to claim a refund or credit.\\n•The IRS doesn’t initiate contact with tax-\\npayers by email, text messages (including \\nshortened links), telephone calls, or social \\nmedia channels to request or verify per-\\nsonal or financial information. This in-\\ncludes requests for personal identification \\nnumbers (PINs), passwords, or similar in-\\nformation for credit cards, banks, or other \\nfinancial accounts.\\n•Go to IRS.gov/IdentityTheft , the IRS Iden-\\ntity Theft Central webpage, for information \\non identity theft and data security protec-\\ntion for taxpayers, tax professionals, and \\nbusinesses. If your SSN has been lost or \\nstolen or you suspect you’re a victim of \\ntax-related identity theft, you can learn \\nwhat steps you should take.\\n•Get an Identity Protection PIN (IP PIN). IP \\nPINs are six-digit numbers assigned to tax-\\npayers to help prevent the misuse of their \\nSSNs on fraudulent federal income tax re-\\nturns. When you have an IP PIN, it pre-\\nvents someone else from filing a tax return \\nwith your SSN. To learn more, go to \\nIRS.gov/IPPIN .\\nWays to check on the status of your refund. \\n•Go to IRS.gov/Refunds .\\n•Download the official IRS2Go app to your \\nmobile device to check your refund status.\\n•Call the automated refund hotline at \\n800-829-1954.\\nNote. The IRS can’t issue refunds before \\nmid- February for returns that claimed the EIC or the additional child tax credit (ACTC). This ap-\\nplies to the entire refund, not just the portion as-\\nsociated with these credits.\\nMaking a tax payment.  Go to IRS.gov/\\nPayments  for information on how to make a \\npayment using any of the following options.\\n•IRS Direct Pay : Pay your individual tax bill \\nor estimated tax payment directly from \\nyour checking or savings account at no \\ncost to you.\\n•Debit or Credit Card : Choose an approved \\npayment processor to pay online or by \\nphone.\\n•Electronic Funds Withdrawal : Schedule a \\npayment when filing your federal taxes us-\\ning tax return preparation software or \\nthrough a tax professional.\\n•Electronic Federal Tax Payment System : \\nBest option for businesses. Enrollment is \\nrequired.\\n•Check or Money Order : Mail your payment \\nto the address listed on the notice or in-\\nstructions.\\n•Cash : You may be able to pay your taxes \\nwith cash at a participating retail store.\\n•Same-Day Wire : You may be able to do \\nsame-day wire from your financial institu-\\ntion. Contact your financial institution for \\navailability, cost, and time frames.\\nNote. The IRS uses the latest encryption \\ntechnology to ensure that the electronic pay-\\nments you make online, by phone, or from a \\nmobile device using the IRS2Go app are safe \\nand secure. Paying electronically is quick, easy, \\nand faster than mailing in a check or money or-\\nder.\\nWhat if I can’t pay now?  Go to IRS.gov/\\nPayments  for more information about your op-\\ntions.\\n•Apply for an online payment agreement \\n(IRS.gov/OPA ) to meet your tax obligation \\nin monthly installments if you can’t pay \\nyour taxes in full today. Once you complete \\nthe online process, you will receive imme-\\ndiate notification of whether your agree-\\nment has been approved.\\n•Use the Offer in Compromise Pre-Qualifier \\nto see if you can settle your tax debt for \\nless than the full amount you owe. For \\nmore information on the Offer in Compro-\\nmise program, go to IRS.gov/OIC .\\nFiling an amended return.  Go to IRS.gov/\\nForm1040X  for information and updates.\\nChecking the status of your amended re-\\nturn. Go to IRS.gov/WMAR  to track the status \\nof Form 1040-X amended returns.\\nNote. It can take up to 3 weeks from the \\ndate you filed your amended return for it to \\nshow up in our system, and processing it can \\ntake up to 16 weeks.\\nUnderstanding an IRS notice or letter \\nyou’ve received.  Go to IRS.gov/Notices  to \\nfind additional information about responding to \\nan IRS notice or letter.Note. You can use Schedule LEP (Form \\n1040), Request for Change in Language Prefer-\\nence, to state a preference to receive notices, \\nletters, or other written communications from \\nthe IRS in an alternative language. You may not \\nimmediately receive written communications in \\nthe requested language. The IRS’s commitment \\nto LEP taxpayers is part of a multi -year timeline \\nthat is scheduled to begin providing translations \\nin 2023. You will continue to receive communi-\\ncations, including notices and letters in English \\nuntil they are translated to your preferred lan-\\nguage.\\nContacting your local IRS office.  Keep in \\nmind, many questions can be answered on \\nIRS.gov without visiting an IRS TAC. Go to \\nIRS.gov/LetUsHelp  for the topics people ask \\nabout most. If you still need help, IRS TACs \\nprovide tax help when a tax issue can’t be han-\\ndled online or by phone. All TACs now provide \\nservice by appointment, so you’ll know in ad-\\nvance that you can get the service you need \\nwithout long wait times. Before you visit, go to \\nIRS.gov/TACLocator  to find the nearest TAC \\nand to check hours, available services, and ap-\\npointment options. Or, on the IRS2Go app, un-\\nder the Stay Connected tab, choose the Con-\\ntact Us option and click on “Local Offices.”\\nThe Taxpayer Advocate \\nService (TAS) Is Here To \\nHelp You\\nWhat Is TAS?\\nTAS is an independent  organization within the \\nIRS that helps taxpayers and protects taxpayer \\nrights. Their job is to ensure that every taxpayer \\nis treated fairly and that you know and under-\\nstand your rights under the Taxpayer Bill of \\nRights .\\nHow Can You Learn About Your \\nTaxpayer Rights?\\nThe Taxpayer Bill of Rights describes 10 basic \\nrights that all taxpayers have when dealing with \\nthe IRS. Go to TaxpayerAdvocate.IRS.gov  to \\nhelp you understand what these rights mean to \\nyou and how they apply. These are your  rights. \\nKnow them. Use them.\\nWhat Can TAS Do for You?\\nTAS can help you resolve problems that you \\ncan’t resolve with the IRS. And their service is \\nfree. If you qualify for their assistance, you will \\nbe assigned to one advocate who will work with \\nyou throughout the process and will do every-\\nthing possible to resolve your issue. TAS can \\nhelp you if:\\n•Your problem is causing financial difficulty \\nfor you, your family, or your business;\\n•You face (or your business is facing) an \\nimmediate threat of adverse action; or\\n•You’ve tried repeatedly to contact the IRS \\nbut no one has responded, or the IRS \\nhasn’t responded by the date promised.Page 16 of 18  Fileid: … ns/p1212/202301/a/xml/cycle06/source 12:46 - 31-Mar-2023\\nThe type and rule above prints on all proofs including departmental reproduction proofs. MUST be removed before printing.\\nPage 16 Publication 1212 (January 2023)', start_char_idx=None, end_char_idx=None, text_template='{metadata_str}\\n\\n{content}', metadata_template='{key}: {value}', metadata_seperator='\\n'),\n",
       " Document(id_='b9708ab2-d558-400d-97fb-85915fc6f7ed', embedding=None, metadata={'page_label': '17', 'file_name': 'p1212.pdf'}, excluded_embed_metadata_keys=[], excluded_llm_metadata_keys=[], relationships={}, hash='705cd77a14534955c6f50a770eb1d5972c65442764a64df0e0b8918bf2395c21', text='How Can You Reach TAS?\\nTAS has offices in every state, the District of \\nColumbia, and Puerto Rico . Your local advo-\\ncate’s number is in your local directory and at \\nTaxpayerAdvocate.IRS.gov/Contact-Us . You \\ncan also call them at 877-777-4778.\\nHow Else Does TAS Help \\nTaxpayers?\\nTAS works to resolve large -scale problems that \\naffect many taxpayers. If you know of one of \\nthese broad issues, report it to them at IRS.gov/\\nSAMS .TAS for Tax Professionals\\nTAS can provide a variety of information for tax \\nprofessionals, including tax law updates and \\nguidance, TAS programs, and ways to let TAS \\nknow about systemic problems you’ve seen in \\nyour practice.\\nLow Income Taxpayer \\nClinics (LITCs)\\nLITCs are independent from the IRS. LITCs \\nrepresent individuals whose income is below a \\ncertain level and need to resolve tax problems with the IRS, such as audits, appeals, and tax \\ncollection disputes. In addition, LITCs can pro-\\nvide information about taxpayer rights and re-\\nsponsibilities in different languages for individu-\\nals who speak English as a second language. \\nServices are offered for free or a small fee for \\neligible taxpayers. To find an LITC near you, go \\nto TaxpayerAdvocate.IRS.gov/about-us/Low-\\nIncome-Taxpayer-Clinics-LITC  or see IRS Pub. \\n4134, Low Income Taxpayer Clinic List .Page 17 of 18  Fileid: … ns/p1212/202301/a/xml/cycle06/source 12:46 - 31-Mar-2023\\nThe type and rule above prints on all proofs including departmental reproduction proofs. MUST be removed before printing.\\nPublication 1212 (January 2023)   Page 17', start_char_idx=None, end_char_idx=None, text_template='{metadata_str}\\n\\n{content}', metadata_template='{key}: {value}', metadata_seperator='\\n'),\n",
       " Document(id_='f0c161a0-5468-452d-82a6-c41500a4b1a5', embedding=None, metadata={'page_label': '18', 'file_name': 'p1212.pdf'}, excluded_embed_metadata_keys=[], excluded_llm_metadata_keys=[], relationships={}, hash='db6fe6c8aef6a3506c3e3ea409a308792e2fef163930bfac96b216c2e869641a', text='To help us develop a more useful index, please let us know if you have ideas for index entries.\\nSee “Comments and Suggestions” in the “Introduction” for the ways you can reach us.\\n Index\\n \\nA\\nAccrual period 2\\nAcquisition premium 2\\nAdjusted issue price 2\\nAssistance  (See Tax help)\\nB\\nBackup withholding 5\\nBearer bonds and coupons 5\\nBrokers  (See Information for \\nbrokers and other middlemen)\\nC\\nCertificates of deposit 5\\nContingent payment debt \\ninstruments 10\\nD\\nDebt instrument 3\\nDebt instruments :\\nLong-term 4\\nShort-term 4\\nDebt instruments and coupons \\npurchased after 1984 13\\nDebt instruments and coupons \\npurchased after July 1, 1982, \\nand before 1985 13\\nDebt Instruments in the OID \\ntables 3Debt instruments issued after \\n1984 9\\nDebt instruments issued after \\nJuly 1, 1982, and before \\n1985 8\\nDebt instruments not in the OID \\ntables 3\\nDefinitions 2\\nAccrual period 2\\nAcquisition premium 2\\nAdjusted issue price 2\\nDebt instrument 3\\nIssue price 3\\nMarket discount 3\\nOriginal issue discount (OID) 2\\nPremium 3\\nQualified stated interest 3\\nStated redemption price at \\nmaturity 3\\nYield to maturity 3\\nE\\nElectronic payee statements 4\\nF\\nForm 4\\nI\\nInflation-indexed debt \\ninstruments 11Information for brokers and other \\nmiddlemen 4\\nInformation for owners of OID \\ndebt instruments 5\\nIssue price 3\\nIssuers of OID debt instruments, \\nInstructions for 2\\nL\\nLong-term debt instruments 4\\nM\\nMarket discount 3\\nO\\nOID on long-term debt \\ninstruments, figuring 7\\nOID on stripped bonds and \\ncoupons, figuring 12\\nOID tables, Debt Instruments \\nin3\\nOID tables, Debt instruments not \\nin3\\nOID, figuring 4\\nUsing section I 4\\nUsing the income tax \\nregulations 4\\nOriginal issue discount (OID) 2\\nOwners of OID debt instruments, \\ninformation for 5P\\nPremium 3\\nPublications  (See Tax help)\\nQ\\nQualified stated interest 3\\nR\\nREMIC and CDO information \\nreporting requirements 2\\nS\\nSection I 3\\nSection II 3\\nSection III 3\\nShort-term obligations redeemed \\nat maturity 4\\nStated redemption price at \\nmaturity 3\\nStripped bonds and coupons, \\nfiguring OID 12\\nT\\nTax help 14\\nY\\nYield to maturity 3, 13Page 18 of 18  Fileid: … ns/p1212/202301/a/xml/cycle06/source 12:46 - 31-Mar-2023\\nThe type and rule above prints on all proofs including departmental reproduction proofs. MUST be removed before printing.\\nPage 18 Publication 1212 (January 2023)', start_char_idx=None, end_char_idx=None, text_template='{metadata_str}\\n\\n{content}', metadata_template='{key}: {value}', metadata_seperator='\\n')]"
      ]
     },
     "execution_count": 12,
     "metadata": {},
     "output_type": "execute_result"
    }
   ],
   "source": [
    "documents"
   ]
  },
  {
   "cell_type": "code",
   "execution_count": 13,
   "id": "d8555b6d-5289-4803-bced-6b2f85dea3da",
   "metadata": {
    "tags": []
   },
   "outputs": [],
   "source": [
    "index = VectorStoreIndex.from_documents(documents, service_context=service_context)"
   ]
  },
  {
   "cell_type": "markdown",
   "id": "805847d9-a2c1-4930-98a9-98126e730000",
   "metadata": {
    "tags": []
   },
   "source": [
    "## Retrieval"
   ]
  },
  {
   "cell_type": "code",
   "execution_count": 14,
   "id": "ace86835-832e-4964-a025-428891aa2c8b",
   "metadata": {},
   "outputs": [
    {
     "name": "stderr",
     "output_type": "stream",
     "text": [
      "/tmp/ipykernel_3579/3231363872.py:7: FutureWarning: Passing a negative integer is deprecated in version 1.0 and will not be supported in future version. Instead, use None to not limit the column width.\n",
      "  pd.set_option(\"display.max_colwidth\", -1)\n"
     ]
    }
   ],
   "source": [
    "from llama_index.retrievers import VectorIndexRetriever\n",
    "from llama_index.indices.query.schema import QueryBundle\n",
    "import pandas as pd\n",
    "from IPython.display import display, HTML\n",
    "\n",
    "\n",
    "pd.set_option(\"display.max_colwidth\", -1)\n",
    "\n",
    "\n",
    "def get_retrieved_nodes(\n",
    "    query_str, vector_top_k=10, reranker_top_n=3, with_reranker=False\n",
    "):\n",
    "    query_bundle = QueryBundle(query_str)\n",
    "    # configure retriever\n",
    "    retriever = VectorIndexRetriever(\n",
    "        index=index,\n",
    "        similarity_top_k=vector_top_k,\n",
    "    )\n",
    "    retrieved_nodes = retriever.retrieve(query_bundle)\n",
    "\n",
    "    if with_reranker:\n",
    "        # configure reranker\n",
    "        reranker = LLMRerank(\n",
    "            choice_batch_size=5, top_n=reranker_top_n, service_context=service_context\n",
    "        )\n",
    "        retrieved_nodes = reranker.postprocess_nodes(retrieved_nodes, query_bundle)\n",
    "\n",
    "    return retrieved_nodes\n",
    "\n",
    "\n",
    "def pretty_print(df):\n",
    "    return display(HTML(df.to_html().replace(\"\\\\n\", \"<br>\")))\n",
    "\n",
    "\n",
    "def visualize_retrieved_nodes(nodes) -> None:\n",
    "    result_dicts = []\n",
    "    for node in nodes:\n",
    "        result_dict = {\"Score\": node.score, \"Text\": node.node.get_text()}\n",
    "        result_dicts.append(result_dict)\n",
    "\n",
    "    pretty_print(pd.DataFrame(result_dicts))\n",
    "    # print_text(Score\n",
    "    #     f'\\n\\n****Score****: {node.score}\\n****Node text****\\n: {node.node.get_text()}',\n",
    "    #     color=\"blue\"\n",
    "    # )"
   ]
  },
  {
   "cell_type": "code",
   "execution_count": 15,
   "id": "20993200-b725-403e-8a79-e2571dab2ebc",
   "metadata": {
    "tags": []
   },
   "outputs": [],
   "source": [
    "new_nodes = get_retrieved_nodes(\n",
    "    \"Who Must File Form 8300?\", vector_top_k=3, with_reranker=False\n",
    ")"
   ]
  },
  {
   "cell_type": "code",
   "execution_count": 16,
   "id": "9dd3bc25-6ef1-46b7-869e-247c83af9d4d",
   "metadata": {
    "tags": []
   },
   "outputs": [
    {
     "data": {
      "text/html": [
       "<table border=\"1\" class=\"dataframe\">\n",
       "  <thead>\n",
       "    <tr style=\"text-align: right;\">\n",
       "      <th></th>\n",
       "      <th>Score</th>\n",
       "      <th>Text</th>\n",
       "    </tr>\n",
       "  </thead>\n",
       "  <tbody>\n",
       "    <tr>\n",
       "      <th>0</th>\n",
       "      <td>0.823670</td>\n",
       "      <td>be-<br>cause the information in the OID tables has <br>generally not been verified by the IRS as cor-<br>rect, the following tax matters are subject to <br>change upon examination by the IRS.<br>•The OID reported by owners of a debt in-<br>strument on their income tax returns.<br>•The issuer's classification of an instrument <br>as debt for federal income tax purposes.<br>•The adjusted basis of a debt instrument.<br>Instructions for issuers of OID debt instru-<br>ments. In general, issuers of publicly offered <br>OID debt instruments must file Form 8281 <br>within 30 days after the date of issuance, and, if <br>registered with the Securities and Exchange <br>Commission (SEC), within 30 days after regis-<br>tration with the SEC. A separate Form 8281 <br>must be filed for each issuance or SEC registra-<br>tion. For more information, see Form 8281 and <br>its instructions.Issuers should report errors in and <br>omissions from the list in writing at the <br>following address:<br>IRS OID Publication Project<br>SE:W:CAR:MP:TFP<br>1111 Constitution Ave. NW, IR-6526<br>Washington, DC 20224<br>REMIC and CDO information reporting re-<br>quirements. Brokers and other middlemen <br>must follow special information reporting re-<br>quirements for real estate mortgage investment <br>conduit (REMIC) regular interests, and collater-<br>alized debt obligation (CDO) interests. The <br>rules are explained in Pub. 938.<br>Holders of interests in REMICs and CDOs <br>should see chapter 1 of Pub. 550  for informa-<br>tion on REMICs and CDOs.<br>Comments and suggestions.  We welcome <br>your comments about this publication and sug-<br>gestions for future editions.<br>You can send us comments through <br>IRS.gov/FormComments . Or, you can write to <br>the Internal Revenue Service, Tax Forms and <br>Publications, 1111 Constitution Ave. NW, <br>IR-6526, Washington, DC</td>\n",
       "    </tr>\n",
       "    <tr>\n",
       "      <th>1</th>\n",
       "      <td>0.820786</td>\n",
       "      <td>OID for each actual owner, showing the <br>OID for the owner. Show the owner of the debt <br>instrument as the “recipient” and you as the <br>“payer.”<br>Complete Form 1099 -OID and Form 1096 <br>and file the forms with the Internal Revenue <br>Service Center for your area. See Where To <br>File in the Instructions for Form 1096. You must <br>also give a copy of the Form 1099 -OID to the <br>actual owner. However, you are not required to <br>file a nominee return to show amounts belong-<br>ing to your spouse. See the Form 1099 -OID in-<br>structions for more information.<br>When preparing your tax return, follow the <br>instructions under Showing an OID adjustment , <br>later.<br>How To Report OID<br>You report your taxable interest and OID in-<br>come on the interest line of Form 1040 or <br>1040-SR.<br>Where to report.  List each payer's name (if a <br>brokerage firm gave you a Form 1099, list the <br>brokerage firm as the payer), and the amount <br>received from each payer on Schedule B (Form <br>1040), line 1. Include all OID and qualified sta-<br>ted interest shown on any Form 1099 -OID, <br>boxes 1, 2, and 8, you received for the tax year. <br>Also include any other OID and interest income <br>for which you did not receive a Form 1099.<br>Showing an OID adjustment.  To report more <br>or less OID than shown in box 1 or box 8 on <br>Form 1099 -OID, list the full OID on Schedule B <br>(Form 1040), Part I, line 1, and follow the in-<br>structions under (1) or (2) next.<br>1.If the OID, as adjusted, is less than the <br>amount shown on Form 1099-OID, show <br>the adjustment as follows.<br>a.Under your last entry on line 1, subto-<br>tal all interest and OID income listed <br>on line 1.<br>b.Below the subtotal, write “Nominee <br>Distribution”</td>\n",
       "    </tr>\n",
       "    <tr>\n",
       "      <th>2</th>\n",
       "      <td>0.806637</td>\n",
       "      <td>•Foreign obligations not traded in the Uni-<br>ted States and obligations not issued in the <br>United States.<br>Information for Brokers <br>and Other Middlemen<br>The following discussions contain specific in-<br>structions for brokers and middlemen who hold <br>or redeem a debt instrument for the owner.<br>In general, you must file a Form 1099 -INT or <br>Form 1099 -OID for the debt instrument if the in-<br>terest or OID to be included in the owner's in-<br>come for a calendar year totals $10 or more. <br>You must also file a Form 1099 -INT or Form <br>1099- OID if you were required to deduct and <br>withhold tax, even if the interest or OID is less <br>than $10. See Backup Withholding , later.<br>If you must file a Form 1099 -INT or Form <br>1099- OID, furnish a copy to the owner of the <br>debt instrument by January 31 in the year it is <br>due, or February 15 in the year it is due if the <br>Form 1099 -INT or Form 1099 -OID is furnished <br>as part of a consolidated reporting statement. <br>File all your Forms 1099 with the IRS, accompa-<br>nied by Form 1096, by February 28 in the year <br>they are due (March 31 if you file electronically).<br>Electronic payee statements.  You can issue <br>Form 1099-INT or Form 1099-OID electronically <br>with the consent of the recipient.<br>More information.  For more information, in-<br>cluding penalties for failure to file (or furnish) re-<br>quired information returns or statements, see <br>the current General Instructions for Certain <br>Information Returns , available at IRS.gov/<br>1099GeneralInstructions .<br>Short-Term Obligations <br>Redeemed at Maturity<br>If you redeem a short -term discount obligation <br>for the owner at maturity, you must report the <br>discount as interest on Form 1099-INT.<br>To figure the discount, use the purchase <br>price shown on the owner's copy of</td>\n",
       "    </tr>\n",
       "  </tbody>\n",
       "</table>"
      ],
      "text/plain": [
       "<IPython.core.display.HTML object>"
      ]
     },
     "metadata": {},
     "output_type": "display_data"
    }
   ],
   "source": [
    "visualize_retrieved_nodes(new_nodes)"
   ]
  },
  {
   "cell_type": "code",
   "execution_count": 17,
   "id": "0ad7d62b-dba9-45d5-896f-4baa9a40edba",
   "metadata": {
    "tags": []
   },
   "outputs": [],
   "source": [
    "new_nodes = get_retrieved_nodes(\n",
    "    \"Who Must File Form 8300?\",\n",
    "    vector_top_k=10,\n",
    "    reranker_top_n=3,\n",
    "    with_reranker=True,\n",
    ")"
   ]
  },
  {
   "cell_type": "code",
   "execution_count": 18,
   "id": "ae22d297-dd3b-4a71-a890-faceafab4e1a",
   "metadata": {
    "tags": []
   },
   "outputs": [
    {
     "data": {
      "text/html": [
       "<table border=\"1\" class=\"dataframe\">\n",
       "  <thead>\n",
       "    <tr style=\"text-align: right;\">\n",
       "      <th></th>\n",
       "      <th>Score</th>\n",
       "      <th>Text</th>\n",
       "    </tr>\n",
       "  </thead>\n",
       "  <tbody>\n",
       "    <tr>\n",
       "      <th>0</th>\n",
       "      <td>10.0</td>\n",
       "      <td>1111 Constitution Ave. NW, <br>IR-6526, Washington, DC 20224.<br>Although we can’t respond individually to <br>each comment received, we do appreciate your <br>feedback and will consider your comments and <br>suggestions as we revise our tax forms, instruc-<br>tions, and publications. Don’t  send tax ques-<br>tions, tax returns, or payments to the above ad-<br>dress.<br>Getting answers to your tax questions. <br>If you have a tax question not answered by this <br>publication or the How To Get Tax Help  section <br>at the end of this publication, go to the IRS In-<br>teractive Tax Assistant page at IRS.gov/<br>Help/ITA  where you can find topics by using the <br>search feature or viewing the categories listed.<br>Getting tax forms, instructions, and pub-<br>lications. Go to  IRS.gov/Forms  to download <br>current and prior -year forms, instructions, and <br>publications.<br>Ordering tax forms, instructions, and <br>publications. Go to IRS.gov/OrderForms  to <br>order current forms, instructions, and publica-<br>tions; call 800 -829- 3676 to order prior -year <br>forms and instructions. The IRS will process <br>your order for forms and publications as soon <br>as possible. Don’t resubmit requests you’ve al-<br>ready sent us. You can get forms and publica-<br>tions faster online.<br>Useful Items<br>You may want to see:<br>Publication<br>515 Withholding of Tax on Nonresident <br>Aliens and Foreign Entities<br>550 Investment Income and Expenses<br>938 Real Estate Mortgage Investment <br>Conduits (REMICs) Reporting <br>Information (And Other Collateralized <br>Debt Obligations (CDOs))<br>  515<br>  550<br>  938Form (and Instructions)<br>1096 Annual Summary and Transmittal of <br>U.S. Information Returns<br>1099-B Proceeds From Broker and Barter <br>Exchange Transactions<br>1099-INT Interest</td>\n",
       "    </tr>\n",
       "    <tr>\n",
       "      <th>1</th>\n",
       "      <td>8.0</td>\n",
       "      <td>•Foreign obligations not traded in the Uni-<br>ted States and obligations not issued in the <br>United States.<br>Information for Brokers <br>and Other Middlemen<br>The following discussions contain specific in-<br>structions for brokers and middlemen who hold <br>or redeem a debt instrument for the owner.<br>In general, you must file a Form 1099 -INT or <br>Form 1099 -OID for the debt instrument if the in-<br>terest or OID to be included in the owner's in-<br>come for a calendar year totals $10 or more. <br>You must also file a Form 1099 -INT or Form <br>1099- OID if you were required to deduct and <br>withhold tax, even if the interest or OID is less <br>than $10. See Backup Withholding , later.<br>If you must file a Form 1099 -INT or Form <br>1099- OID, furnish a copy to the owner of the <br>debt instrument by January 31 in the year it is <br>due, or February 15 in the year it is due if the <br>Form 1099 -INT or Form 1099 -OID is furnished <br>as part of a consolidated reporting statement. <br>File all your Forms 1099 with the IRS, accompa-<br>nied by Form 1096, by February 28 in the year <br>they are due (March 31 if you file electronically).<br>Electronic payee statements.  You can issue <br>Form 1099-INT or Form 1099-OID electronically <br>with the consent of the recipient.<br>More information.  For more information, in-<br>cluding penalties for failure to file (or furnish) re-<br>quired information returns or statements, see <br>the current General Instructions for Certain <br>Information Returns , available at IRS.gov/<br>1099GeneralInstructions .<br>Short-Term Obligations <br>Redeemed at Maturity<br>If you redeem a short -term discount obligation <br>for the owner at maturity, you must report the <br>discount as interest on Form 1099-INT.<br>To figure the discount, use the purchase <br>price shown on the owner's copy of</td>\n",
       "    </tr>\n",
       "    <tr>\n",
       "      <th>2</th>\n",
       "      <td>6.0</td>\n",
       "      <td>be-<br>cause the information in the OID tables has <br>generally not been verified by the IRS as cor-<br>rect, the following tax matters are subject to <br>change upon examination by the IRS.<br>•The OID reported by owners of a debt in-<br>strument on their income tax returns.<br>•The issuer's classification of an instrument <br>as debt for federal income tax purposes.<br>•The adjusted basis of a debt instrument.<br>Instructions for issuers of OID debt instru-<br>ments. In general, issuers of publicly offered <br>OID debt instruments must file Form 8281 <br>within 30 days after the date of issuance, and, if <br>registered with the Securities and Exchange <br>Commission (SEC), within 30 days after regis-<br>tration with the SEC. A separate Form 8281 <br>must be filed for each issuance or SEC registra-<br>tion. For more information, see Form 8281 and <br>its instructions.Issuers should report errors in and <br>omissions from the list in writing at the <br>following address:<br>IRS OID Publication Project<br>SE:W:CAR:MP:TFP<br>1111 Constitution Ave. NW, IR-6526<br>Washington, DC 20224<br>REMIC and CDO information reporting re-<br>quirements. Brokers and other middlemen <br>must follow special information reporting re-<br>quirements for real estate mortgage investment <br>conduit (REMIC) regular interests, and collater-<br>alized debt obligation (CDO) interests. The <br>rules are explained in Pub. 938.<br>Holders of interests in REMICs and CDOs <br>should see chapter 1 of Pub. 550  for informa-<br>tion on REMICs and CDOs.<br>Comments and suggestions.  We welcome <br>your comments about this publication and sug-<br>gestions for future editions.<br>You can send us comments through <br>IRS.gov/FormComments . Or, you can write to <br>the Internal Revenue Service, Tax Forms and <br>Publications, 1111 Constitution Ave. NW, <br>IR-6526, Washington, DC</td>\n",
       "    </tr>\n",
       "  </tbody>\n",
       "</table>"
      ],
      "text/plain": [
       "<IPython.core.display.HTML object>"
      ]
     },
     "metadata": {},
     "output_type": "display_data"
    }
   ],
   "source": [
    "visualize_retrieved_nodes(new_nodes)"
   ]
  }
 ],
 "metadata": {
  "availableInstances": [
   {
    "_defaultOrder": 0,
    "_isFastLaunch": true,
    "category": "General purpose",
    "gpuNum": 0,
    "hideHardwareSpecs": false,
    "memoryGiB": 4,
    "name": "ml.t3.medium",
    "vcpuNum": 2
   },
   {
    "_defaultOrder": 1,
    "_isFastLaunch": false,
    "category": "General purpose",
    "gpuNum": 0,
    "hideHardwareSpecs": false,
    "memoryGiB": 8,
    "name": "ml.t3.large",
    "vcpuNum": 2
   },
   {
    "_defaultOrder": 2,
    "_isFastLaunch": false,
    "category": "General purpose",
    "gpuNum": 0,
    "hideHardwareSpecs": false,
    "memoryGiB": 16,
    "name": "ml.t3.xlarge",
    "vcpuNum": 4
   },
   {
    "_defaultOrder": 3,
    "_isFastLaunch": false,
    "category": "General purpose",
    "gpuNum": 0,
    "hideHardwareSpecs": false,
    "memoryGiB": 32,
    "name": "ml.t3.2xlarge",
    "vcpuNum": 8
   },
   {
    "_defaultOrder": 4,
    "_isFastLaunch": true,
    "category": "General purpose",
    "gpuNum": 0,
    "hideHardwareSpecs": false,
    "memoryGiB": 8,
    "name": "ml.m5.large",
    "vcpuNum": 2
   },
   {
    "_defaultOrder": 5,
    "_isFastLaunch": false,
    "category": "General purpose",
    "gpuNum": 0,
    "hideHardwareSpecs": false,
    "memoryGiB": 16,
    "name": "ml.m5.xlarge",
    "vcpuNum": 4
   },
   {
    "_defaultOrder": 6,
    "_isFastLaunch": false,
    "category": "General purpose",
    "gpuNum": 0,
    "hideHardwareSpecs": false,
    "memoryGiB": 32,
    "name": "ml.m5.2xlarge",
    "vcpuNum": 8
   },
   {
    "_defaultOrder": 7,
    "_isFastLaunch": false,
    "category": "General purpose",
    "gpuNum": 0,
    "hideHardwareSpecs": false,
    "memoryGiB": 64,
    "name": "ml.m5.4xlarge",
    "vcpuNum": 16
   },
   {
    "_defaultOrder": 8,
    "_isFastLaunch": false,
    "category": "General purpose",
    "gpuNum": 0,
    "hideHardwareSpecs": false,
    "memoryGiB": 128,
    "name": "ml.m5.8xlarge",
    "vcpuNum": 32
   },
   {
    "_defaultOrder": 9,
    "_isFastLaunch": false,
    "category": "General purpose",
    "gpuNum": 0,
    "hideHardwareSpecs": false,
    "memoryGiB": 192,
    "name": "ml.m5.12xlarge",
    "vcpuNum": 48
   },
   {
    "_defaultOrder": 10,
    "_isFastLaunch": false,
    "category": "General purpose",
    "gpuNum": 0,
    "hideHardwareSpecs": false,
    "memoryGiB": 256,
    "name": "ml.m5.16xlarge",
    "vcpuNum": 64
   },
   {
    "_defaultOrder": 11,
    "_isFastLaunch": false,
    "category": "General purpose",
    "gpuNum": 0,
    "hideHardwareSpecs": false,
    "memoryGiB": 384,
    "name": "ml.m5.24xlarge",
    "vcpuNum": 96
   },
   {
    "_defaultOrder": 12,
    "_isFastLaunch": false,
    "category": "General purpose",
    "gpuNum": 0,
    "hideHardwareSpecs": false,
    "memoryGiB": 8,
    "name": "ml.m5d.large",
    "vcpuNum": 2
   },
   {
    "_defaultOrder": 13,
    "_isFastLaunch": false,
    "category": "General purpose",
    "gpuNum": 0,
    "hideHardwareSpecs": false,
    "memoryGiB": 16,
    "name": "ml.m5d.xlarge",
    "vcpuNum": 4
   },
   {
    "_defaultOrder": 14,
    "_isFastLaunch": false,
    "category": "General purpose",
    "gpuNum": 0,
    "hideHardwareSpecs": false,
    "memoryGiB": 32,
    "name": "ml.m5d.2xlarge",
    "vcpuNum": 8
   },
   {
    "_defaultOrder": 15,
    "_isFastLaunch": false,
    "category": "General purpose",
    "gpuNum": 0,
    "hideHardwareSpecs": false,
    "memoryGiB": 64,
    "name": "ml.m5d.4xlarge",
    "vcpuNum": 16
   },
   {
    "_defaultOrder": 16,
    "_isFastLaunch": false,
    "category": "General purpose",
    "gpuNum": 0,
    "hideHardwareSpecs": false,
    "memoryGiB": 128,
    "name": "ml.m5d.8xlarge",
    "vcpuNum": 32
   },
   {
    "_defaultOrder": 17,
    "_isFastLaunch": false,
    "category": "General purpose",
    "gpuNum": 0,
    "hideHardwareSpecs": false,
    "memoryGiB": 192,
    "name": "ml.m5d.12xlarge",
    "vcpuNum": 48
   },
   {
    "_defaultOrder": 18,
    "_isFastLaunch": false,
    "category": "General purpose",
    "gpuNum": 0,
    "hideHardwareSpecs": false,
    "memoryGiB": 256,
    "name": "ml.m5d.16xlarge",
    "vcpuNum": 64
   },
   {
    "_defaultOrder": 19,
    "_isFastLaunch": false,
    "category": "General purpose",
    "gpuNum": 0,
    "hideHardwareSpecs": false,
    "memoryGiB": 384,
    "name": "ml.m5d.24xlarge",
    "vcpuNum": 96
   },
   {
    "_defaultOrder": 20,
    "_isFastLaunch": false,
    "category": "General purpose",
    "gpuNum": 0,
    "hideHardwareSpecs": true,
    "memoryGiB": 0,
    "name": "ml.geospatial.interactive",
    "supportedImageNames": [
     "sagemaker-geospatial-v1-0"
    ],
    "vcpuNum": 0
   },
   {
    "_defaultOrder": 21,
    "_isFastLaunch": true,
    "category": "Compute optimized",
    "gpuNum": 0,
    "hideHardwareSpecs": false,
    "memoryGiB": 4,
    "name": "ml.c5.large",
    "vcpuNum": 2
   },
   {
    "_defaultOrder": 22,
    "_isFastLaunch": false,
    "category": "Compute optimized",
    "gpuNum": 0,
    "hideHardwareSpecs": false,
    "memoryGiB": 8,
    "name": "ml.c5.xlarge",
    "vcpuNum": 4
   },
   {
    "_defaultOrder": 23,
    "_isFastLaunch": false,
    "category": "Compute optimized",
    "gpuNum": 0,
    "hideHardwareSpecs": false,
    "memoryGiB": 16,
    "name": "ml.c5.2xlarge",
    "vcpuNum": 8
   },
   {
    "_defaultOrder": 24,
    "_isFastLaunch": false,
    "category": "Compute optimized",
    "gpuNum": 0,
    "hideHardwareSpecs": false,
    "memoryGiB": 32,
    "name": "ml.c5.4xlarge",
    "vcpuNum": 16
   },
   {
    "_defaultOrder": 25,
    "_isFastLaunch": false,
    "category": "Compute optimized",
    "gpuNum": 0,
    "hideHardwareSpecs": false,
    "memoryGiB": 72,
    "name": "ml.c5.9xlarge",
    "vcpuNum": 36
   },
   {
    "_defaultOrder": 26,
    "_isFastLaunch": false,
    "category": "Compute optimized",
    "gpuNum": 0,
    "hideHardwareSpecs": false,
    "memoryGiB": 96,
    "name": "ml.c5.12xlarge",
    "vcpuNum": 48
   },
   {
    "_defaultOrder": 27,
    "_isFastLaunch": false,
    "category": "Compute optimized",
    "gpuNum": 0,
    "hideHardwareSpecs": false,
    "memoryGiB": 144,
    "name": "ml.c5.18xlarge",
    "vcpuNum": 72
   },
   {
    "_defaultOrder": 28,
    "_isFastLaunch": false,
    "category": "Compute optimized",
    "gpuNum": 0,
    "hideHardwareSpecs": false,
    "memoryGiB": 192,
    "name": "ml.c5.24xlarge",
    "vcpuNum": 96
   },
   {
    "_defaultOrder": 29,
    "_isFastLaunch": true,
    "category": "Accelerated computing",
    "gpuNum": 1,
    "hideHardwareSpecs": false,
    "memoryGiB": 16,
    "name": "ml.g4dn.xlarge",
    "vcpuNum": 4
   },
   {
    "_defaultOrder": 30,
    "_isFastLaunch": false,
    "category": "Accelerated computing",
    "gpuNum": 1,
    "hideHardwareSpecs": false,
    "memoryGiB": 32,
    "name": "ml.g4dn.2xlarge",
    "vcpuNum": 8
   },
   {
    "_defaultOrder": 31,
    "_isFastLaunch": false,
    "category": "Accelerated computing",
    "gpuNum": 1,
    "hideHardwareSpecs": false,
    "memoryGiB": 64,
    "name": "ml.g4dn.4xlarge",
    "vcpuNum": 16
   },
   {
    "_defaultOrder": 32,
    "_isFastLaunch": false,
    "category": "Accelerated computing",
    "gpuNum": 1,
    "hideHardwareSpecs": false,
    "memoryGiB": 128,
    "name": "ml.g4dn.8xlarge",
    "vcpuNum": 32
   },
   {
    "_defaultOrder": 33,
    "_isFastLaunch": false,
    "category": "Accelerated computing",
    "gpuNum": 4,
    "hideHardwareSpecs": false,
    "memoryGiB": 192,
    "name": "ml.g4dn.12xlarge",
    "vcpuNum": 48
   },
   {
    "_defaultOrder": 34,
    "_isFastLaunch": false,
    "category": "Accelerated computing",
    "gpuNum": 1,
    "hideHardwareSpecs": false,
    "memoryGiB": 256,
    "name": "ml.g4dn.16xlarge",
    "vcpuNum": 64
   },
   {
    "_defaultOrder": 35,
    "_isFastLaunch": false,
    "category": "Accelerated computing",
    "gpuNum": 1,
    "hideHardwareSpecs": false,
    "memoryGiB": 61,
    "name": "ml.p3.2xlarge",
    "vcpuNum": 8
   },
   {
    "_defaultOrder": 36,
    "_isFastLaunch": false,
    "category": "Accelerated computing",
    "gpuNum": 4,
    "hideHardwareSpecs": false,
    "memoryGiB": 244,
    "name": "ml.p3.8xlarge",
    "vcpuNum": 32
   },
   {
    "_defaultOrder": 37,
    "_isFastLaunch": false,
    "category": "Accelerated computing",
    "gpuNum": 8,
    "hideHardwareSpecs": false,
    "memoryGiB": 488,
    "name": "ml.p3.16xlarge",
    "vcpuNum": 64
   },
   {
    "_defaultOrder": 38,
    "_isFastLaunch": false,
    "category": "Accelerated computing",
    "gpuNum": 8,
    "hideHardwareSpecs": false,
    "memoryGiB": 768,
    "name": "ml.p3dn.24xlarge",
    "vcpuNum": 96
   },
   {
    "_defaultOrder": 39,
    "_isFastLaunch": false,
    "category": "Memory Optimized",
    "gpuNum": 0,
    "hideHardwareSpecs": false,
    "memoryGiB": 16,
    "name": "ml.r5.large",
    "vcpuNum": 2
   },
   {
    "_defaultOrder": 40,
    "_isFastLaunch": false,
    "category": "Memory Optimized",
    "gpuNum": 0,
    "hideHardwareSpecs": false,
    "memoryGiB": 32,
    "name": "ml.r5.xlarge",
    "vcpuNum": 4
   },
   {
    "_defaultOrder": 41,
    "_isFastLaunch": false,
    "category": "Memory Optimized",
    "gpuNum": 0,
    "hideHardwareSpecs": false,
    "memoryGiB": 64,
    "name": "ml.r5.2xlarge",
    "vcpuNum": 8
   },
   {
    "_defaultOrder": 42,
    "_isFastLaunch": false,
    "category": "Memory Optimized",
    "gpuNum": 0,
    "hideHardwareSpecs": false,
    "memoryGiB": 128,
    "name": "ml.r5.4xlarge",
    "vcpuNum": 16
   },
   {
    "_defaultOrder": 43,
    "_isFastLaunch": false,
    "category": "Memory Optimized",
    "gpuNum": 0,
    "hideHardwareSpecs": false,
    "memoryGiB": 256,
    "name": "ml.r5.8xlarge",
    "vcpuNum": 32
   },
   {
    "_defaultOrder": 44,
    "_isFastLaunch": false,
    "category": "Memory Optimized",
    "gpuNum": 0,
    "hideHardwareSpecs": false,
    "memoryGiB": 384,
    "name": "ml.r5.12xlarge",
    "vcpuNum": 48
   },
   {
    "_defaultOrder": 45,
    "_isFastLaunch": false,
    "category": "Memory Optimized",
    "gpuNum": 0,
    "hideHardwareSpecs": false,
    "memoryGiB": 512,
    "name": "ml.r5.16xlarge",
    "vcpuNum": 64
   },
   {
    "_defaultOrder": 46,
    "_isFastLaunch": false,
    "category": "Memory Optimized",
    "gpuNum": 0,
    "hideHardwareSpecs": false,
    "memoryGiB": 768,
    "name": "ml.r5.24xlarge",
    "vcpuNum": 96
   },
   {
    "_defaultOrder": 47,
    "_isFastLaunch": false,
    "category": "Accelerated computing",
    "gpuNum": 1,
    "hideHardwareSpecs": false,
    "memoryGiB": 16,
    "name": "ml.g5.xlarge",
    "vcpuNum": 4
   },
   {
    "_defaultOrder": 48,
    "_isFastLaunch": false,
    "category": "Accelerated computing",
    "gpuNum": 1,
    "hideHardwareSpecs": false,
    "memoryGiB": 32,
    "name": "ml.g5.2xlarge",
    "vcpuNum": 8
   },
   {
    "_defaultOrder": 49,
    "_isFastLaunch": false,
    "category": "Accelerated computing",
    "gpuNum": 1,
    "hideHardwareSpecs": false,
    "memoryGiB": 64,
    "name": "ml.g5.4xlarge",
    "vcpuNum": 16
   },
   {
    "_defaultOrder": 50,
    "_isFastLaunch": false,
    "category": "Accelerated computing",
    "gpuNum": 1,
    "hideHardwareSpecs": false,
    "memoryGiB": 128,
    "name": "ml.g5.8xlarge",
    "vcpuNum": 32
   },
   {
    "_defaultOrder": 51,
    "_isFastLaunch": false,
    "category": "Accelerated computing",
    "gpuNum": 1,
    "hideHardwareSpecs": false,
    "memoryGiB": 256,
    "name": "ml.g5.16xlarge",
    "vcpuNum": 64
   },
   {
    "_defaultOrder": 52,
    "_isFastLaunch": false,
    "category": "Accelerated computing",
    "gpuNum": 4,
    "hideHardwareSpecs": false,
    "memoryGiB": 192,
    "name": "ml.g5.12xlarge",
    "vcpuNum": 48
   },
   {
    "_defaultOrder": 53,
    "_isFastLaunch": false,
    "category": "Accelerated computing",
    "gpuNum": 4,
    "hideHardwareSpecs": false,
    "memoryGiB": 384,
    "name": "ml.g5.24xlarge",
    "vcpuNum": 96
   },
   {
    "_defaultOrder": 54,
    "_isFastLaunch": false,
    "category": "Accelerated computing",
    "gpuNum": 8,
    "hideHardwareSpecs": false,
    "memoryGiB": 768,
    "name": "ml.g5.48xlarge",
    "vcpuNum": 192
   },
   {
    "_defaultOrder": 55,
    "_isFastLaunch": false,
    "category": "Accelerated computing",
    "gpuNum": 8,
    "hideHardwareSpecs": false,
    "memoryGiB": 1152,
    "name": "ml.p4d.24xlarge",
    "vcpuNum": 96
   },
   {
    "_defaultOrder": 56,
    "_isFastLaunch": false,
    "category": "Accelerated computing",
    "gpuNum": 8,
    "hideHardwareSpecs": false,
    "memoryGiB": 1152,
    "name": "ml.p4de.24xlarge",
    "vcpuNum": 96
   }
  ],
  "instance_type": "ml.t3.medium",
  "kernelspec": {
   "display_name": "Python 3 (Data Science 3.0)",
   "language": "python",
   "name": "python3__SAGEMAKER_INTERNAL__arn:aws:sagemaker:us-east-1:081325390199:image/sagemaker-data-science-310-v1"
  },
  "language_info": {
   "codemirror_mode": {
    "name": "ipython",
    "version": 3
   },
   "file_extension": ".py",
   "mimetype": "text/x-python",
   "name": "python",
   "nbconvert_exporter": "python",
   "pygments_lexer": "ipython3",
   "version": "3.10.6"
  }
 },
 "nbformat": 4,
 "nbformat_minor": 5
}
